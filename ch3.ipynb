{
 "cells": [
  {
   "cell_type": "markdown",
   "id": "aeda4c20-211e-4dfb-a335-a6ef17da5f4f",
   "metadata": {},
   "source": [
    "## Chapter3"
   ]
  },
  {
   "cell_type": "markdown",
   "id": "53577c7a-ce1a-41c6-9525-0bf4967dce23",
   "metadata": {},
   "source": [
    "print() : 기본 콘솔 출력 함수\n",
    "\n",
    "**OS 콘솔**\n",
    "    - 표준 입출력 수행 pr"
   ]
  },
  {
   "cell_type": "code",
   "execution_count": 2,
   "id": "e7f183f7-f788-4409-a62c-29597a6b2c83",
   "metadata": {},
   "outputs": [
    {
     "name": "stdout",
     "output_type": "stream",
     "text": [
      "안녕\n"
     ]
    }
   ],
   "source": [
    "print(\"안녕\")"
   ]
  },
  {
   "cell_type": "markdown",
   "id": "138b248f-07d8-4511-8631-40342309ac55",
   "metadata": {},
   "source": [
    "p.63"
   ]
  },
  {
   "cell_type": "code",
   "execution_count": 4,
   "id": "0ed4acc0-3ce9-49e4-ab49-22ea52c14bac",
   "metadata": {},
   "outputs": [
    {
     "name": "stdout",
     "output_type": "stream",
     "text": [
      "100\n"
     ]
    }
   ],
   "source": [
    "print(\"100\")"
   ]
  },
  {
   "cell_type": "markdown",
   "id": "4e2961bc-2cdb-4719-bc65-ff11ceb0de3f",
   "metadata": {},
   "source": [
    "### 1. 형식화 문자열 Formatting string\n",
    "\n",
    "    1. % 연결자\n",
    "    3. f 리터럴\n",
    "    2. String.format()"
   ]
  },
  {
   "cell_type": "markdown",
   "id": "37366f21-f60f-4db7-bc6b-056aeb92d602",
   "metadata": {
    "tags": []
   },
   "source": [
    "**1. % 연결자**\n",
    "\n",
    "\n",
    "형식 \n",
    "\n",
    "    %d(10), %x(16), %o(8): 정수형 ,\n",
    "    %f: 실수형 ,\n",
    "    %c: 문자 ,\n",
    "    %s: 문자열"
   ]
  },
  {
   "cell_type": "code",
   "execution_count": 8,
   "id": "84c7bb8a-8dd1-4ac6-b8f1-5a8d69f6889c",
   "metadata": {},
   "outputs": [
    {
     "name": "stdout",
     "output_type": "stream",
     "text": [
      "입력 100는 평균입니다.\n"
     ]
    }
   ],
   "source": [
    "print(\"입력 %d는 평균입니다.\" %100)"
   ]
  },
  {
   "cell_type": "code",
   "execution_count": 9,
   "id": "980edda3-0eeb-4a3c-8af2-0798dd73035e",
   "metadata": {},
   "outputs": [
    {
     "name": "stdout",
     "output_type": "stream",
     "text": [
      "입력 100는 50의 평균이고 곱셈은 100+50=5000입니다.\n"
     ]
    }
   ],
   "source": [
    "print(\"입력 %d는 %d의 평균이고 곱셈은 %d+%d=%d입니다.\" %(100,50,100,50,(100*50)))"
   ]
  },
  {
   "cell_type": "code",
   "execution_count": 16,
   "id": "ed1460fd-77fd-44bd-ae2f-6dd70a873daa",
   "metadata": {},
   "outputs": [
    {
     "name": "stdout",
     "output_type": "stream",
     "text": [
      "0\n",
      "0.100000\n"
     ]
    }
   ],
   "source": [
    "print(\"%d\" %0.1)\n",
    "print(\"%f\" %0.1)"
   ]
  },
  {
   "cell_type": "code",
   "execution_count": 18,
   "id": "43c3ec96-c75e-4494-898e-a5ea7df34f4c",
   "metadata": {},
   "outputs": [
    {
     "name": "stdout",
     "output_type": "stream",
     "text": [
      "9 a b c d e\n",
      "10\n"
     ]
    }
   ],
   "source": [
    "print(\"%x %x %x %x %x %x\" %(9,10,11,12,13,14))    #%x : 16진수\n",
    "print(\"%x\" %16)"
   ]
  },
  {
   "cell_type": "code",
   "execution_count": 22,
   "id": "cbe4b018-452e-4dd2-a423-183dd7220162",
   "metadata": {},
   "outputs": [
    {
     "name": "stdout",
     "output_type": "stream",
     "text": [
      "1 3 7 11 12 13\n",
      "10\n"
     ]
    }
   ],
   "source": [
    "print(\"%o %o %o %o %o %o\" %(1,3,7,9,10,11))    #%o : 8진수\n",
    "print(\"%o\" %8)"
   ]
  },
  {
   "cell_type": "markdown",
   "id": "cc50dc06-33fc-4a31-9918-c5f2c73e833d",
   "metadata": {},
   "source": [
    "**2. f 리터럴 방식**"
   ]
  },
  {
   "cell_type": "code",
   "execution_count": 13,
   "id": "ede5690a-7ed2-4b7c-a25f-5e7d8824f2e9",
   "metadata": {},
   "outputs": [
    {
     "name": "stdout",
     "output_type": "stream",
     "text": [
      "입력 100s는 50의 평균이고 곱셈은100*50=5000 입니다.\n"
     ]
    }
   ],
   "source": [
    "print(f\"입력 {100}s는 {50}의 평균이고 곱셈은{100}*{50}={100*50} 입니다.\")"
   ]
  },
  {
   "cell_type": "markdown",
   "id": "12784b3b-1d34-4da5-a6a2-b17bf4a3628a",
   "metadata": {},
   "source": [
    "p.65-67 연습"
   ]
  },
  {
   "cell_type": "code",
   "execution_count": 24,
   "id": "71e28967-7461-4824-87e8-e74060b3eba0",
   "metadata": {},
   "outputs": [
    {
     "name": "stdout",
     "output_type": "stream",
     "text": [
      "123\n",
      "  123\n",
      "00123\n",
      "123.450000\n",
      "  123.5\n",
      "123.450\n",
      "Python\n",
      "    Python\n"
     ]
    }
   ],
   "source": [
    "print(\"%d\" %123)\n",
    "print(\"%5d\" %123)         # 5자릿수 확보 오른쪽 정렬\n",
    "print(\"%05d\" %123)        # 빈칸 0 채움\n",
    "\n",
    "print(\"%f\" %123.45)       # 소수점 아래 여섯자리 출력 기본\n",
    "print(\"%7.1f\" %123.45)    # 소수점 아래 첫째 자리 + 반올림\n",
    "print(\"%7.3f\" %123.45)    # 소수점 아래 셋째 자리 + 빈칸 0\n",
    "\n",
    "print(\"%s\" %\"Python\")\n",
    "print(\"%10s\" %\"Python\")"
   ]
  },
  {
   "cell_type": "markdown",
   "id": "f06896c9-75c3-4de5-a1bf-c88245c68353",
   "metadata": {},
   "source": [
    "**3. fornat() 문자열**"
   ]
  },
  {
   "cell_type": "code",
   "execution_count": 27,
   "id": "717281c4-94f2-431f-aa58-d4d69c400354",
   "metadata": {},
   "outputs": [
    {
     "name": "stdout",
     "output_type": "stream",
     "text": [
      "123   123 00123\n",
      "123   123 00123\n",
      "567   234 00123\n"
     ]
    }
   ],
   "source": [
    "print(\"%d %5d %05d\" % (123,123,123))\n",
    "\n",
    "print(\"{0:d} {1:5d} {2:05d}\".format(123,123,123))\n",
    "\n",
    "print(\"{2:d} {1:5d} {0:05d}\".format(123,234,567))"
   ]
  },
  {
   "cell_type": "code",
   "execution_count": null,
   "id": "ed7421b9-d319-45ff-b3a9-844b5fd56fa1",
   "metadata": {},
   "outputs": [],
   "source": []
  },
  {
   "cell_type": "markdown",
   "id": "00a1fcd6-43e2-478a-a408-e6e4396e669a",
   "metadata": {},
   "source": [
    "### 2.이스케이프 문자 : \\n\n",
    "\n",
    "    1. \\n : Enter\n",
    "    2. \\t : Tab\n",
    "    3. \\b : Backspace\n",
    "    4. \\\\ : \\출력\n",
    "    5. \\' & \\\" : ' & \" 출력"
   ]
  },
  {
   "cell_type": "code",
   "execution_count": 28,
   "id": "615a27ed-e2ce-43ab-931e-7bfbdf23505d",
   "metadata": {},
   "outputs": [
    {
     "name": "stdout",
     "output_type": "stream",
     "text": [
      "\n",
      "줄바꿈\n",
      "연습\n"
     ]
    }
   ],
   "source": [
    "print(\"\\n줄바꿈\\n연습\")"
   ]
  },
  {
   "cell_type": "code",
   "execution_count": 32,
   "id": "5714f44f-2570-4419-bf8d-cdac92da3bdf",
   "metadata": {},
   "outputs": [
    {
     "name": "stdout",
     "output_type": "stream",
     "text": [
      "\t탭키\t연습\n",
      "----\t----\t----\n",
      "\n",
      "종류----\n"
     ]
    }
   ],
   "source": [
    "print(\"\\t탭키\\t연습\")\n",
    "\n",
    "print(\"----\\t----\\t----\\n\")\n",
    "print(\"종류----\")"
   ]
  },
  {
   "cell_type": "code",
   "execution_count": 38,
   "id": "11c26c9d-4aae-4f2b-b3ab-61639dbcf0f4",
   "metadata": {},
   "outputs": [
    {
     "name": "stdout",
     "output_type": "stream",
     "text": [
      "글자가\"강조\"되는 효과1\n"
     ]
    }
   ],
   "source": [
    "print(\"글자가\\\"강조\\\"되는 효과1\")"
   ]
  },
  {
   "cell_type": "code",
   "execution_count": 31,
   "id": "f36cbcd0-01e7-4fbc-a0e8-339193d6a7ad",
   "metadata": {},
   "outputs": [
    {
     "name": "stdout",
     "output_type": "stream",
     "text": [
      "글자가'강조'되는 효과1\n"
     ]
    }
   ],
   "source": [
    "print(\"글자가\\'강조\\'되는 효과1\")"
   ]
  },
  {
   "cell_type": "code",
   "execution_count": 33,
   "id": "eef6e928-7d20-47c2-b893-e4f94e8402be",
   "metadata": {},
   "outputs": [
    {
     "name": "stdout",
     "output_type": "stream",
     "text": [
      "\\\\\\ 역슬래시 세 개 출력\n"
     ]
    }
   ],
   "source": [
    "print(\"\\\\\\\\\\ 역슬래시 세 개 출력\")"
   ]
  },
  {
   "cell_type": "markdown",
   "id": "e07463b7-99bf-435a-9b7b-229981cecbfc",
   "metadata": {},
   "source": [
    "raw string"
   ]
  },
  {
   "cell_type": "code",
   "execution_count": 37,
   "id": "60155cbb-ca69-4b4f-9586-89cd3e55d835",
   "metadata": {},
   "outputs": [
    {
     "name": "stdout",
     "output_type": "stream",
     "text": [
      "\\n \\t \\ \\\\를 그대로 출력\n"
     ]
    }
   ],
   "source": [
    "print(r\"\\n \\t \\ \\\\를 그대로 출력\")"
   ]
  },
  {
   "cell_type": "markdown",
   "id": "b2343319-bad6-4f9f-b9d6-a38759eced4f",
   "metadata": {},
   "source": [
    "### 3. 변수 선언"
   ]
  },
  {
   "cell_type": "markdown",
   "id": "1400cf1d-dcce-4e2b-bc34-c82c8aa6c27e",
   "metadata": {},
   "source": [
    "변수: 값을 저장하는 메모리 공간 (식별자 identifier)\n",
    "\n",
    "\n",
    "**python 변수 : 동적타이핑 Dynamic typing**\n",
    "\n",
    "    - 파이썬은 따로형식 지정 x > 변수 선언시 임의로 형식 설정\n",
    "    - C/Java : 정적타이핑 > 선언시 형식 지정\n",
    "   \n",
    "   \n",
    "**변수이름**\n",
    "\n",
    "    - 숫자 시작 X\n",
    "    - 예약어 X \n",
    "    - 대소문자 구분"
   ]
  },
  {
   "cell_type": "code",
   "execution_count": 46,
   "id": "55457981-179b-4df2-826a-edefb37a2105",
   "metadata": {},
   "outputs": [
    {
     "data": {
      "text/plain": [
       "True"
      ]
     },
     "execution_count": 46,
     "metadata": {},
     "output_type": "execute_result"
    }
   ],
   "source": [
    "## 참거짓 값 : True(1) False(0)\n",
    "\n",
    "boolVar = True\n",
    "boolVar"
   ]
  },
  {
   "cell_type": "code",
   "execution_count": 47,
   "id": "793a9743-6305-4cd9-82aa-aa241bc668d3",
   "metadata": {},
   "outputs": [
    {
     "data": {
      "text/plain": [
       "'문자열'"
      ]
     },
     "execution_count": 47,
     "metadata": {},
     "output_type": "execute_result"
    }
   ],
   "source": [
    "boolVar = \"문자열\"\n",
    "boolVar"
   ]
  },
  {
   "cell_type": "code",
   "execution_count": 49,
   "id": "bf130b29-81af-4633-8abd-c614a8c78381",
   "metadata": {},
   "outputs": [],
   "source": [
    "boolVar = 0.1"
   ]
  },
  {
   "cell_type": "markdown",
   "id": "e5624038-ecb0-41d1-8ef8-339334e2f655",
   "metadata": {},
   "source": [
    "print(\"boolVar는\", boolVar)\n",
    "print(\"boolVar는 %f\" %boolVar)"
   ]
  },
  {
   "cell_type": "code",
   "execution_count": 52,
   "id": "ab6c54d9-2e65-427e-a795-39ef5c3ad9be",
   "metadata": {},
   "outputs": [
    {
     "data": {
      "text/plain": [
       "(True, 0, 0.1, 'hello')"
      ]
     },
     "execution_count": 52,
     "metadata": {},
     "output_type": "execute_result"
    }
   ],
   "source": [
    "#튜플 연산\n",
    "\n",
    "a, b, f, s = True , 0, 0.1 ,\"hello\"\n",
    "a,b,f,s"
   ]
  },
  {
   "cell_type": "code",
   "execution_count": 53,
   "id": "c18ab657-ecc5-4991-a829-5cafb4e5243a",
   "metadata": {},
   "outputs": [
    {
     "data": {
      "text/plain": [
       "(0, 0, 0)"
      ]
     },
     "execution_count": 53,
     "metadata": {},
     "output_type": "execute_result"
    }
   ],
   "source": [
    "z=y=w=0  ##변수 z,y,w 0으로 초기화 X 0>w>y>z 대입\n",
    "\n",
    "z,y,w"
   ]
  },
  {
   "cell_type": "code",
   "execution_count": 54,
   "id": "5c1225bd-34a0-4da6-9dfe-5056d5ddb4c0",
   "metadata": {},
   "outputs": [
    {
     "data": {
      "text/plain": [
       "<function frozenset.__contains__>"
      ]
     },
     "execution_count": 54,
     "metadata": {},
     "output_type": "execute_result"
    }
   ],
   "source": [
    "import keyword\n",
    "\n",
    "keyword.issoftkeyword"
   ]
  },
  {
   "cell_type": "markdown",
   "id": "a92aa81b-efd3-4a88-a260-0ef6e6a2556c",
   "metadata": {},
   "source": [
    "**type 함수: 형식자 구분**\n",
    "\n",
    "    bool, int, float, str"
   ]
  },
  {
   "cell_type": "code",
   "execution_count": 55,
   "id": "6118f8eb-206a-4525-b216-4471ab72e1c0",
   "metadata": {},
   "outputs": [
    {
     "data": {
      "text/plain": [
       "bool"
      ]
     },
     "execution_count": 55,
     "metadata": {},
     "output_type": "execute_result"
    }
   ],
   "source": [
    "type(a)"
   ]
  },
  {
   "cell_type": "code",
   "execution_count": 56,
   "id": "9de19264-3422-43b5-b87f-d8b5198788a4",
   "metadata": {},
   "outputs": [
    {
     "data": {
      "text/plain": [
       "float"
      ]
     },
     "execution_count": 56,
     "metadata": {},
     "output_type": "execute_result"
    }
   ],
   "source": [
    "a=100.01\n",
    "type(a)"
   ]
  },
  {
   "cell_type": "markdown",
   "id": "8b28ab13-4a16-4270-a0c4-487792ec03ae",
   "metadata": {},
   "source": [
    "### 4. 데이터 표현 & 진수 변환"
   ]
  },
  {
   "cell_type": "markdown",
   "id": "ef0d9b89-f945-457f-9df8-eff1c8be8007",
   "metadata": {},
   "source": [
    "- bit\n",
    "    0/1 > 2\n",
    "- byte = 8bit\n",
    "    2^8 > 0:256(10) 0:FF(16)"
   ]
  },
  {
   "cell_type": "markdown",
   "id": "5585cfa5-dbbd-4692-bae8-ca2791d11a51",
   "metadata": {},
   "source": [
    "**10진수 변환법**\n",
    "\n",
    "    1. 0b / 0o / 0x + 각 진법 숫자\n",
    "    2. int('각 진법 숫자',진법)\n",
    "\n",
    "\n",
    "**각 진법 함수**\n",
    "\n",
    "    bin()\n",
    "    oct()\n",
    "    hex()"
   ]
  },
  {
   "cell_type": "code",
   "execution_count": 59,
   "id": "24909cb0-8ecd-430d-b49f-2e687f431c78",
   "metadata": {},
   "outputs": [
    {
     "data": {
      "text/plain": [
       "147"
      ]
     },
     "execution_count": 59,
     "metadata": {},
     "output_type": "execute_result"
    }
   ],
   "source": [
    "0b10010011  # 0b: binary"
   ]
  },
  {
   "cell_type": "code",
   "execution_count": 62,
   "id": "a66db059-d58f-4909-9854-27ced146969b",
   "metadata": {},
   "outputs": [
    {
     "data": {
      "text/plain": [
       "41660"
      ]
     },
     "execution_count": 62,
     "metadata": {},
     "output_type": "execute_result"
    }
   ],
   "source": [
    "0xA2BC  # 0x : hexa"
   ]
  },
  {
   "cell_type": "code",
   "execution_count": 65,
   "id": "56d5882a-e6a9-4a48-a4cc-bd1a6a073c2a",
   "metadata": {},
   "outputs": [
    {
     "data": {
      "text/plain": [
       "147"
      ]
     },
     "execution_count": 65,
     "metadata": {},
     "output_type": "execute_result"
    }
   ],
   "source": [
    "int('10010011', 2)"
   ]
  },
  {
   "cell_type": "code",
   "execution_count": 68,
   "id": "412c738f-b2b8-4344-8332-71589c357487",
   "metadata": {},
   "outputs": [
    {
     "data": {
      "text/plain": [
       "'0b10001'"
      ]
     },
     "execution_count": 68,
     "metadata": {},
     "output_type": "execute_result"
    }
   ],
   "source": [
    "bin(147)\n",
    "bin(0o11)\n",
    "bin(0x11)"
   ]
  },
  {
   "cell_type": "code",
   "execution_count": 69,
   "id": "110fccf6-e2bd-4bee-bf20-04fd99f59c60",
   "metadata": {},
   "outputs": [
    {
     "data": {
      "text/plain": [
       "'0b11111010'"
      ]
     },
     "execution_count": 69,
     "metadata": {},
     "output_type": "execute_result"
    }
   ],
   "source": [
    "bin(0xFA)"
   ]
  },
  {
   "cell_type": "code",
   "execution_count": 70,
   "id": "13d95b7b-d781-430c-ae93-fb0148523137",
   "metadata": {},
   "outputs": [
    {
     "data": {
      "text/plain": [
       "'0o223'"
      ]
     },
     "execution_count": 70,
     "metadata": {},
     "output_type": "execute_result"
    }
   ],
   "source": [
    "oct(147)"
   ]
  },
  {
   "cell_type": "code",
   "execution_count": 71,
   "id": "1c88f0a1-a6fe-403e-982c-d07447c76ca2",
   "metadata": {},
   "outputs": [
    {
     "data": {
      "text/plain": [
       "'0x93'"
      ]
     },
     "execution_count": 71,
     "metadata": {},
     "output_type": "execute_result"
    }
   ],
   "source": [
    "hex(147)"
   ]
  },
  {
   "cell_type": "code",
   "execution_count": null,
   "id": "2d69cb2c-a8b7-4e41-a281-8d37fa74d146",
   "metadata": {},
   "outputs": [],
   "source": [
    "#p.81 code3-04\n",
    "##조건문 학습 후 재실습"
   ]
  },
  {
   "cell_type": "code",
   "execution_count": 2,
   "id": "d5386a0d-8a3b-4bb0-864d-7f9da97d91b4",
   "metadata": {},
   "outputs": [
    {
     "name": "stdin",
     "output_type": "stream",
     "text": [
      "입력 진수 결정(16/10/8/2): 16\n",
      "값 입력: 57\n"
     ]
    },
    {
     "name": "stdout",
     "output_type": "stream",
     "text": [
      "16진수==> 0x57\n",
      "10진수==> 87\n",
      "8진수==> 0o127\n",
      "2진수==> 0b1010111\n"
     ]
    }
   ],
   "source": [
    "sel=int(input(\"입력 진수 결정(16/10/8/2):\"))\n",
    "num=input(\"값 입력:\")\n",
    "\n",
    "if sel==16:\n",
    "    num10=int(num,16)\n",
    "if sel==10:\n",
    "    num10=int(num,10)\n",
    "if sel==8:\n",
    "    num10=int(num,8)\n",
    "if sel==2:\n",
    "    num10=int(num,2)\n",
    "    \n",
    "print(\"16진수==>\",hex(num10))\n",
    "print(\"10진수==>\",num10)\n",
    "print(\"8진수==>\",oct(num10))\n",
    "print(\"2진수==>\",bin(num10))"
   ]
  },
  {
   "cell_type": "markdown",
   "id": "620700a8-208e-4374-9838-518c36aa9aeb",
   "metadata": {},
   "source": [
    "### 5. 기본 데이터형\n",
    "\n",
    "기본형식 : 하나의 값을 저장하는 방법\n",
    "\n",
    "1. 숫자형\n",
    "    - 정수형 > int\n",
    "    - 실수형 >float\n",
    "2. 불형 > bool : true(1)/false(0)\n",
    "3. 문자열 > str\n",
    "    ; 문자의 집합\n",
    "\n",
    "반환값 : 정밀도 큰 자료형 순 & 자료범위 큰 자료형으로 반환"
   ]
  },
  {
   "cell_type": "code",
   "execution_count": 90,
   "id": "9bf7f29d-cecb-4793-b1db-445606370abc",
   "metadata": {},
   "outputs": [
    {
     "name": "stdout",
     "output_type": "stream",
     "text": [
      "12\n"
     ]
    },
    {
     "data": {
      "text/plain": [
       "int"
      ]
     },
     "execution_count": 90,
     "metadata": {},
     "output_type": "execute_result"
    }
   ],
   "source": [
    "a=12 #정수\n",
    "print(a)\n",
    "type(a)"
   ]
  },
  {
   "cell_type": "code",
   "execution_count": 92,
   "id": "cb1e5d49-71b7-4008-aa38-e6ba45341f26",
   "metadata": {},
   "outputs": [
    {
     "name": "stdout",
     "output_type": "stream",
     "text": [
      "12000\n"
     ]
    },
    {
     "data": {
      "text/plain": [
       "int"
      ]
     },
     "execution_count": 92,
     "metadata": {},
     "output_type": "execute_result"
    }
   ],
   "source": [
    "a=12*1000\n",
    "print(a)\n",
    "type(a)"
   ]
  },
  {
   "cell_type": "code",
   "execution_count": 93,
   "id": "7569a90b-41ae-4f91-92d9-84b64e5bfffb",
   "metadata": {},
   "outputs": [
    {
     "data": {
      "text/plain": [
       "float"
      ]
     },
     "execution_count": 93,
     "metadata": {},
     "output_type": "execute_result"
    }
   ],
   "source": [
    "a=3.14\n",
    "type(a)"
   ]
  },
  {
   "cell_type": "markdown",
   "id": "d53b0594-9595-45bb-b020-edf83651fe08",
   "metadata": {},
   "source": [
    "**문자열**\n",
    "\n",
    "    - 문자집합\n",
    "    - \"\" OR ''   -> 출력 : print X : \"\" 포함 & print O : \"\" 포함X\n",
    "    - |' ,|\" -> 문자 인식\n",
    "    - 문자열 여러줄 -> \" \\n\" ,\"\"\" \"\"\""
   ]
  },
  {
   "cell_type": "code",
   "execution_count": 6,
   "id": "e9a73e66-d89b-40a5-8f6e-6273542bb6d6",
   "metadata": {},
   "outputs": [],
   "source": [
    "#docstrings\n",
    "\n",
    "a=\"\"\"\n",
    "안녕하세요\n",
    "저거 왜 안돼냐ㅡㅡ\n",
    "\"\"\""
   ]
  },
  {
   "cell_type": "markdown",
   "id": "832f704a-5a73-42ab-9d03-cd271e15b155",
   "metadata": {},
   "source": [
    "**python don't have main function**\n",
    "\n",
    "    main() effect\n",
    "    \n",
    "        1. if __name__=='__main\"\"' :\n",
    "        2. def main() :\n",
    "           if __name__ == '__main__' :\n",
    "           main()\n",
    "           "
   ]
  },
  {
   "cell_type": "markdown",
   "id": "4923a4cd-71d8-4bd8-958a-4ca56f068b2d",
   "metadata": {},
   "source": [
    "**연습문제**"
   ]
  },
  {
   "cell_type": "code",
   "execution_count": 41,
   "id": "46d96dc0-9d60-45a8-bfeb-dcfd2365fb6e",
   "metadata": {},
   "outputs": [
    {
     "name": "stdout",
     "output_type": "stream",
     "text": [
      "16진수==> 0xbc614e\n",
      "10진수==> 12345678\n",
      "8진수==> 0o57060516\n",
      "2진수==> 0b101111000110000101001110\n"
     ]
    }
   ],
   "source": [
    "#p.91 \n",
    "##15\n",
    "\n",
    "num= 12345678\n",
    "  \n",
    "hex_num=hex(num)\n",
    "oct_num=oct(num)\n",
    "bin_num=bin(num)\n",
    "\n",
    "    \n",
    "print(\"16진수==>\",hex_num)\n",
    "print(\"10진수==>\",num)\n",
    "print(\"8진수==>\",oct_num)\n",
    "print(\"2진수==>\",bin_num)"
   ]
  },
  {
   "cell_type": "code",
   "execution_count": 11,
   "id": "e1081134-471d-4b1d-952b-057bde80a6a9",
   "metadata": {},
   "outputs": [
    {
     "name": "stdin",
     "output_type": "stream",
     "text": [
      "number: 3\n"
     ]
    },
    {
     "name": "stdout",
     "output_type": "stream",
     "text": [
      "num is hexa\n"
     ]
    }
   ],
   "source": [
    "#p.92 \n",
    "##16\n",
    "\n",
    "num=input(\"number:\")\n",
    "\n",
    "if \"0\"<= num <=\"9\" or \"a\" <= num <=\"f\" or \"A\"<=num<=\"F\" :\n",
    "    result = int(num,16)\n",
    "    print(\"num is hexa\")\n",
    "else:\n",
    "    print(\"num is not hexa\")\n",
    "\n",
    "\n",
    "# if \"0\" <=num<= \"9\" or \"a\" <=num<=\"f\" or \"A\" <=num<= \"F\" :\n"
   ]
  },
  {
   "cell_type": "code",
   "execution_count": 33,
   "id": "9e3f286f-db43-4a21-8e9b-3527f1e32624",
   "metadata": {},
   "outputs": [
    {
     "name": "stdin",
     "output_type": "stream",
     "text": [
      "number: a\n"
     ]
    },
    {
     "name": "stdout",
     "output_type": "stream",
     "text": [
      "num is hex: \n",
      "\n"
     ]
    }
   ],
   "source": [
    "#p.92 \n",
    "##16\n",
    "\n",
    "num=input(\"number:\")\n",
    "result=0\n",
    "\n",
    "if \"0\"<=num<=\"1\":\n",
    "    result = int(num,2)\n",
    "    print(\"num is bin: %d\" %result)\n",
    "elif \"2\"<=num<=\"7\":\n",
    "    result = int(num,8)\n",
    "    print(\"num is oct: %d\" %result)\n",
    "elif \"8\"<=num<=\"9\":\n",
    "    result = int(num)\n",
    "    print(\"num is dec: %d\" %result)\n",
    "else  :\n",
    "    result=int(num,16)\n",
    "    print(\"num is hex: %c\" %result)\n"
   ]
  },
  {
   "cell_type": "code",
   "execution_count": 40,
   "id": "5c06ffc1-3c5c-440e-925e-166981d4b20d",
   "metadata": {},
   "outputs": [
    {
     "name": "stdout",
     "output_type": "stream",
     "text": [
      "int: 24\n",
      "float: 24\n",
      "bool: 28\n",
      "str: 216\n",
      "list: 56\n",
      "tuple: 40\n",
      "dictionary: 64\n",
      "set: 216\n"
     ]
    }
   ],
   "source": [
    "#p.93\n",
    "##ex01\n",
    "\n",
    "import sys\n",
    "\n",
    "intVar, floatVar, boolVar, strVar, listVar, tupleVar, dictionaryVar, setVar = [None]*8\n",
    "\n",
    "intVar=0\n",
    "floatVar=0.0\n",
    "boolVar=True\n",
    "setVar=''\n",
    "listVar=[]\n",
    "tupleVar=()\n",
    "dictionaryVar={}\n",
    "setVar=set()\n",
    "    \n",
    "print('int:',sys.getsizeof(intVar))\n",
    "print('float:',sys.getsizeof(floatVar))\n",
    "print('bool:',sys.getsizeof(boolVar))\n",
    "print('str:',sys.getsizeof(setVar))\n",
    "print('list:',sys.getsizeof(listVar))\n",
    "print('tuple:',sys.getsizeof(tupleVar))\n",
    "print('dictionary:',sys.getsizeof(dictionaryVar))\n",
    "print('set:',sys.getsizeof(setVar))\n",
    "\n"
   ]
  },
  {
   "cell_type": "code",
   "execution_count": null,
   "id": "53da37f4-e7fd-4b4a-ae6e-15a8ae8f6188",
   "metadata": {},
   "outputs": [],
   "source": [
    "#p.69\n",
    "##별그리기\n",
    "\n",
    "a=int(input\"세로:\")\n",
    "b=int(input\"가로:\")\n",
    "\n"
   ]
  }
 ],
 "metadata": {
  "kernelspec": {
   "display_name": "Python 3 (ipykernel)",
   "language": "python",
   "name": "python3"
  },
  "language_info": {
   "codemirror_mode": {
    "name": "ipython",
    "version": 3
   },
   "file_extension": ".py",
   "mimetype": "text/x-python",
   "name": "python",
   "nbconvert_exporter": "python",
   "pygments_lexer": "ipython3",
   "version": "3.9.7"
  }
 },
 "nbformat": 4,
 "nbformat_minor": 5
}
