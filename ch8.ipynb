{
 "cells": [
  {
   "cell_type": "markdown",
   "id": "325f2c18-bd92-4abe-974d-905d4b60e051",
   "metadata": {},
   "source": [
    "## Chapter8. STRING\n",
    "\n",
    "    - 불변형\n",
    "    - 인덱스 가능\n",
    "    - str 클래스에서 다양한 문자열 함수"
   ]
  },
  {
   "cell_type": "markdown",
   "id": "5cadb08a-7b62-4fc0-b7e3-74824146e6aa",
   "metadata": {},
   "source": [
    "**str = list**\n",
    "\n",
    "    - 자료구조"
   ]
  },
  {
   "cell_type": "code",
   "execution_count": 1,
   "id": "7bb13f66-fc88-4a79-91c9-2f7a3c0fbe8c",
   "metadata": {},
   "outputs": [
    {
     "data": {
      "text/plain": [
       "'안녕하세요 파이썬'"
      ]
     },
     "execution_count": 1,
     "metadata": {},
     "output_type": "execute_result"
    }
   ],
   "source": [
    "s= \"안녕하세요 파이썬\"\n",
    "s"
   ]
  },
  {
   "cell_type": "code",
   "execution_count": 2,
   "id": "4dbbca61-1d27-40dd-9eed-e9188a5608e8",
   "metadata": {},
   "outputs": [
    {
     "data": {
      "text/plain": [
       "9"
      ]
     },
     "execution_count": 2,
     "metadata": {},
     "output_type": "execute_result"
    }
   ],
   "source": [
    "len(s)"
   ]
  },
  {
   "cell_type": "code",
   "execution_count": 3,
   "id": "e960ef32-1abe-400b-bacd-c52fc1fa90f8",
   "metadata": {},
   "outputs": [
    {
     "data": {
      "text/plain": [
       "('안', '썬')"
      ]
     },
     "execution_count": 3,
     "metadata": {},
     "output_type": "execute_result"
    }
   ],
   "source": [
    "s[0],s[8]"
   ]
  },
  {
   "cell_type": "code",
   "execution_count": 4,
   "id": "9ed5627f-fea9-49d1-832a-f109f16700e2",
   "metadata": {},
   "outputs": [
    {
     "data": {
      "text/plain": [
       "' 파이썬'"
      ]
     },
     "execution_count": 4,
     "metadata": {},
     "output_type": "execute_result"
    }
   ],
   "source": [
    "s[-4:]"
   ]
  },
  {
   "cell_type": "markdown",
   "id": "9efa9ef5-3443-49c6-801c-afafd1699563",
   "metadata": {},
   "source": [
    "**문자열 결합**\n",
    "\n",
    "    '안녕'+'파이썬'"
   ]
  },
  {
   "cell_type": "code",
   "execution_count": 6,
   "id": "f23085d3-a583-45a0-8b4c-4dcd25ff9687",
   "metadata": {},
   "outputs": [
    {
     "data": {
      "text/plain": [
       "'hihihi'"
      ]
     },
     "execution_count": 6,
     "metadata": {},
     "output_type": "execute_result"
    }
   ],
   "source": [
    "'hi'*3"
   ]
  },
  {
   "cell_type": "code",
   "execution_count": 8,
   "id": "217d79f2-dace-4414-b6ee-c85575152ab9",
   "metadata": {},
   "outputs": [
    {
     "data": {
      "text/plain": [
       "'hi2'"
      ]
     },
     "execution_count": 8,
     "metadata": {},
     "output_type": "execute_result"
    }
   ],
   "source": [
    "'hi'+str(2)\n",
    "#'hi'+2"
   ]
  },
  {
   "cell_type": "code",
   "execution_count": 11,
   "id": "66fc5b9f-d57c-49ec-99a2-9ea1349b8812",
   "metadata": {},
   "outputs": [
    {
     "name": "stdin",
     "output_type": "stream",
     "text": [
      "input str: abcd\n"
     ]
    },
    {
     "name": "stdout",
     "output_type": "stream",
     "text": [
      "reverse oupt: dcba\n"
     ]
    }
   ],
   "source": [
    "#code 08-02\n",
    "\n",
    "## 문자열 거꾸로 출력\n",
    "\n",
    "inStr, outStr=\"\",\"\"\n",
    "count,i=0,0\n",
    "\n",
    "inStr=input(\"input str:\") # 값 입력\n",
    "count=len(inStr) # 값 길이\n",
    "\n",
    "for i in range(0,count):\n",
    "    outStr+=inStr[count-(i+1)] # 값 반전\n",
    "    \n",
    "print(\"reverse oupt: %s\"%outStr) # 반전값 출력\n"
   ]
  },
  {
   "cell_type": "markdown",
   "id": "0fd30cb0-5e6c-47d2-b420-9057b1d61047",
   "metadata": {},
   "source": [
    "### 2. function of str"
   ]
  },
  {
   "cell_type": "markdown",
   "id": "afc24921-58bb-44d2-94cb-37603690c7eb",
   "metadata": {},
   "source": [
    "**객체 (object)**\n",
    "\n",
    "... object  >>  \n",
    "              \n",
    "               1. 이름\n",
    "               2. 속성 : 상태 값/ 현재 상태 유지\n",
    "               3. 행위 : 상태 변경할 수 있는 함수/method\n",
    "                \n",
    "\n",
    "객체지향 프로그래밍 : python 3.0 ~"
   ]
  },
  {
   "cell_type": "markdown",
   "id": "9911945f-9baa-44ec-9a51-ca4b730bf430",
   "metadata": {},
   "source": [
    "**function = method**"
   ]
  },
  {
   "cell_type": "code",
   "execution_count": 12,
   "id": "a05c8a3a-47f7-4fbc-95f8-4b575977700c",
   "metadata": {},
   "outputs": [],
   "source": [
    "import random  # 외부 라이브러리 ... 모듈!"
   ]
  },
  {
   "cell_type": "code",
   "execution_count": 13,
   "id": "8761a982-7cd1-48e1-a4c7-e295b5219766",
   "metadata": {},
   "outputs": [
    {
     "data": {
      "text/plain": [
       "0.006712375446176866"
      ]
     },
     "execution_count": 13,
     "metadata": {},
     "output_type": "execute_result"
    }
   ],
   "source": [
    "# 모듈 이름 >> 객체 object\n",
    "# 속성, 함수(method) >> 도트(.) 로 접근\n",
    "random.random()"
   ]
  },
  {
   "cell_type": "markdown",
   "id": "e347be69-f16c-4bd4-bc78-fb4bef1dd402",
   "metadata": {},
   "source": [
    "***문자열 클래스***\n",
    "\n",
    "    내장 라이브러리 ( 기본자료형보다 중요)\n",
    "    "
   ]
  },
  {
   "cell_type": "code",
   "execution_count": 16,
   "id": "d602f665-f033-4a21-9219-85e51c23e386",
   "metadata": {},
   "outputs": [
    {
     "data": {
      "text/plain": [
       "('Hello', 2994361858224)"
      ]
     },
     "execution_count": 16,
     "metadata": {},
     "output_type": "execute_result"
    }
   ],
   "source": [
    "\"Hello\", id(\"Hello\")"
   ]
  },
  {
   "cell_type": "code",
   "execution_count": 17,
   "id": "e3d59233-1fff-44b7-9e77-79ce6545d1ef",
   "metadata": {},
   "outputs": [],
   "source": [
    "# \"Hello\".  + Tab key >> access string class "
   ]
  },
  {
   "cell_type": "code",
   "execution_count": 18,
   "id": "261d61d6-35a2-43cf-b10d-b326921136fd",
   "metadata": {},
   "outputs": [
    {
     "data": {
      "text/plain": [
       "('HELLO PYTHON', 'hello python', 'hELLO pYTHON', 'Hello Python')"
      ]
     },
     "execution_count": 18,
     "metadata": {},
     "output_type": "execute_result"
    }
   ],
   "source": [
    "ss='Hello Python'\n",
    "\n",
    "ss.upper(), ss.lower(), ss.swapcase(), ss.title()"
   ]
  },
  {
   "cell_type": "code",
   "execution_count": 20,
   "id": "14874f82-83e5-4ecb-a47b-eb9202453d3b",
   "metadata": {},
   "outputs": [
    {
     "data": {
      "text/plain": [
       "\u001b[1;31mSignature:\u001b[0m \u001b[0mss\u001b[0m\u001b[1;33m.\u001b[0m\u001b[0mtitle\u001b[0m\u001b[1;33m(\u001b[0m\u001b[1;33m)\u001b[0m\u001b[1;33m\u001b[0m\u001b[1;33m\u001b[0m\u001b[0m\n",
       "\u001b[1;31mDocstring:\u001b[0m\n",
       "Return a version of the string where each word is titlecased.\n",
       "\n",
       "More specifically, words start with uppercased characters and all remaining\n",
       "cased characters have lower case.\n",
       "\u001b[1;31mType:\u001b[0m      builtin_function_or_method\n"
      ]
     },
     "metadata": {},
     "output_type": "display_data"
    }
   ],
   "source": [
    "ss.title?"
   ]
  },
  {
   "cell_type": "code",
   "execution_count": null,
   "id": "ff567c2c-d642-44ee-91c5-9074ecd250de",
   "metadata": {},
   "outputs": [],
   "source": [
    "ss,title"
   ]
  },
  {
   "cell_type": "code",
   "execution_count": 22,
   "id": "7adcb48b-2dbb-4064-8b3c-c0811a6c8942",
   "metadata": {},
   "outputs": [
    {
     "data": {
      "text/plain": [
       "(31, 2, 4, 18)"
      ]
     },
     "execution_count": 22,
     "metadata": {},
     "output_type": "execute_result"
    }
   ],
   "source": [
    "#p.239\n",
    "\n",
    "ss='파이썬 공부는 즐겁습니다. 물론 공부가 재미있지는 않죠!'\n",
    "\n",
    "len(ss), ss.count('공부'), ss.find('공부'), ss.rfind('공부')\n",
    "\n",
    "## .find : left dir\n",
    "## .rfind : right dir"
   ]
  },
  {
   "cell_type": "code",
   "execution_count": 23,
   "id": "3b973a62-9e8a-4517-a4d7-8cac996b3aae",
   "metadata": {},
   "outputs": [
    {
     "data": {
      "text/plain": [
       "18"
      ]
     },
     "execution_count": 23,
     "metadata": {},
     "output_type": "execute_result"
    }
   ],
   "source": [
    "ss.find('공부',5)"
   ]
  },
  {
   "cell_type": "code",
   "execution_count": 27,
   "id": "182ad8e0-669c-4504-8034-8579d66d34d4",
   "metadata": {},
   "outputs": [
    {
     "data": {
      "text/plain": [
       "'공부는 즐겁습니다. 물론 공부가 재미있지는 않죠!'"
      ]
     },
     "execution_count": 27,
     "metadata": {},
     "output_type": "execute_result"
    }
   ],
   "source": [
    "ss[ss.find('공부'):]"
   ]
  },
  {
   "cell_type": "code",
   "execution_count": 28,
   "id": "79f6459b-a0a5-4609-b7a8-23996ec61b8b",
   "metadata": {},
   "outputs": [
    {
     "data": {
      "text/plain": [
       "'공부는 즐겁습니다.'"
      ]
     },
     "execution_count": 28,
     "metadata": {},
     "output_type": "execute_result"
    }
   ],
   "source": [
    "ss[ss.find('공부'):ss.rfind('물론')-1]"
   ]
  },
  {
   "cell_type": "code",
   "execution_count": 29,
   "id": "6924aa10-c6ac-43c9-9405-5ff7a685b85b",
   "metadata": {},
   "outputs": [
    {
     "data": {
      "text/plain": [
       "'공부는 즐겁습니다. '"
      ]
     },
     "execution_count": 29,
     "metadata": {},
     "output_type": "execute_result"
    }
   ],
   "source": [
    "ss[ss.find('공부'):ss.rfind('물론')]"
   ]
  },
  {
   "cell_type": "code",
   "execution_count": 30,
   "id": "fdcc7351-3781-45fa-b23f-d1cfe7be78e3",
   "metadata": {},
   "outputs": [
    {
     "data": {
      "text/plain": [
       "\u001b[1;31mDocstring:\u001b[0m\n",
       "S.index(sub[, start[, end]]) -> int\n",
       "\n",
       "Return the lowest index in S where substring sub is found,\n",
       "such that sub is contained within S[start:end].  Optional\n",
       "arguments start and end are interpreted as in slice notation.\n",
       "\n",
       "Raises ValueError when the substring is not found.\n",
       "\u001b[1;31mType:\u001b[0m      builtin_function_or_method\n"
      ]
     },
     "metadata": {},
     "output_type": "display_data"
    }
   ],
   "source": [
    "ss.index? ## error > operate exception"
   ]
  },
  {
   "cell_type": "code",
   "execution_count": 31,
   "id": "42b64f33-aabe-41df-bb64-b51abc9eaa25",
   "metadata": {},
   "outputs": [
    {
     "data": {
      "text/plain": [
       "\u001b[1;31mDocstring:\u001b[0m\n",
       "S.find(sub[, start[, end]]) -> int\n",
       "\n",
       "Return the lowest index in S where substring sub is found,\n",
       "such that sub is contained within S[start:end].  Optional\n",
       "arguments start and end are interpreted as in slice notation.\n",
       "\n",
       "Return -1 on failure.\n",
       "\u001b[1;31mType:\u001b[0m      builtin_function_or_method\n"
      ]
     },
     "metadata": {},
     "output_type": "display_data"
    }
   ],
   "source": [
    "ss.find?  ## error > -1 return"
   ]
  },
  {
   "cell_type": "code",
   "execution_count": 32,
   "id": "feb1b3a9-d870-4c59-9a0e-7d5e146cb413",
   "metadata": {},
   "outputs": [
    {
     "data": {
      "text/plain": [
       "(True, False)"
      ]
     },
     "execution_count": 32,
     "metadata": {},
     "output_type": "execute_result"
    }
   ],
   "source": [
    "ss.startswith('파이썬'), ss.endswith('.')"
   ]
  },
  {
   "cell_type": "code",
   "execution_count": 37,
   "id": "f71101f8-54d8-4d35-9d1a-809081a88196",
   "metadata": {},
   "outputs": [
    {
     "ename": "SyntaxError",
     "evalue": "invalid syntax (Temp/ipykernel_760/1605222362.py, line 8)",
     "output_type": "error",
     "traceback": [
      "\u001b[1;36m  File \u001b[1;32m\"C:\\Users\\BIT\\AppData\\Local\\Temp/ipykernel_760/1605222362.py\"\u001b[1;36m, line \u001b[1;32m8\u001b[0m\n\u001b[1;33m    print(\"(\",end' ')\u001b[0m\n\u001b[1;37m                 ^\u001b[0m\n\u001b[1;31mSyntaxError\u001b[0m\u001b[1;31m:\u001b[0m invalid syntax\n"
     ]
    }
   ],
   "source": [
    "#P.240\n",
    "## code 08-03\n",
    "\n",
    "ss=input(\"input str:\")\n",
    "print(\"output st:\",end='')\n",
    "\n",
    "if ss.startswith('(')==False:\n",
    "               print(\"(\",end' ')\n",
    "    \n",
    "print(ss.end='')\n",
    "\n",
    "if ss.endswith(')') == False:\n",
    "               print(\")\", end' ')"
   ]
  },
  {
   "cell_type": "code",
   "execution_count": 38,
   "id": "1158722e-e336-4fd5-b607-372100e89581",
   "metadata": {},
   "outputs": [
    {
     "ename": "SyntaxError",
     "evalue": "unexpected EOF while parsing (Temp/ipykernel_760/872317793.py, line 2)",
     "output_type": "error",
     "traceback": [
      "\u001b[1;36m  File \u001b[1;32m\"C:\\Users\\BIT\\AppData\\Local\\Temp/ipykernel_760/872317793.py\"\u001b[1;36m, line \u001b[1;32m2\u001b[0m\n\u001b[1;33m    print(\"output st:\",end=\"\"\u001b[0m\n\u001b[1;37m                             ^\u001b[0m\n\u001b[1;31mSyntaxError\u001b[0m\u001b[1;31m:\u001b[0m unexpected EOF while parsing\n"
     ]
    }
   ],
   "source": [
    "ss=input(\"input:\")\n",
    "print(\"output st:\",end=\"\""
   ]
  },
  {
   "cell_type": "markdown",
   "id": "ac97778c-d54e-4470-9e88-ac9703f0600c",
   "metadata": {},
   "source": [
    "**문자열 공백 삭제/변경 >> STRIP**\n",
    "\n",
    "    - strip()\n",
    "    - rstrip()\n",
    "    - lstrip()\n",
    "    - replace()\n",
    "    \n",
    "    \n",
    "   * 공백(white space) problem\n",
    "    : ascii code found  \n",
    "    "
   ]
  },
  {
   "cell_type": "code",
   "execution_count": 50,
   "id": "5eb16962-d4e1-4058-a6af-81e8ed2bfce2",
   "metadata": {},
   "outputs": [
    {
     "data": {
      "text/plain": [
       "('python pr', ' python pr', 'python pr ')"
      ]
     },
     "execution_count": 50,
     "metadata": {},
     "output_type": "execute_result"
    }
   ],
   "source": [
    "ss=' python pr '\n",
    "\n",
    "ss.strip(), ss.rstrip(), ss.lstrip()\n",
    "\n",
    "## remove whitespace\n",
    "## remove right whitespace\n",
    "## remove left whitespace"
   ]
  },
  {
   "cell_type": "code",
   "execution_count": 51,
   "id": "62079798-d11a-469d-b38f-a8bdb7237cfd",
   "metadata": {},
   "outputs": [
    {
     "name": "stdout",
     "output_type": "stream",
     "text": [
      "orginary str:[  lunch time plz~  ]\n",
      "change str:[  lunch time plz~  ]\n"
     ]
    }
   ],
   "source": [
    "#p.241\n",
    "## code 08-04\n",
    "\n",
    "inStr = \"  lunch time plz~  \"\n",
    "outStr= \"\"\n",
    "\n",
    "for i in range(0,len(inStr)):\n",
    "    \n",
    "    if inStr[i]!='':\n",
    "        outStr+=inStr[i]\n",
    "        \n",
    "print(\"orginary str:\"+'['+inStr+']')\n",
    "print(\"change str:\"+'['+outStr+']')"
   ]
  },
  {
   "cell_type": "code",
   "execution_count": 52,
   "id": "822d9263-bfa3-41a3-bf7d-2aa9c478d21d",
   "metadata": {},
   "outputs": [
    {
     "data": {
      "text/plain": [
       "' java pr '"
      ]
     },
     "execution_count": 52,
     "metadata": {},
     "output_type": "execute_result"
    }
   ],
   "source": [
    "ss.replace('python','java')"
   ]
  },
  {
   "cell_type": "markdown",
   "id": "7c66462f-9eb2-4448-b7da-05a3a7d6bf7b",
   "metadata": {},
   "source": [
    "**문자열 분리 결합 : split(),splitlines(), join()**"
   ]
  },
  {
   "cell_type": "code",
   "execution_count": 54,
   "id": "c8a89fb2-8280-41ae-9bf2-341ec139436c",
   "metadata": {},
   "outputs": [
    {
     "data": {
      "text/plain": [
       "['Python을', '공부', '하', '느', '는', '거', '은', '노잼ㅜ']"
      ]
     },
     "execution_count": 54,
     "metadata": {},
     "output_type": "execute_result"
    }
   ],
   "source": [
    "ss='Python을 공부 하 느 는 거 은 노잼ㅜ'\n",
    "ss.split()"
   ]
  },
  {
   "cell_type": "code",
   "execution_count": 55,
   "id": "57a4e82f-ba37-446b-ac71-d7f5ca53ab9c",
   "metadata": {},
   "outputs": [],
   "source": [
    "ss='a:b:c:;f;k;'"
   ]
  },
  {
   "cell_type": "code",
   "execution_count": 57,
   "id": "6fd0f027-ffc0-4515-a949-267448b5da51",
   "metadata": {},
   "outputs": [
    {
     "data": {
      "text/plain": [
       "(['a', 'b', 'c', ';f;k;'], ['a', 'b', 'c', ';f;k;'])"
      ]
     },
     "execution_count": 57,
     "metadata": {},
     "output_type": "execute_result"
    }
   ],
   "source": [
    "ss.split(sep=':') , ss.split(':')"
   ]
  },
  {
   "cell_type": "code",
   "execution_count": 59,
   "id": "42f7c8f4-2834-441c-9317-555e3334deb0",
   "metadata": {},
   "outputs": [
    {
     "data": {
      "text/plain": [
       "['안녕하세요', '집 가고싶어요', '안녕히계세여...']"
      ]
     },
     "execution_count": 59,
     "metadata": {},
     "output_type": "execute_result"
    }
   ],
   "source": [
    "ss = \"\"\"안녕하세요\n",
    "집 가고싶어요\n",
    "안녕히계세여...\n",
    "\"\"\"\n",
    "ss.splitlines()"
   ]
  },
  {
   "cell_type": "code",
   "execution_count": 60,
   "id": "8c741ebc-7e77-4d11-98aa-b29a55949505",
   "metadata": {},
   "outputs": [
    {
     "data": {
      "text/plain": [
       "'집% %보%내% %달%라%.%.'"
      ]
     },
     "execution_count": 60,
     "metadata": {},
     "output_type": "execute_result"
    }
   ],
   "source": [
    "ss='%'\n",
    "\n",
    "ss.join('집 보내 달라..')"
   ]
  },
  {
   "cell_type": "code",
   "execution_count": 61,
   "id": "e666dcd7-392a-4a4e-9093-1765fb27f73f",
   "metadata": {},
   "outputs": [
    {
     "ename": "SyntaxError",
     "evalue": "expression cannot contain assignment, perhaps you meant \"==\"? (Temp/ipykernel_760/868246536.py, line 8)",
     "output_type": "error",
     "traceback": [
      "\u001b[1;36m  File \u001b[1;32m\"C:\\Users\\BIT\\AppData\\Local\\Temp/ipykernel_760/868246536.py\"\u001b[1;36m, line \u001b[1;32m8\u001b[0m\n\u001b[1;33m    print(\"after 10years:\".end='')\u001b[0m\n\u001b[1;37m          ^\u001b[0m\n\u001b[1;31mSyntaxError\u001b[0m\u001b[1;31m:\u001b[0m expression cannot contain assignment, perhaps you meant \"==\"?\n"
     ]
    }
   ],
   "source": [
    "#p.243\n",
    "## code 08-06\n",
    "\n",
    "ss=input(\"date(year/month/day)input:\")\n",
    "\n",
    "ssList=ss.split('/')\n",
    "\n",
    "print(\"after 10years:\".end='')\n",
    "print(str(int(ssList[0])+10)+\"year\",end='')\n",
    "print(ssList[1]+\"month\",end='')\n",
    "print(ssList[2]+\"day\")\n",
    "          "
   ]
  },
  {
   "cell_type": "markdown",
   "id": "a6e0c91d-147a-40bf-b9e2-90e2e90785d8",
   "metadata": {},
   "source": [
    "**map(function,list)**\n",
    "    \n",
    "    : 리스트값 하나하나 함수명 대입"
   ]
  },
  {
   "cell_type": "code",
   "execution_count": 63,
   "id": "35788a5b-5a81-42f1-bbd9-16789cbee84a",
   "metadata": {},
   "outputs": [
    {
     "data": {
      "text/plain": [
       "(['1', '3', '4', '5'], [1.0, 3.0, 4.0, 5.0])"
      ]
     },
     "execution_count": 63,
     "metadata": {},
     "output_type": "execute_result"
    }
   ],
   "source": [
    "list(map(str,[1,3,4,5])) , list(map(float,[1,3,4,5]))"
   ]
  },
  {
   "cell_type": "markdown",
   "id": "7a0a8153-c68a-4978-b3e0-fa84b3530af2",
   "metadata": {},
   "source": [
    "**문자열 정렬하기,채우기: center(),ljust(),rjust(),zfill()**"
   ]
  },
  {
   "cell_type": "code",
   "execution_count": 65,
   "id": "8f1585f8-a74a-4998-a48a-6a34e7a374ec",
   "metadata": {},
   "outputs": [
    {
     "data": {
      "text/plain": [
       "('  lunch   ', '--lunch---', 'lunch     ', '     lunch', '00000lunch')"
      ]
     },
     "execution_count": 65,
     "metadata": {},
     "output_type": "execute_result"
    }
   ],
   "source": [
    "ss='lunch'\n",
    "ss.center(10),ss.center(10,'-'),ss.ljust(10),ss.rjust(10),ss.zfill(10)"
   ]
  },
  {
   "cell_type": "markdown",
   "id": "cf53ea2e-57f4-478d-a7d5-7094b74cb813",
   "metadata": {},
   "source": [
    "**문자열 구성 파악하기**\n",
    "\n",
    "    -isdigit() : number\n",
    "    -isalpha() : letter(kor,eng,...)\n",
    "    -isalnum() : +\n",
    "    -islower() : low al\n",
    "    -isupper() : up al\n",
    "    -isspace() : whitespace"
   ]
  },
  {
   "cell_type": "markdown",
   "id": "86162ef6-9d18-43dd-833a-8f5201700022",
   "metadata": {},
   "source": [
    "**unicode scale: ord()**"
   ]
  },
  {
   "cell_type": "code",
   "execution_count": 66,
   "id": "37a5206c-52f6-4df9-8b84-ea5730ac3468",
   "metadata": {},
   "outputs": [
    {
     "data": {
      "text/plain": [
       "(65, 97, 12593, 51665)"
      ]
     },
     "execution_count": 66,
     "metadata": {},
     "output_type": "execute_result"
    }
   ],
   "source": [
    "ord('A'),ord('a'),ord('ㄱ'),ord('집')"
   ]
  },
  {
   "cell_type": "markdown",
   "id": "08a86e97-e894-4a68-a5a6-4351889434f8",
   "metadata": {},
   "source": [
    "**연습문제**"
   ]
  },
  {
   "cell_type": "code",
   "execution_count": 80,
   "id": "8286b735-3cc3-4e3c-836e-441490b85c6c",
   "metadata": {},
   "outputs": [
    {
     "name": "stdout",
     "output_type": "stream",
     "text": [
      "original: it_cookbook_python\n",
      "change: n#h#y#_#o#b#o#c#t#\n"
     ]
    }
   ],
   "source": [
    "#4\n",
    "\n",
    "instr='it_cookbook_python'\n",
    "outstr=''\n",
    "\n",
    "for i in range(0,len(instr)):\n",
    "    if i%2==0:\n",
    "        outstr+=instr[len(instr)-(i+1)]\n",
    "    else:\n",
    "        outstr+='#'\n",
    "        \n",
    "print('original:',instr)\n",
    "print('change:',outstr)"
   ]
  },
  {
   "cell_type": "code",
   "execution_count": 73,
   "id": "621276ca-a222-42d2-b5c6-9f253b3b7152",
   "metadata": {},
   "outputs": [
    {
     "name": "stdin",
     "output_type": "stream",
     "text": [
      "str: dfds*dfd\n"
     ]
    },
    {
     "name": "stdout",
     "output_type": "stream",
     "text": [
      "d\n",
      "f\n",
      "d\n",
      "s\n",
      "d\n",
      "f\n",
      "d\n"
     ]
    }
   ],
   "source": [
    "#11.\n",
    "\n",
    "aa=input(\"str:\")\n",
    "i=0\n",
    "len(aa)\n",
    "\n",
    "for i in range (0,len(aa)):\n",
    "    if aa[i].isalpha()==True:\n",
    "        print(aa[i])\n",
    "    else:\n",
    "        continue"
   ]
  },
  {
   "cell_type": "code",
   "execution_count": 74,
   "id": "46300548-54fb-4096-a1fe-9d4a3dae5ad3",
   "metadata": {},
   "outputs": [
    {
     "name": "stdin",
     "output_type": "stream",
     "text": [
      "str: dfsd8**Df ;kl\n"
     ]
    },
    {
     "name": "stdout",
     "output_type": "stream",
     "text": [
      "result:dfsdDfkl\n"
     ]
    }
   ],
   "source": [
    "instr, outstr='',''\n",
    "\n",
    "instr=input(\"str:\")\n",
    "\n",
    "for i in range(0,len(instr)):\n",
    "    if instr[i].isalpha()==True:\n",
    "        outstr+=instr[i]\n",
    "        \n",
    "print(\"result:\"+outstr)\n",
    "\n",
    "\n",
    "### if isalpha() no > ascii code 63~ : all letter"
   ]
  },
  {
   "cell_type": "code",
   "execution_count": 76,
   "id": "3f621ee6-ee32-480c-935c-2190c4aadf12",
   "metadata": {},
   "outputs": [
    {
     "name": "stdout",
     "output_type": "stream",
     "text": [
      "Object `instr.ord` not found.\n"
     ]
    }
   ],
   "source": [
    "instr.ord()"
   ]
  },
  {
   "cell_type": "code",
   "execution_count": null,
   "id": "0e4c6474-55cf-476f-a95b-ff4ddd483eb6",
   "metadata": {},
   "outputs": [],
   "source": [
    "#12\n",
    "\"\"\"\n",
    "\n",
    "instr,ul,ll,num,kor,etc='','','','','',''\n",
    "\n",
    "instr=input(\"str;\")\n",
    "ul=input(\"uppereng:\")\n",
    "ll=input(\"lowereng:\")\n",
    "num=input(\"num:\")\n",
    "kor=input(\"kor:\")\n",
    "etc=input(\"etc:\")\n",
    "\n",
    "\"\"\"\n",
    "\n",
    "\n",
    "instr, outstr ='',''\n",
    "instr,ul,ll,num,kor,etc='','','','','',''\n",
    "\n",
    "instr=input(\"str:\")\n",
    "\n",
    "for i in range(0,len(instr)):\n",
    "    if ord(instr[i])>64 and"
   ]
  },
  {
   "cell_type": "code",
   "execution_count": 79,
   "id": "9da62063-ae15-40b7-be58-fc861ac4ebe4",
   "metadata": {},
   "outputs": [
    {
     "name": "stdin",
     "output_type": "stream",
     "text": [
      "str: sdjflk**OL9\n"
     ]
    },
    {
     "name": "stdout",
     "output_type": "stream",
     "text": [
      "upper eng:OL\n",
      "lower eng:sdjflk\n",
      "number:9\n",
      "korean:\n",
      "etc:**\n"
     ]
    }
   ],
   "source": [
    "##t.ver\n",
    "\n",
    "numstr,lowerstr,upperstr,hanstr,etcstr=['']*5\n",
    "ch=\"\"\n",
    "instr=input(\"str:\")\n",
    "\n",
    "for ch in instr:\n",
    "    if(ord(ch)>=ord(\"A\") and ord(ch)<=ord(\"Z\")):\n",
    "        upperstr+=ch\n",
    "    elif(ord(ch)>=ord(\"a\") and ord(ch)<=ord(\"z\")):\n",
    "        lowerstr+=ch\n",
    "    elif(ord(ch)>=ord(\"0\") and ord(ch)<=ord(\"9\")):\n",
    "        numstr+=ch\n",
    "    elif(ord(ch)>=ord(\"가\") and ord(ch)<=ord(\"힣\")):\n",
    "        hanstr+=ch\n",
    "    else:\n",
    "        etcstr+=ch\n",
    "        \n",
    "print(\"upper eng:\"+upperstr)\n",
    "print(\"lower eng:\"+lowerstr)\n",
    "print(\"number:\"+numstr)\n",
    "print(\"korean:\"+hanstr)\n",
    "print(\"etc:\"+etcstr)"
   ]
  },
  {
   "cell_type": "code",
   "execution_count": null,
   "id": "a2fcc87a-4f28-4f6c-af2e-9209330e18bf",
   "metadata": {},
   "outputs": [],
   "source": [
    "#응용01\n",
    "\n",
    "instr,outstr=\"\",\"\"\n",
    "ch=\"\"\n",
    "count,i=0,0\n",
    "\n",
    "##main\n",
    "\n",
    "if __name__==\"__main__\":\n",
    "    instr=input(\"string:\")\n",
    "    count=len(instr)\n",
    "    \n",
    "    for i in range(0,count):\n",
    "        ch=instr[i]\n",
    "        if(ord(ch)>=ord(\"A\") and ord(ch)<=ord(\"Z\")):\n",
    "            newch=ch.lower()\n",
    "        elif(ord(ch)>=ord(\"a\") and ord(ch)<=ord(\"z\")):\n",
    "            newch=ch.upper()\n",
    "        else:\n",
    "            newch=ch"
   ]
  }
 ],
 "metadata": {
  "kernelspec": {
   "display_name": "Python 3 (ipykernel)",
   "language": "python",
   "name": "python3"
  },
  "language_info": {
   "codemirror_mode": {
    "name": "ipython",
    "version": 3
   },
   "file_extension": ".py",
   "mimetype": "text/x-python",
   "name": "python",
   "nbconvert_exporter": "python",
   "pygments_lexer": "ipython3",
   "version": "3.9.7"
  }
 },
 "nbformat": 4,
 "nbformat_minor": 5
}
