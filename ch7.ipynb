{
 "cells": [
  {
   "cell_type": "markdown",
   "id": "55bd597b-1867-4027-85d9-c65f4926c9f3",
   "metadata": {},
   "source": [
    "## Chap 7. list, tuple, dictionary"
   ]
  },
  {
   "cell_type": "markdown",
   "id": "434c6113-89d2-4899-8314-ebd329da93a2",
   "metadata": {},
   "source": [
    "#### 1. LIST\n",
    "\n",
    "    변수의 집합\n",
    "    \n",
    "    \n",
    "   **순서 ( index )**"
   ]
  },
  {
   "cell_type": "code",
   "execution_count": 1,
   "id": "84607a10-b0fe-4343-bab6-2fd19e036ce2",
   "metadata": {},
   "outputs": [],
   "source": [
    "a=['1',1,200,'집','가고싶다ㅠ']"
   ]
  },
  {
   "cell_type": "code",
   "execution_count": 2,
   "id": "fb77d9fb-9e4e-4544-a150-6e9306ba267e",
   "metadata": {},
   "outputs": [
    {
     "data": {
      "text/plain": [
       "list"
      ]
     },
     "execution_count": 2,
     "metadata": {},
     "output_type": "execute_result"
    }
   ],
   "source": [
    "type(a)"
   ]
  },
  {
   "cell_type": "code",
   "execution_count": 3,
   "id": "f7b53f1d-50d3-4a2f-ba94-0df810cc392b",
   "metadata": {},
   "outputs": [
    {
     "data": {
      "text/plain": [
       "200"
      ]
     },
     "execution_count": 3,
     "metadata": {},
     "output_type": "execute_result"
    }
   ],
   "source": [
    "a[2]"
   ]
  },
  {
   "cell_type": "markdown",
   "id": "28628823-7fe6-4af6-aa13-95772a1f60e8",
   "metadata": {
    "tags": []
   },
   "source": [
    "**for in 사용**"
   ]
  },
  {
   "cell_type": "code",
   "execution_count": 12,
   "id": "33da1f32-f9ba-4214-96c7-967b185b585c",
   "metadata": {},
   "outputs": [
    {
     "name": "stdout",
     "output_type": "stream",
     "text": [
      "1\n",
      "1\n",
      "200\n",
      "집\n",
      "가고싶다ㅠ\n"
     ]
    }
   ],
   "source": [
    "a=['1',1,200,'집','가고싶다ㅠ']\n",
    "\n",
    "for i in a:\n",
    "    print(i)"
   ]
  },
  {
   "cell_type": "code",
   "execution_count": 14,
   "id": "88af619d-c4ea-42f4-8e9a-9785d92bbe01",
   "metadata": {},
   "outputs": [
    {
     "name": "stdout",
     "output_type": "stream",
     "text": [
      "1\n",
      "1\n",
      "200\n"
     ]
    }
   ],
   "source": [
    "for i in range(0,3):\n",
    "    print(a[i])"
   ]
  },
  {
   "cell_type": "code",
   "execution_count": 16,
   "id": "9d01e4a5-f256-4880-a077-825568bf2761",
   "metadata": {},
   "outputs": [
    {
     "data": {
      "text/plain": [
       "5"
      ]
     },
     "execution_count": 16,
     "metadata": {},
     "output_type": "execute_result"
    }
   ],
   "source": [
    "## a 길이 함수 >len\n",
    "### index 추출 easy\n",
    "\n",
    "len(a)"
   ]
  },
  {
   "cell_type": "markdown",
   "id": "1319682b-8ec9-4834-bfb3-3343a4d23d65",
   "metadata": {},
   "source": [
    "**빈 list 생성**\n",
    "\n",
    "    append (f) : list 항목 추가"
   ]
  },
  {
   "cell_type": "code",
   "execution_count": 10,
   "id": "8e402a01-9d42-48c3-876f-ae2940d7a013",
   "metadata": {},
   "outputs": [
    {
     "data": {
      "text/plain": [
       "[1, 'nana']"
      ]
     },
     "execution_count": 10,
     "metadata": {},
     "output_type": "execute_result"
    }
   ],
   "source": [
    "a=[]\n",
    "\n",
    "a.append(1)\n",
    "a.append('nana')\n",
    "\n",
    "a"
   ]
  },
  {
   "cell_type": "code",
   "execution_count": 8,
   "id": "b090a22a-894b-4068-8355-778ec4a8c69a",
   "metadata": {},
   "outputs": [
    {
     "name": "stdout",
     "output_type": "stream",
     "text": [
      "[0, 0, 0, 0, 0, 0, 0, 0, 0, 0, 0, 0, 0, 0, 0, 0, 0, 0, 0, 0, 0, 0, 0, 0, 0, 0, 0, 0, 0, 0, 0, 0, 0, 0, 0, 0, 0, 0, 0, 0, 0, 0, 0, 0, 0, 0, 0, 0, 0, 0, 0, 0, 0, 0, 0, 0, 0, 0, 0, 0, 0, 0, 0, 0, 0, 0, 0, 0, 0, 0, 0, 0, 0, 0, 0, 0, 0, 0, 0, 0, 0, 0, 0, 0, 0, 0, 0, 0, 0, 0, 0, 0, 0, 0, 0, 0, 0, 0, 0, 0]\n"
     ]
    },
    {
     "data": {
      "text/plain": [
       "100"
      ]
     },
     "execution_count": 8,
     "metadata": {},
     "output_type": "execute_result"
    }
   ],
   "source": [
    "# 빈 리스트 생성\n",
    "aa=[]\n",
    "\n",
    "# append () : 리스트 항목 추가 function\n",
    "\n",
    "for i in range(0,100) :\n",
    "    aa.append(0)\n",
    "\n",
    "print(aa)\n",
    "len(aa)\n"
   ]
  },
  {
   "cell_type": "code",
   "execution_count": 19,
   "id": "61b5a43c-1c16-48f0-af75-4eaeca3c1377",
   "metadata": {},
   "outputs": [
    {
     "name": "stdin",
     "output_type": "stream",
     "text": [
      "how much: 3\n",
      "1번째 숫자: 2\n",
      "2번째 숫자: 5\n",
      "3번째 숫자: 6\n"
     ]
    },
    {
     "name": "stdout",
     "output_type": "stream",
     "text": [
      "sum= 13\n"
     ]
    }
   ],
   "source": [
    "## code 07-03\n",
    "\n",
    "k=int(input(\"how much:\"))\n",
    "\n",
    "aa=[]                     ## list aa 길이 ###aa=[0]*k\n",
    "for i in range(0,k):\n",
    "    aa.append(0)\n",
    "\n",
    "hap=0\n",
    "\n",
    "for i in range(0,len(aa)):                     ## 0~aa list 길이만큼 반복\n",
    "    aa[i]=int(input(str(i+1)+\"번째 숫자:\"))    ## 각 index 값 입력\n",
    "    \n",
    "for i in range(0,len(aa)):\n",
    "    hap+=aa[i]\n",
    "    \n",
    "print(\"sum= %d\" %hap)\n"
   ]
  },
  {
   "cell_type": "code",
   "execution_count": 3,
   "id": "96943e7c-66d6-4172-9aef-189456a5f84f",
   "metadata": {},
   "outputs": [
    {
     "name": "stdin",
     "output_type": "stream",
     "text": [
      "how much: 3\n",
      "1번째 숫자: 2\n",
      "2번째 숫자: 5\n",
      "3번째 숫자: 6\n",
      "4번째 숫자: 7\n"
     ]
    },
    {
     "name": "stdout",
     "output_type": "stream",
     "text": [
      "sum= 20\n"
     ]
    }
   ],
   "source": [
    "# code 07-03 while ver.\n",
    "\n",
    "k=int(input(\"how much:\"))\n",
    "i=0\n",
    "\n",
    "aa=[]                     ###aa=[0]*k\n",
    "\n",
    "while i<(k+1):\n",
    "    aa.append(0)\n",
    "    i+=1\n",
    "\n",
    "hap=0\n",
    "\n",
    "i=0\n",
    "while i<len(aa) :\n",
    "    aa[i]=int(input(str(i+1)+\"번째 숫자:\"))\n",
    "    i+=1\n",
    "\n",
    "i=0\n",
    "while i<len(aa):\n",
    "    hap+=aa[i]\n",
    "    i+=1\n",
    "    \n",
    "print(\"sum= %d\" %hap)\n"
   ]
  },
  {
   "cell_type": "code",
   "execution_count": 21,
   "id": "bcbb48da-8bc8-4edc-a106-d8aa207e5045",
   "metadata": {},
   "outputs": [
    {
     "name": "stdout",
     "output_type": "stream",
     "text": [
      "bb[0]: 198, bb[99]: 0\n"
     ]
    }
   ],
   "source": [
    "# code 07-04\n",
    "## 리스트 초기화\n",
    "\n",
    "aa=[]\n",
    "bb=[]\n",
    "value=0\n",
    "\n",
    "for i in range(0,100):\n",
    "    aa.append(value)\n",
    "    value += 2\n",
    "    \n",
    "for i in range(0,100):\n",
    "    bb.append(aa[99-i])\n",
    "    \n",
    "print(\"bb[0]: %d, bb[99]: %d\" %(bb[0],bb[99]))"
   ]
  },
  {
   "cell_type": "markdown",
   "id": "83763ec0-1b0c-44c3-9cdf-7832ce6c2aeb",
   "metadata": {},
   "source": [
    "**리스트 인덱싱**\n",
    "\n",
    "    - index 범위 \n",
    "        > 'start:fin'  # fin 대부분 -1\n",
    "    - list copy \n",
    "        > _=aa[:]"
   ]
  },
  {
   "cell_type": "code",
   "execution_count": 24,
   "id": "2db7e657-f986-446a-9dfc-26c66f4533e6",
   "metadata": {},
   "outputs": [
    {
     "name": "stdout",
     "output_type": "stream",
     "text": [
      "40 20\n"
     ]
    }
   ],
   "source": [
    "aa=[10,30,20,40]\n",
    "print(aa[-1],aa[-2])   #index = minus > right direction"
   ]
  },
  {
   "cell_type": "markdown",
   "id": "7990b4c6-b738-4069-b7e3-1e2787791bc7",
   "metadata": {},
   "source": [
    "**in/not in**\n",
    "   \n",
    "    k in aa  : aa의 k 존재유무\n",
    "        >True/Flase\n",
    "    k not in aa"
   ]
  },
  {
   "cell_type": "markdown",
   "id": "af3b6fa1-6fea-4dac-9c4f-d2df086a1256",
   "metadata": {},
   "source": [
    "**stepping ' ::'**\n",
    "\n",
    "    항목 건너뛰는 연산자"
   ]
  },
  {
   "cell_type": "code",
   "execution_count": 32,
   "id": "8f6cea27-345d-43a4-892e-143793a3ec89",
   "metadata": {},
   "outputs": [
    {
     "name": "stdout",
     "output_type": "stream",
     "text": [
      "[1, 3, 5, 7]\n",
      "[8, 6, 4, 2]\n",
      "[2, 4, 6, 8]\n"
     ]
    }
   ],
   "source": [
    "a=[1,2,3,4,5,6,7,8]\n",
    "\n",
    "print(a[::2])\n",
    "print(a[::-2])  # 뒤에서부터 건너뜀\n",
    "print(a[1::2])  # index 1 부터 건너뜀"
   ]
  },
  {
   "cell_type": "markdown",
   "id": "e53deeee-a244-4868-862e-f30f555c6d32",
   "metadata": {},
   "source": [
    "**broadcasting**"
   ]
  },
  {
   "cell_type": "code",
   "execution_count": 25,
   "id": "b4abf8ab-81c2-4972-af57-147ec03d8542",
   "metadata": {},
   "outputs": [
    {
     "data": {
      "text/plain": [
       "([1, 2, 3, 3], [5, 6, 7, 8])"
      ]
     },
     "execution_count": 25,
     "metadata": {},
     "output_type": "execute_result"
    }
   ],
   "source": [
    "a=[1,2,3,3]\n",
    "b=[5,6,7,8]\n",
    "\n",
    "a,b"
   ]
  },
  {
   "cell_type": "code",
   "execution_count": 29,
   "id": "af79f680-54c1-4d66-8ad9-12a9eccb9c0b",
   "metadata": {},
   "outputs": [
    {
     "name": "stdout",
     "output_type": "stream",
     "text": [
      "[1, 2, 3, 3, 1, 2, 3, 3, 1, 2, 3, 3]\n",
      "[1, 2, 3, 3, 5, 6, 7, 8]\n"
     ]
    }
   ],
   "source": [
    "print(a*3)\n",
    "print(a+b)"
   ]
  },
  {
   "cell_type": "markdown",
   "id": "1f4d772f-a094-4b26-beba-e6b35edf6b6b",
   "metadata": {},
   "source": [
    "**list() 함수**\n",
    "\n",
    "    iterable : 반복할 수 있는"
   ]
  },
  {
   "cell_type": "code",
   "execution_count": 33,
   "id": "eb2849cb-8db1-4494-b15c-fb4df4e85d80",
   "metadata": {},
   "outputs": [
    {
     "data": {
      "text/plain": [
       "\u001b[1;31mInit signature:\u001b[0m \u001b[0mlist\u001b[0m\u001b[1;33m(\u001b[0m\u001b[0miterable\u001b[0m\u001b[1;33m=\u001b[0m\u001b[1;33m(\u001b[0m\u001b[1;33m)\u001b[0m\u001b[1;33m,\u001b[0m \u001b[1;33m/\u001b[0m\u001b[1;33m)\u001b[0m\u001b[1;33m\u001b[0m\u001b[1;33m\u001b[0m\u001b[0m\n",
       "\u001b[1;31mDocstring:\u001b[0m     \n",
       "Built-in mutable sequence.\n",
       "\n",
       "If no argument is given, the constructor creates a new empty list.\n",
       "The argument must be an iterable if specified.\n",
       "\u001b[1;31mType:\u001b[0m           type\n",
       "\u001b[1;31mSubclasses:\u001b[0m     _HashedSeq, StackSummary, DeferredConfigList, SList, _ImmutableLineList, FormattedText, NodeList, _ExplodedList, Stack, _Accumulator, ...\n"
      ]
     },
     "metadata": {},
     "output_type": "display_data"
    }
   ],
   "source": [
    "list?"
   ]
  },
  {
   "cell_type": "code",
   "execution_count": 34,
   "id": "80678ec7-468d-44ad-8365-57dffb122f94",
   "metadata": {},
   "outputs": [
    {
     "data": {
      "text/plain": [
       "[1, 2, 3, 4, 5]"
      ]
     },
     "execution_count": 34,
     "metadata": {},
     "output_type": "execute_result"
    }
   ],
   "source": [
    "nums= list(range(1,100))\n",
    "nums[:5]"
   ]
  },
  {
   "cell_type": "markdown",
   "id": "4edda894-60cf-4996-ac81-aa2591b4ea69",
   "metadata": {},
   "source": [
    "**값의 변경**\n",
    "\n",
    "    -불변형 자료: string, tuple\n",
    "    -가변형 자료: list, dict\n",
    "    "
   ]
  },
  {
   "cell_type": "code",
   "execution_count": 45,
   "id": "36bb657b-6ae0-4037-aeb8-d2623df61dea",
   "metadata": {},
   "outputs": [
    {
     "name": "stdout",
     "output_type": "stream",
     "text": [
      "[1, 2, 3, 4, 5, 6, 7, 8, 9]\n"
     ]
    }
   ],
   "source": [
    "a=list(range(1,10))\n",
    "print(a)"
   ]
  },
  {
   "cell_type": "code",
   "execution_count": 46,
   "id": "674bb412-39d5-431b-acda-d8f66bbeed13",
   "metadata": {},
   "outputs": [
    {
     "name": "stdout",
     "output_type": "stream",
     "text": [
      "[1, 2, 300, 4, 5, 6, 7, 8, 9]\n"
     ]
    }
   ],
   "source": [
    "a[2]=300\n",
    "print(a)"
   ]
  },
  {
   "cell_type": "code",
   "execution_count": 47,
   "id": "3da93050-5cca-4c84-a668-a3976f136c17",
   "metadata": {},
   "outputs": [
    {
     "data": {
      "text/plain": [
       "[1]"
      ]
     },
     "execution_count": 47,
     "metadata": {},
     "output_type": "execute_result"
    }
   ],
   "source": [
    "a[0:1]"
   ]
  },
  {
   "cell_type": "code",
   "execution_count": 48,
   "id": "50e5497f-74f1-4247-ba08-c5b8f6297b7d",
   "metadata": {},
   "outputs": [
    {
     "name": "stdout",
     "output_type": "stream",
     "text": [
      "[100, 200, 2, 300, 4, 5, 6, 7, 8, 9]\n"
     ]
    }
   ],
   "source": [
    "a[0:1]=[100,200]\n",
    "print(a)"
   ]
  },
  {
   "cell_type": "code",
   "execution_count": 51,
   "id": "ab8b97ef-69f4-421e-8c28-694b1e5be313",
   "metadata": {},
   "outputs": [
    {
     "data": {
      "text/plain": [
       "(200, 2)"
      ]
     },
     "execution_count": 51,
     "metadata": {},
     "output_type": "execute_result"
    }
   ],
   "source": [
    "a[1], a[2]"
   ]
  },
  {
   "cell_type": "code",
   "execution_count": 54,
   "id": "54b75552-41f9-478b-b46e-746de14d6b81",
   "metadata": {},
   "outputs": [
    {
     "name": "stdout",
     "output_type": "stream",
     "text": [
      "[1, 2, 3, 4, 5, 6, 7, 8, 9]\n",
      "[11, 12, 13, 14]\n"
     ]
    }
   ],
   "source": [
    "a=list(range(1,10))\n",
    "b=list(range(11,15))\n",
    "\n",
    "print(a)\n",
    "print(b)"
   ]
  },
  {
   "cell_type": "code",
   "execution_count": 61,
   "id": "04cf564c-575a-4be1-aee5-f36e29937ceb",
   "metadata": {},
   "outputs": [
    {
     "name": "stdout",
     "output_type": "stream",
     "text": [
      "[1, 11, 12, 13, 14, 5, 6, 7, 8, 9]\n"
     ]
    }
   ],
   "source": [
    "a[1:3]=b  ##delete\n",
    "print(a)"
   ]
  },
  {
   "cell_type": "code",
   "execution_count": 58,
   "id": "308d1aa9-f288-48ea-b758-be7788d0cbf8",
   "metadata": {},
   "outputs": [
    {
     "name": "stdout",
     "output_type": "stream",
     "text": [
      "[1, 11, 12, 13, [100, 200, 300], 4, 5, 6, 7, 8, 9]\n"
     ]
    }
   ],
   "source": [
    "a[4]=[100,200,300]  ## replace\n",
    "print(a)"
   ]
  },
  {
   "cell_type": "code",
   "execution_count": 59,
   "id": "317eb4c6-62c8-4203-8734-631ebcb60934",
   "metadata": {},
   "outputs": [
    {
     "name": "stdout",
     "output_type": "stream",
     "text": [
      "[1, 11, 12, 13, 4, 5, 6, 7, 8, 9]\n"
     ]
    }
   ],
   "source": [
    "del(a[4]) \n",
    "print(a)"
   ]
  },
  {
   "cell_type": "code",
   "execution_count": 60,
   "id": "a7dbc483-5344-44b6-b6bd-fd4f377ff218",
   "metadata": {},
   "outputs": [
    {
     "name": "stdout",
     "output_type": "stream",
     "text": [
      "[1, 11, 12, 5, 6, 7, 8, 9]\n"
     ]
    }
   ],
   "source": [
    "del(a[3:5])\n",
    "print(a)"
   ]
  },
  {
   "cell_type": "markdown",
   "id": "187f2dbf-01b5-4919-a539-a528592bde74",
   "metadata": {},
   "source": [
    "**집계 함수**\n",
    "\n",
    "    -sum(), max(), min()\n",
    "    -len()"
   ]
  },
  {
   "cell_type": "code",
   "execution_count": 63,
   "id": "e6865f0f-d351-453f-987a-14cb4ec97ee5",
   "metadata": {},
   "outputs": [],
   "source": [
    "a=[1,4,77,24]"
   ]
  },
  {
   "cell_type": "code",
   "execution_count": 72,
   "id": "73ca52d8-9b87-487a-aab4-8be853958b86",
   "metadata": {},
   "outputs": [
    {
     "name": "stdout",
     "output_type": "stream",
     "text": [
      "106\n"
     ]
    }
   ],
   "source": [
    "#for\n",
    "\n",
    "hap,i=0,0\n",
    "\n",
    "for i in a:\n",
    "    hap+=i\n",
    "    \n",
    "print (hap)"
   ]
  },
  {
   "cell_type": "code",
   "execution_count": 71,
   "id": "bf8c887c-9dd2-4df3-8844-61acd09c718c",
   "metadata": {},
   "outputs": [
    {
     "name": "stdout",
     "output_type": "stream",
     "text": [
      "106 77 1 4\n"
     ]
    }
   ],
   "source": [
    "#sum\n",
    "\n",
    "print(sum(a),max(a),min(a),len(a))\n"
   ]
  },
  {
   "cell_type": "markdown",
   "id": "ae031fc2-7723-4068-836e-865d064070f8",
   "metadata": {},
   "source": [
    "**리스트 내장 함수**\n",
    "\n",
    "...list class 선언: help(list name)\n",
    "\n",
    "    - append() : add index\n",
    "    - pop() \n",
    "    - sort() : 정렬\n",
    "    - reverse() \n",
    "    - index() : 해당 index return\n",
    "    - insert() : add \n",
    "    - remove()\n",
    "    - extend()\n",
    "    - count()\n",
    "    - clear()\n",
    "    - del()\n",
    "    - len()\n",
    "    - copy()\n",
    "    - sorted()"
   ]
  },
  {
   "cell_type": "markdown",
   "id": "f5ec4a09-9352-4394-a546-921de7428ddd",
   "metadata": {},
   "source": [
    "**sorted vs list.sort()**\n",
    "\n",
    "    sorted : python function\n",
    "    list.sort() : list function"
   ]
  },
  {
   "cell_type": "code",
   "execution_count": 76,
   "id": "f9d04a3c-7f5b-41a7-a0b7-d9194bec65af",
   "metadata": {},
   "outputs": [],
   "source": [
    "myList=[30,10,20]"
   ]
  },
  {
   "cell_type": "code",
   "execution_count": 78,
   "id": "11048ab1-cbb3-44bd-94d7-13ec1e844a4b",
   "metadata": {},
   "outputs": [
    {
     "name": "stdout",
     "output_type": "stream",
     "text": [
      "[10, 20, 30]\n",
      "[30, 10, 20]\n"
     ]
    }
   ],
   "source": [
    "print(sorted(myList))\n",
    "print(myList)"
   ]
  },
  {
   "cell_type": "code",
   "execution_count": 80,
   "id": "2db07b2e-c667-4e36-a484-17dff35f1d55",
   "metadata": {},
   "outputs": [
    {
     "name": "stdout",
     "output_type": "stream",
     "text": [
      "[10, 20, 30]\n"
     ]
    }
   ],
   "source": [
    "myList.sort()\n",
    "print(myList)"
   ]
  },
  {
   "cell_type": "markdown",
   "id": "696269ae-7f0b-43d8-bf37-3294dceb19c4",
   "metadata": {},
   "source": [
    "### 2. 2차원 LIST"
   ]
  },
  {
   "cell_type": "code",
   "execution_count": 84,
   "id": "1012eed5-3731-446a-a3c5-70ff735c3ad4",
   "metadata": {},
   "outputs": [],
   "source": [
    "a=[[1,2,3],[4,5,6],[7,8,9]]\n",
    "\n",
    "# a= [1,2,3]\n",
    "#    [4,5,6]\n",
    "#    [7,8,9]"
   ]
  },
  {
   "cell_type": "code",
   "execution_count": 85,
   "id": "f6b265be-3dd7-4120-be50-d74db5a18620",
   "metadata": {},
   "outputs": [
    {
     "data": {
      "text/plain": [
       "3"
      ]
     },
     "execution_count": 85,
     "metadata": {},
     "output_type": "execute_result"
    }
   ],
   "source": [
    "len(a)"
   ]
  },
  {
   "cell_type": "code",
   "execution_count": 93,
   "id": "9a46208f-e806-4393-bcb2-3b793764c50a",
   "metadata": {},
   "outputs": [
    {
     "name": "stdout",
     "output_type": "stream",
     "text": [
      "1 2 3 4 \n",
      "5 6 7 8 \n",
      "9 10 11 12 \n"
     ]
    }
   ],
   "source": [
    "# code 07-06\n",
    "\n",
    "list1=[]\n",
    "list2=[]\n",
    "value=0\n",
    "\n",
    "value=1\n",
    "for i in range(0,3):                     ## list value & index\n",
    "    for k in range(0,4):\n",
    "        list1.append(value)\n",
    "        value+=1\n",
    "    list2.append(list1)\n",
    "    list1=[]\n",
    "    \n",
    "for i in range(0,3):                     ## list print\n",
    "    for k in range(0,4):\n",
    "        print(\"%d\"%list2[i][k],end=\" \")\n",
    "    print(\"\")"
   ]
  },
  {
   "cell_type": "markdown",
   "id": "d038a653-a249-402f-ba37-de49b7bc5339",
   "metadata": {},
   "source": [
    "### 3. TUPLE\n",
    "\n",
    " **불변형 LIST**\n",
    " \n",
    "     tuple vs list\n",
    "         - tuple : () vs list : []\n",
    "         - invaliablity vs valiability\n",
    "         \n",
    "         >> use by data of database's valiablitiy\n",
    "         \n",
    "  ex:\n",
    "     a, b, c =1, 2, 3 (packing)\n",
    "     \n",
    "  infor: help(tuple name)\n",
    "     \n",
    "      "
   ]
  },
  {
   "cell_type": "code",
   "execution_count": 97,
   "id": "02902a19-a4b8-4cbf-98d5-c02e89e8bfe6",
   "metadata": {},
   "outputs": [],
   "source": [
    "tt1=(10,20,30)\n",
    "tt2=10,20,30"
   ]
  },
  {
   "cell_type": "code",
   "execution_count": 99,
   "id": "d3d32b38-b7b5-444d-825d-b553e2273616",
   "metadata": {},
   "outputs": [
    {
     "name": "stdout",
     "output_type": "stream",
     "text": [
      "<class 'tuple'>\n",
      "<class 'tuple'>\n"
     ]
    }
   ],
   "source": [
    "print(type(tt1))\n",
    "print(type(tt2))"
   ]
  },
  {
   "cell_type": "markdown",
   "id": "3ab6ca73-7de9-43ab-b9cd-bbeb65274708",
   "metadata": {},
   "source": [
    "broadcasting"
   ]
  },
  {
   "cell_type": "code",
   "execution_count": 100,
   "id": "66b17266-a183-4226-98e9-4c4a18a4512f",
   "metadata": {},
   "outputs": [],
   "source": [
    "tt1=('A','B')\n",
    "tt2=(10,20,30,40)"
   ]
  },
  {
   "cell_type": "code",
   "execution_count": 101,
   "id": "9e447bfb-9e94-475e-bcd8-d9d856b0a774",
   "metadata": {},
   "outputs": [
    {
     "data": {
      "text/plain": [
       "(10, 20, 30, 40, 10, 20, 30, 40)"
      ]
     },
     "execution_count": 101,
     "metadata": {},
     "output_type": "execute_result"
    }
   ],
   "source": [
    "tt2*2"
   ]
  },
  {
   "cell_type": "code",
   "execution_count": 102,
   "id": "9d585db8-f0a4-4e1f-a9fa-de797483268a",
   "metadata": {},
   "outputs": [
    {
     "data": {
      "text/plain": [
       "('A', 'B', 10, 20, 30, 40)"
      ]
     },
     "execution_count": 102,
     "metadata": {},
     "output_type": "execute_result"
    }
   ],
   "source": [
    "tt1+tt2"
   ]
  },
  {
   "cell_type": "markdown",
   "id": "e8e13d78-48ab-4d1b-bcb6-eee612d23cba",
   "metadata": {},
   "source": [
    "**change tuple<->list**"
   ]
  },
  {
   "cell_type": "code",
   "execution_count": 106,
   "id": "189ba3a6-4cb2-4b3b-ba68-33e6bb1ad2ee",
   "metadata": {},
   "outputs": [],
   "source": [
    "li=[1,2,3,4,5]\n",
    "tu=('a','b','c','d')"
   ]
  },
  {
   "cell_type": "code",
   "execution_count": 107,
   "id": "fce0f2f9-f10a-4ed2-88a2-fcd5b68bbf95",
   "metadata": {},
   "outputs": [
    {
     "name": "stdout",
     "output_type": "stream",
     "text": [
      "(1, 2, 3, 4, 5)\n",
      "['a', 'b', 'c', 'd']\n"
     ]
    }
   ],
   "source": [
    "print(tuple(li))\n",
    "print(list(tu))"
   ]
  },
  {
   "cell_type": "markdown",
   "id": "42375175-6107-4ce6-9b5a-061641b3b388",
   "metadata": {},
   "source": [
    "### 4. DICTIONARY\n",
    "\n",
    "**쌍 2개가 하나로 묶인 자료구조>> key + value**\n",
    "\n",
    "key + value = hash + associative array\n",
    "\n",
    "    Dic = {key1:val1, key2:val2, key3:val3,...}\n",
    "    \n",
    "    *key >> 순서 중요 XXX\n",
    "    *key, val 순서 상관 X  ..> user direction"
   ]
  },
  {
   "cell_type": "code",
   "execution_count": 108,
   "id": "fc8802b3-1434-441b-9eda-6f4eb6969e08",
   "metadata": {},
   "outputs": [
    {
     "data": {
      "text/plain": [
       "dict"
      ]
     },
     "execution_count": 108,
     "metadata": {},
     "output_type": "execute_result"
    }
   ],
   "source": [
    "dict={}\n",
    "type(dict)"
   ]
  },
  {
   "cell_type": "code",
   "execution_count": 117,
   "id": "01e27d8f-3e0d-4225-8c9c-0226aa0ed7aa",
   "metadata": {},
   "outputs": [
    {
     "data": {
      "text/plain": [
       "{'number': 1000, 'name': 'yujin', 'sub': 'python'}"
      ]
     },
     "execution_count": 117,
     "metadata": {},
     "output_type": "execute_result"
    }
   ],
   "source": [
    "student={'number':1000,'name':'yujin','sub':'python'}\n",
    "student"
   ]
  },
  {
   "cell_type": "code",
   "execution_count": 118,
   "id": "0d7966b4-b2f0-47a2-a102-46c1a09816ca",
   "metadata": {},
   "outputs": [
    {
     "data": {
      "text/plain": [
       "{'number': 1000, 'name': 'yujin', 'sub': 'python', 'phone': '1234'}"
      ]
     },
     "execution_count": 118,
     "metadata": {},
     "output_type": "execute_result"
    }
   ],
   "source": [
    "student['phone']='1234'\n",
    "student"
   ]
  },
  {
   "cell_type": "code",
   "execution_count": 119,
   "id": "b24d6c22-3b08-4a3b-a5cb-48a504c4ab41",
   "metadata": {},
   "outputs": [
    {
     "data": {
      "text/plain": [
       "{'number': 1000, 'name': 'yujin', 'sub': 'java', 'phone': '1234'}"
      ]
     },
     "execution_count": 119,
     "metadata": {},
     "output_type": "execute_result"
    }
   ],
   "source": [
    "student['sub']='java'\n",
    "student"
   ]
  },
  {
   "cell_type": "code",
   "execution_count": 120,
   "id": "2aea3db6-2d86-466f-b54e-7799a9b77b5d",
   "metadata": {},
   "outputs": [
    {
     "data": {
      "text/plain": [
       "{'name': 'yujin', 'sub': 'java', 'phone': '1234'}"
      ]
     },
     "execution_count": 120,
     "metadata": {},
     "output_type": "execute_result"
    }
   ],
   "source": [
    "del(student['number'])\n",
    "student"
   ]
  },
  {
   "cell_type": "code",
   "execution_count": 121,
   "id": "8ef0efa3-890c-421e-aca7-dd27d719cc14",
   "metadata": {},
   "outputs": [
    {
     "data": {
      "text/plain": [
       "{1: 'maratnag', 2: 'pizza', 3: 'cola'}"
      ]
     },
     "execution_count": 121,
     "metadata": {},
     "output_type": "execute_result"
    }
   ],
   "source": [
    "food={1:'chicken',2:'pizza',3:'cola',1:'maratnag'}\n",
    "food"
   ]
  },
  {
   "cell_type": "code",
   "execution_count": 137,
   "id": "8f4cfeb4-4f48-438b-97a0-579fd147f83e",
   "metadata": {},
   "outputs": [
    {
     "data": {
      "text/plain": [
       "('yujin', 'yujin')"
      ]
     },
     "execution_count": 137,
     "metadata": {},
     "output_type": "execute_result"
    }
   ],
   "source": [
    "# access key code\n",
    "\n",
    "student['name'], student.get('name')\n",
    "\n",
    "## key is not exist\n",
    "## dict[key]  :  error\n",
    "## dict.get(key)  :  return 0"
   ]
  },
  {
   "cell_type": "code",
   "execution_count": 130,
   "id": "c47244f6-f493-45c8-9203-179dfc6c7fda",
   "metadata": {},
   "outputs": [
    {
     "name": "stdout",
     "output_type": "stream",
     "text": [
      "dict_values(['yujin', 'java', '1234'])\n",
      "dict_keys(['name', 'sub', 'phone'])\n",
      "dict_items([('name', 'yujin'), ('sub', 'java'), ('phone', '1234')])\n"
     ]
    }
   ],
   "source": [
    "# dict value return > list format\n",
    "\n",
    "print(student.values())\n",
    "print(student.keys())\n",
    "print(student.items())"
   ]
  },
  {
   "cell_type": "code",
   "execution_count": 132,
   "id": "d5248988-7403-4a1a-849e-0a781b4049ea",
   "metadata": {},
   "outputs": [
    {
     "name": "stdout",
     "output_type": "stream",
     "text": [
      "False\n",
      "True\n"
     ]
    }
   ],
   "source": [
    "# in\n",
    "\n",
    "print('yujin' in student)\n",
    "print('name' in student)"
   ]
  },
  {
   "cell_type": "code",
   "execution_count": 136,
   "id": "f21d5d61-bf25-4014-be0a-e660f87d6bbf",
   "metadata": {},
   "outputs": [
    {
     "name": "stdout",
     "output_type": "stream",
     "text": [
      "yujin\n",
      "java\n",
      "1234\n"
     ]
    }
   ],
   "source": [
    "for key in student.keys():\n",
    "    print(student[key])"
   ]
  },
  {
   "cell_type": "code",
   "execution_count": 135,
   "id": "c03de948-56eb-4e41-b240-436d01817139",
   "metadata": {},
   "outputs": [
    {
     "name": "stdout",
     "output_type": "stream",
     "text": [
      "name yujin\n",
      "sub java\n",
      "phone 1234\n"
     ]
    }
   ],
   "source": [
    "for k,v in student.items():\n",
    "   # print(student[k])\n",
    "    print(k,v)"
   ]
  },
  {
   "cell_type": "code",
   "execution_count": 140,
   "id": "1e7de7fd-6b64-401d-9952-919cd6a4cadf",
   "metadata": {},
   "outputs": [
    {
     "name": "stdout",
     "output_type": "stream",
     "text": [
      "[('Ed', 'e'), ('Hen', 'h'), ('James', 'j'), ('Tom', 't')]\n"
     ]
    }
   ],
   "source": [
    "# p.185 > p.212\n",
    "\n",
    "## code 07-09\n",
    "\n",
    "import operator\n",
    "\n",
    "trainDic, trainList={},[]\n",
    "\n",
    "trainDic={'Tom':'t','Ed':'e','Hen':'h','James':'j'}\n",
    "\n",
    "trainList=sorted(trainDic.items(),key=operator.itemgetter(0))\n",
    "\n",
    "print(trainList)"
   ]
  },
  {
   "cell_type": "code",
   "execution_count": 142,
   "id": "d132c76e-36e4-4ae2-b8f9-9d5c4c7861ec",
   "metadata": {},
   "outputs": [
    {
     "data": {
      "text/plain": [
       "\u001b[1;31mSignature:\u001b[0m \u001b[0msorted\u001b[0m\u001b[1;33m(\u001b[0m\u001b[0miterable\u001b[0m\u001b[1;33m,\u001b[0m \u001b[1;33m/\u001b[0m\u001b[1;33m,\u001b[0m \u001b[1;33m*\u001b[0m\u001b[1;33m,\u001b[0m \u001b[0mkey\u001b[0m\u001b[1;33m=\u001b[0m\u001b[1;32mNone\u001b[0m\u001b[1;33m,\u001b[0m \u001b[0mreverse\u001b[0m\u001b[1;33m=\u001b[0m\u001b[1;32mFalse\u001b[0m\u001b[1;33m)\u001b[0m\u001b[1;33m\u001b[0m\u001b[1;33m\u001b[0m\u001b[0m\n",
       "\u001b[1;31mDocstring:\u001b[0m\n",
       "Return a new list containing all items from the iterable in ascending order.\n",
       "\n",
       "A custom key function can be supplied to customize the sort order, and the\n",
       "reverse flag can be set to request the result in descending order.\n",
       "\u001b[1;31mType:\u001b[0m      builtin_function_or_method\n"
      ]
     },
     "metadata": {},
     "output_type": "display_data"
    }
   ],
   "source": [
    "sorted?"
   ]
  },
  {
   "cell_type": "code",
   "execution_count": 2,
   "id": "cd2bbf9f-56b8-4d18-8790-cd80a092f56d",
   "metadata": {},
   "outputs": [
    {
     "name": "stdin",
     "output_type": "stream",
     "text": [
      "['hot', 'cold', 'nekki', 'guichan']what's your favorite? cold\n"
     ]
    },
    {
     "name": "stdout",
     "output_type": "stream",
     "text": [
      "<cold> is <naenymeon>\n"
     ]
    },
    {
     "name": "stdin",
     "output_type": "stream",
     "text": [
      "['hot', 'cold', 'nekki', 'guichan']what's your favorite? end\n"
     ]
    }
   ],
   "source": [
    "foods={\"hot\":\"tteokbokki\",\"cold\":\"naenymeon\",\"nekki\":\"pasta\",\"guichan\":\"ramen\"}\n",
    "\n",
    "while (True) :\n",
    "    myfood=input(str(list(foods.keys()))+\"what's your favorite?\")\n",
    "    \n",
    "    if myfood in foods:\n",
    "        print(\"<%s> is <%s>\" %(myfood,foods.get(myfood)))\n",
    "    elif myfood==\"end\":\n",
    "        break\n",
    "    else :\n",
    "        print(\"no exist\")"
   ]
  },
  {
   "cell_type": "markdown",
   "id": "049a80e4-8ed9-4ef2-8bb3-76ef60d1a985",
   "metadata": {},
   "source": [
    "### 5. SET\n",
    "\n",
    "**dic 특수 형태 집합**\n",
    "\n",
    "    set : 중복 X"
   ]
  },
  {
   "cell_type": "code",
   "execution_count": 5,
   "id": "d7f30cad-8581-4846-bcb4-ddf372a93773",
   "metadata": {},
   "outputs": [
    {
     "data": {
      "text/plain": [
       "{1, 2, 3, 4, 5, 6}"
      ]
     },
     "execution_count": 5,
     "metadata": {},
     "output_type": "execute_result"
    }
   ],
   "source": [
    "mySet={1,1,6,2,2,3,4,5,2}\n",
    "mySet"
   ]
  },
  {
   "cell_type": "markdown",
   "id": "67f26840-fb2f-4f7e-b34a-bd245809e5ed",
   "metadata": {
    "tags": []
   },
   "source": [
    "### 6. COMPREHENSION\n",
    "\n",
    "**함축 > list, tuple, dict 모두 한줄로 정렬 가능**\n"
   ]
  },
  {
   "cell_type": "code",
   "execution_count": 8,
   "id": "ecc4c028-a5de-44ff-9d00-a591a96335b5",
   "metadata": {},
   "outputs": [
    {
     "data": {
      "text/plain": [
       "[1, 2, 3, 4, 5]"
      ]
     },
     "execution_count": 8,
     "metadata": {},
     "output_type": "execute_result"
    }
   ],
   "source": [
    "numList=[]\n",
    "\n",
    "for num in range(1,6):\n",
    "    numList.append(num)\n",
    "    \n",
    "numList"
   ]
  },
  {
   "cell_type": "code",
   "execution_count": 9,
   "id": "9423f60f-b050-4127-a411-ddc551504ef7",
   "metadata": {},
   "outputs": [
    {
     "data": {
      "text/plain": [
       "[1, 2, 3, 4, 5]"
      ]
     },
     "execution_count": 9,
     "metadata": {},
     "output_type": "execute_result"
    }
   ],
   "source": [
    "numList=[]\n",
    "\n",
    "numList=[num for num in range(1,6)]\n",
    "    \n",
    "numList"
   ]
  },
  {
   "cell_type": "code",
   "execution_count": 10,
   "id": "65d10e0d-b163-4429-9590-506ac1aa84fc",
   "metadata": {},
   "outputs": [
    {
     "data": {
      "text/plain": [
       "[6, 12, 18, 24, 30, 36]"
      ]
     },
     "execution_count": 10,
     "metadata": {},
     "output_type": "execute_result"
    }
   ],
   "source": [
    "[num*2 for num in range(1,21) if num%3==0]"
   ]
  },
  {
   "cell_type": "markdown",
   "id": "93cdbfd6-c500-48b7-b6cc-4e00df54c365",
   "metadata": {},
   "source": [
    "### 7.ZIP()\n",
    "\n",
    "**동시 여러 list access**"
   ]
  },
  {
   "cell_type": "code",
   "execution_count": 11,
   "id": "8f16de3a-8b23-485a-bbd2-22184ae1305f",
   "metadata": {},
   "outputs": [],
   "source": [
    "food=[1,2,3,4,5]\n",
    "side=['a','b','c']"
   ]
  },
  {
   "cell_type": "code",
   "execution_count": 13,
   "id": "7e393ee3-1da2-4189-8daa-1b301da117d0",
   "metadata": {},
   "outputs": [
    {
     "name": "stdout",
     "output_type": "stream",
     "text": [
      "1 a\n",
      "2 b\n",
      "3 c\n"
     ]
    }
   ],
   "source": [
    "for f,s in zip(food,side):\n",
    "    print(f,s)                     ## key-value 짝 X >> 무시"
   ]
  },
  {
   "cell_type": "code",
   "execution_count": 17,
   "id": "b671615d-b673-4f3f-b72a-6ef1cfe2992a",
   "metadata": {},
   "outputs": [
    {
     "name": "stdout",
     "output_type": "stream",
     "text": [
      "[('a', 1), ('b', 2), ('c', 3)]\n",
      "{'a': 1, 'b': 2, 'c': 3}\n"
     ]
    }
   ],
   "source": [
    "# p.217\n",
    "\n",
    "foods=['a','b','c','d,']        ## data : list format\n",
    "sides=[1,2,3]\n",
    "tupList=list(zip(foods,sides))  ## zip() : access  tuple > list\n",
    "dic=dict(zip(foods,sides))      ## dict() : access tuple > dict\n",
    "\n",
    "print(tupList)\n",
    "print(dic)"
   ]
  },
  {
   "cell_type": "markdown",
   "id": "4aea5729-4e4e-4058-ba12-a62359be9f5d",
   "metadata": {},
   "source": [
    "### 8. COPY OF LIST\n",
    "\n",
    "**깊은 복사 / 얕은 복사**\n",
    "\n",
    "    - copy by value > 기본 자료형(reference x) : 깊은 복사\n",
    "    - copy by reference ( basic ) : 얕은 복사\n",
    "    \n",
    "    \n",
    "\n",
    "**깊은복사: newList=oldList[:]**\n",
    "    "
   ]
  },
  {
   "cell_type": "code",
   "execution_count": 18,
   "id": "541f90ff-7409-4ed7-8ec3-ae67672ea26f",
   "metadata": {},
   "outputs": [
    {
     "data": {
      "text/plain": [
       "[1, 2, 3, 4]"
      ]
     },
     "execution_count": 18,
     "metadata": {},
     "output_type": "execute_result"
    }
   ],
   "source": [
    "li1=[1,2,3,4]\n",
    "li2=li1\n",
    "\n",
    "li2"
   ]
  },
  {
   "cell_type": "code",
   "execution_count": 21,
   "id": "f4a3440a-e3e0-41ca-92f3-b986cf50cbaa",
   "metadata": {},
   "outputs": [
    {
     "name": "stdout",
     "output_type": "stream",
     "text": [
      "2093619353792\n",
      "2093619353792\n"
     ]
    }
   ],
   "source": [
    "print(id(li1))\n",
    "print(id(li2))   ### li1, li2 동일 memory address: 동일한 메모리 공간 공유"
   ]
  },
  {
   "cell_type": "code",
   "execution_count": 25,
   "id": "1ad9bb5f-1302-463f-89c3-e1948bdc25fa",
   "metadata": {},
   "outputs": [
    {
     "name": "stdout",
     "output_type": "stream",
     "text": [
      "['a', 'b', 'c', 'd']\n",
      "['z', 'b', 'c', 'd', 'k']\n"
     ]
    }
   ],
   "source": [
    "#p.217\n",
    "\n",
    "## newlist=oldlist : copy reference\n",
    "\n",
    "oldlist=['a','b','c','d']\n",
    "newlist=oldlist\n",
    "print(newlist)\n",
    "oldlist[0]='z'\n",
    "oldlist.append('k')\n",
    "print(newlist)                        "
   ]
  },
  {
   "cell_type": "code",
   "execution_count": 26,
   "id": "0b7be0d9-cd5a-4d22-a883-5e8a082af12d",
   "metadata": {},
   "outputs": [
    {
     "name": "stdout",
     "output_type": "stream",
     "text": [
      "['a', 'b', 'c', 'd']\n",
      "['a', 'b', 'c', 'd']\n"
     ]
    }
   ],
   "source": [
    "#p.218\n",
    "\n",
    "## newlist=oldlist[:] : copy value\n",
    "\n",
    "oldlist=['a','b','c','d']\n",
    "newlist=oldlist[:]\n",
    "print(newlist)\n",
    "oldlist[0]='z'\n",
    "oldlist.append('k')\n",
    "print(newlist)      "
   ]
  },
  {
   "cell_type": "markdown",
   "id": "fe650327-feee-4f84-bc32-d8e2c3069f89",
   "metadata": {},
   "source": [
    "### 9. STACK"
   ]
  },
  {
   "cell_type": "code",
   "execution_count": null,
   "id": "5697ef45-9ad3-47cb-b4f7-3729b6d13e8f",
   "metadata": {},
   "outputs": [],
   "source": []
  }
 ],
 "metadata": {
  "kernelspec": {
   "display_name": "Python 3 (ipykernel)",
   "language": "python",
   "name": "python3"
  },
  "language_info": {
   "codemirror_mode": {
    "name": "ipython",
    "version": 3
   },
   "file_extension": ".py",
   "mimetype": "text/x-python",
   "name": "python",
   "nbconvert_exporter": "python",
   "pygments_lexer": "ipython3",
   "version": "3.9.7"
  }
 },
 "nbformat": 4,
 "nbformat_minor": 5
}
