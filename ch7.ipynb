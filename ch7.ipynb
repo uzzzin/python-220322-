{
 "cells": [
  {
   "cell_type": "markdown",
   "id": "55bd597b-1867-4027-85d9-c65f4926c9f3",
   "metadata": {},
   "source": [
    "## Chap 7. list, tuple, dictionary"
   ]
  },
  {
   "cell_type": "markdown",
   "id": "434c6113-89d2-4899-8314-ebd329da93a2",
   "metadata": {},
   "source": [
    "#### 1. 리스트\n",
    "\n",
    "    변수의 변수(?)"
   ]
  },
  {
   "cell_type": "code",
   "execution_count": 3,
   "id": "b090a22a-894b-4068-8355-778ec4a8c69a",
   "metadata": {},
   "outputs": [
    {
     "name": "stdout",
     "output_type": "stream",
     "text": [
      "[0, 0, 0, 0, 0, 0, 0, 0, 0, 0, 0, 0, 0, 0, 0, 0, 0, 0, 0, 0, 0, 0, 0, 0, 0, 0, 0, 0, 0, 0, 0, 0, 0, 0, 0, 0, 0, 0, 0, 0, 0, 0, 0, 0, 0, 0, 0, 0, 0, 0, 0, 0, 0, 0, 0, 0, 0, 0, 0, 0, 0, 0, 0, 0, 0, 0, 0, 0, 0, 0, 0, 0, 0, 0, 0, 0, 0, 0, 0, 0, 0, 0, 0, 0, 0, 0, 0, 0, 0, 0, 0, 0, 0, 0, 0, 0, 0, 0, 0, 0]\n"
     ]
    },
    {
     "data": {
      "text/plain": [
       "100"
      ]
     },
     "execution_count": 3,
     "metadata": {},
     "output_type": "execute_result"
    }
   ],
   "source": [
    "\n",
    "# 빈 리스트 생성\n",
    "aa=[]\n",
    "\n",
    "# append () : 리스트 항목 추가 function\n",
    "\n",
    "for i in range(0,100) :\n",
    "    aa.append(0)\n",
    "\n",
    "print(aa)\n",
    "len(aa)\n"
   ]
  },
  {
   "cell_type": "code",
   "execution_count": 5,
   "id": "bcbb48da-8bc8-4edc-a106-d8aa207e5045",
   "metadata": {},
   "outputs": [
    {
     "name": "stdout",
     "output_type": "stream",
     "text": [
      "bb[0]: 198, bb[99]: 0\n"
     ]
    }
   ],
   "source": [
    "# 리스트 초기화\n",
    "\n",
    "aa=[]\n",
    "bb=[]\n",
    "value=0\n",
    "\n",
    "for i in range(0,100):\n",
    "    aa.append(value)\n",
    "    value += 2\n",
    "    \n",
    "for i in range(0,100):\n",
    "    bb.append(aa[99-i])\n",
    "    \n",
    "print(\"bb[0]: %d, bb[99]: %d\" %(bb[0],bb[99]))"
   ]
  },
  {
   "cell_type": "markdown",
   "id": "d60f02f4-f38e-4052-8303-b0a759f512fb",
   "metadata": {},
   "source": [
    "**리스트 접근 방법**\n",
    "\n",
    "aa[ plus ] : front dir\n",
    "aa[minus] : back dir\n",
    "\n",
    "**리스트 범위 지정**\n",
    "aa[0:3] = a[0] + a[1] + a[2]"
   ]
  }
 ],
 "metadata": {
  "kernelspec": {
   "display_name": "Python 3 (ipykernel)",
   "language": "python",
   "name": "python3"
  },
  "language_info": {
   "codemirror_mode": {
    "name": "ipython",
    "version": 3
   },
   "file_extension": ".py",
   "mimetype": "text/x-python",
   "name": "python",
   "nbconvert_exporter": "python",
   "pygments_lexer": "ipython3",
   "version": "3.9.7"
  }
 },
 "nbformat": 4,
 "nbformat_minor": 5
}
