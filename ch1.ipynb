{
 "cells": [
  {
   "cell_type": "markdown",
   "id": "a5a4e03e-bb1a-4d15-a1cf-3fadbfa0fca5",
   "metadata": {},
   "source": [
    "##### 사칙연산 연습문제"
   ]
  },
  {
   "cell_type": "markdown",
   "id": "c3d23720-37ae-46ca-81a5-a6db0e978017",
   "metadata": {},
   "source": [
    "셀 병합 : shift m\n",
    "실행 취소 : z"
   ]
  },
  {
   "cell_type": "code",
   "execution_count": null,
   "id": "a6df0fa9-ffd1-42eb-ae94-310eb0743ef0",
   "metadata": {},
   "outputs": [],
   "source": [
    "# int() 정수형\n",
    "# 형태 지정x > 문자열로 인식"
   ]
  },
  {
   "cell_type": "code",
   "execution_count": 13,
   "id": "e3455864-86b3-44e0-89b2-b186d017de28",
   "metadata": {},
   "outputs": [
    {
     "name": "stdin",
     "output_type": "stream",
     "text": [
      "숫자1 입력: 10\n",
      "숫자2 입력: 20\n",
      "숫자3 입력: 30\n"
     ]
    },
    {
     "data": {
      "text/plain": [
       "(10, 20, 30)"
      ]
     },
     "execution_count": 13,
     "metadata": {},
     "output_type": "execute_result"
    }
   ],
   "source": [
    "a=int(input(\"숫자1 입력:\"))  #a=int(input()) == a=input()>a=int()\n",
    "b=int(input(\"숫자2 입력:\"))\n",
    "c=int(input(\"숫자3 입력:\"))\n",
    "\n",
    "a,b,c"
   ]
  },
  {
   "cell_type": "code",
   "execution_count": 11,
   "id": "58631ada-eb06-4f4c-8bd8-2c60a547a49a",
   "metadata": {},
   "outputs": [
    {
     "data": {
      "text/plain": [
       "60"
      ]
     },
     "execution_count": 11,
     "metadata": {},
     "output_type": "execute_result"
    }
   ],
   "source": [
    "result1=a+b+c\n",
    "\n",
    "result1"
   ]
  },
  {
   "cell_type": "code",
   "execution_count": 12,
   "id": "4bf8adf6-e365-4668-b8f2-5cb23c755fb0",
   "metadata": {},
   "outputs": [
    {
     "data": {
      "text/plain": [
       "(60, 6000)"
      ]
     },
     "execution_count": 12,
     "metadata": {},
     "output_type": "execute_result"
    }
   ],
   "source": [
    "result2=a*b*c\n",
    "\n",
    "result1, result2"
   ]
  },
  {
   "cell_type": "code",
   "execution_count": 15,
   "id": "8b29da08-f9d0-44eb-961c-1d32f1ab9d36",
   "metadata": {},
   "outputs": [
    {
     "name": "stdout",
     "output_type": "stream",
     "text": [
      "10+20=30= 60\n"
     ]
    }
   ],
   "source": [
    "print(f\"{a}+{b}={c}=\", (a+b+c))  # a,b,c: int형 f\"{a}\"==\"%d\"a > 문자인식: f[\"\"]"
   ]
  }
 ],
 "metadata": {
  "kernelspec": {
   "display_name": "Python 3 (ipykernel)",
   "language": "python",
   "name": "python3"
  },
  "language_info": {
   "codemirror_mode": {
    "name": "ipython",
    "version": 3
   },
   "file_extension": ".py",
   "mimetype": "text/x-python",
   "name": "python",
   "nbconvert_exporter": "python",
   "pygments_lexer": "ipython3",
   "version": "3.9.7"
  }
 },
 "nbformat": 4,
 "nbformat_minor": 5
}
