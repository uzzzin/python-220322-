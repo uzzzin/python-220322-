{
 "cells": [
  {
   "cell_type": "markdown",
   "id": "774241aa-6590-4cb0-88a9-0f2fb2f4938d",
   "metadata": {},
   "source": [
    "### anaconda basic env"
   ]
  },
  {
   "cell_type": "markdown",
   "id": "e6cda95e-12a4-4cd0-9064-7e36fa45c5bb",
   "metadata": {},
   "source": [
    "**디렉토리 추가**\n",
    "    mkdir Files\n",
    "\n",
    "**가상환경**\n",
    "    제거 : (base)>conda remove -n [] --all\n",
    "    생성 : (base)>conda create -n [] python=[]\n",
    "    \n",
    "**Jupyter-lab**\n",
    "    설치 : (base)>conda install jupyterlab\n",
    "    실행 : (base)>jupyter-lab --no-browser []\n",
    "    \n",
    "**Pytho version check**\n",
    "    python -V\n",
    "    \n",
    "**Conda sw list**\n",
    "    conda list == pip freeze\n",
    "    (pip 추후 배움)"
   ]
  }
 ],
 "metadata": {
  "kernelspec": {
   "display_name": "Python 3 (ipykernel)",
   "language": "python",
   "name": "python3"
  },
  "language_info": {
   "codemirror_mode": {
    "name": "ipython",
    "version": 3
   },
   "file_extension": ".py",
   "mimetype": "text/x-python",
   "name": "python",
   "nbconvert_exporter": "python",
   "pygments_lexer": "ipython3",
   "version": "3.9.7"
  }
 },
 "nbformat": 4,
 "nbformat_minor": 5
}
