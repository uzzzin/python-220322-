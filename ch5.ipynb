{
 "cells": [
  {
   "cell_type": "markdown",
   "id": "0b4593ee-ac95-44ff-bf44-6cc30603b5b1",
   "metadata": {},
   "source": [
    "## Chapter5 조건문"
   ]
  },
  {
   "cell_type": "markdown",
   "id": "ab2b7aea-6826-4174-940d-108e28836e98",
   "metadata": {},
   "source": [
    "**코드 블럭 \" : \"**\n",
    "\n",
    "    들여쓰기\n",
    "        : if ,for ,while ,함수 ,def class\n",
    "        \n",
    "        {}; X\n",
    "        --> **indentatation critical**\n"
   ]
  },
  {
   "cell_type": "code",
   "execution_count": 1,
   "id": "0160db13-6079-4f4f-ace9-c00763219d5b",
   "metadata": {},
   "outputs": [
    {
     "name": "stdout",
     "output_type": "stream",
     "text": [
      "100보다 작네\n"
     ]
    }
   ],
   "source": [
    "a=90\n",
    "if a<100 :\n",
    "    print(\"100보다 작네\")"
   ]
  },
  {
   "cell_type": "code",
   "execution_count": 2,
   "id": "c6f1bb9b-f961-4cd6-8491-bb6c769fa7b5",
   "metadata": {},
   "outputs": [
    {
     "name": "stdout",
     "output_type": "stream",
     "text": [
      "거짓임\n",
      "pr end\n"
     ]
    }
   ],
   "source": [
    "a=200\n",
    "if a<100:\n",
    "    print(\"100보다 작네\")\n",
    "    \n",
    "print(\"거짓임\")\n",
    "print(\"pr end\")"
   ]
  },
  {
   "cell_type": "code",
   "execution_count": 3,
   "id": "b20507a9-1d00-45bf-af56-7677b6cfc9fd",
   "metadata": {},
   "outputs": [
    {
     "name": "stdout",
     "output_type": "stream",
     "text": [
      "100보다 큰가\n"
     ]
    }
   ],
   "source": [
    "a=200\n",
    "\n",
    "if a<100:\n",
    "    print(\"100보다 작아\")\n",
    "else :\n",
    "    print(\"100보다 큰가\")"
   ]
  },
  {
   "cell_type": "code",
   "execution_count": 5,
   "id": "569190e2-de38-4dc8-81c4-a3d2af797d30",
   "metadata": {
    "tags": []
   },
   "outputs": [
    {
     "name": "stdout",
     "output_type": "stream",
     "text": [
      "big\n",
      "false\n",
      "the end\n"
     ]
    }
   ],
   "source": [
    "a=200\n",
    "\n",
    "if a<100:\n",
    "    print(\"small\")\n",
    "    print(\"can u see it?\")\n",
    "else :\n",
    "    print(\"big\")\n",
    "    print(\"false\")\n",
    "    \n",
    "print(\"the end\")"
   ]
  },
  {
   "cell_type": "code",
   "execution_count": 7,
   "id": "ae92e8fe-4a7f-40f8-a2a3-c91de8efa6f0",
   "metadata": {},
   "outputs": [
    {
     "name": "stdin",
     "output_type": "stream",
     "text": [
      "number check: 8\n"
     ]
    },
    {
     "name": "stdout",
     "output_type": "stream",
     "text": [
      "짝수\n"
     ]
    }
   ],
   "source": [
    "a=int(input(\"number check:\"))\n",
    "\n",
    "if a%2==0 :\n",
    "    print(\"짝수\")\n",
    "else :\n",
    "    print(\"홀수\")"
   ]
  },
  {
   "cell_type": "markdown",
   "id": "dfff1f4c-8b00-4a80-a232-da84ca7742b4",
   "metadata": {},
   "source": [
    "\n",
    "**중첩 if 문**\n",
    "\n",
    "1. if ~else if ~else"
   ]
  },
  {
   "cell_type": "code",
   "execution_count": 13,
   "id": "d869937f-b7a3-4350-b23c-d8771d70717e",
   "metadata": {},
   "outputs": [
    {
     "name": "stdin",
     "output_type": "stream",
     "text": [
      "your score: 57\n"
     ]
    },
    {
     "name": "stdout",
     "output_type": "stream",
     "text": [
      "C\n"
     ]
    }
   ],
   "source": [
    "score=int(input(\"your score:\"))\n",
    "\n",
    "if score>=90:\n",
    "    print(\"A\")\n",
    "else:\n",
    "    if score>=80:\n",
    "        print(\"B\")\n",
    "    else:\n",
    "        print(\"C\")"
   ]
  },
  {
   "cell_type": "markdown",
   "id": "3a92c415-026b-45ea-a9b2-ad1cf2e054e1",
   "metadata": {},
   "source": [
    "2. if~ elif ~else"
   ]
  },
  {
   "cell_type": "code",
   "execution_count": 18,
   "id": "d06849e2-9344-48ab-8656-053d7a9a6bf1",
   "metadata": {},
   "outputs": [
    {
     "name": "stdin",
     "output_type": "stream",
     "text": [
      "your score: 98\n"
     ]
    },
    {
     "name": "stdout",
     "output_type": "stream",
     "text": [
      "A\n"
     ]
    }
   ],
   "source": [
    "score=int(input(\"your score:\"))\n",
    "\n",
    "if score>=90:\n",
    "    print(\"A\")\n",
    "elif score>=80:\n",
    "    print(\"B\")\n",
    "else:\n",
    "    print(\"C\")"
   ]
  },
  {
   "cell_type": "markdown",
   "id": "26513cf2-fefa-4ad2-ba51-a671c9d35505",
   "metadata": {},
   "source": [
    "**삼항 연산자 : if ~else 한줄로 정리 --> JAVA**"
   ]
  },
  {
   "cell_type": "code",
   "execution_count": 21,
   "id": "9295a14c-2cda-41a5-9ec5-8e5019a6f323",
   "metadata": {},
   "outputs": [
    {
     "name": "stdout",
     "output_type": "stream",
     "text": [
      "nope\n"
     ]
    }
   ],
   "source": [
    "jamsu = 55\n",
    "\n",
    "res=''\n",
    "\n",
    "res='ok' if jamsu>=60 else 'nope'\n",
    "\n",
    "print(res)\n",
    "\n",
    "\n",
    "### if jamsu >= 60:\n",
    "###     res = 'ok'\n",
    "### else :\n",
    "###     res= 'nope'\n",
    "### print(res)"
   ]
  },
  {
   "cell_type": "markdown",
   "id": "9b7836ac-c591-4e8e-b98d-bc0d566c4b3a",
   "metadata": {},
   "source": [
    "**list : 여러 데이터 정렬**"
   ]
  },
  {
   "cell_type": "code",
   "execution_count": 20,
   "id": "45fa88f4-bf34-4621-b60c-e5f509b4aab9",
   "metadata": {},
   "outputs": [
    {
     "name": "stdout",
     "output_type": "stream",
     "text": [
      "['pizza', 'chicken', 'beer']\n"
     ]
    }
   ],
   "source": [
    "food=['pizza','chicken','beer']\n",
    "print(food)"
   ]
  },
  {
   "cell_type": "code",
   "execution_count": 22,
   "id": "9d106eca-f724-46ab-bc16-7d07365748d0",
   "metadata": {},
   "outputs": [
    {
     "name": "stdout",
     "output_type": "stream",
     "text": [
      "['pizza', 'chicken', 'beer', 'soju']\n"
     ]
    }
   ],
   "source": [
    "food.append('soju')\n",
    "print(food)"
   ]
  },
  {
   "cell_type": "code",
   "execution_count": 23,
   "id": "8dbba963-19fb-4e86-8de2-1d3aeddff1fb",
   "metadata": {},
   "outputs": [
    {
     "name": "stdout",
     "output_type": "stream",
     "text": [
      "yummy!\n"
     ]
    }
   ],
   "source": [
    "if 'soju' in food:\n",
    "    print(\"yummy!\")"
   ]
  },
  {
   "cell_type": "code",
   "execution_count": 25,
   "id": "b217440b-3cd8-4a61-a92b-a924e1d8c3bf",
   "metadata": {},
   "outputs": [
    {
     "name": "stdout",
     "output_type": "stream",
     "text": [
      "list: [8, 3, 2, 2, 9, 3, 2, 2, 4, 8]\n",
      "number 0 is not exist\n",
      "number 1 is not exist\n",
      "number 5 is not exist\n",
      "number 6 is not exist\n",
      "number 7 is not exist\n"
     ]
    }
   ],
   "source": [
    "import random\n",
    "\n",
    "numbers=[]\n",
    "for num in range(0,10):\n",
    "    numbers.append(random.randrange(0,10))\n",
    "print(\"list:\",numbers)\n",
    "\n",
    "for num in range(0,10):\n",
    "    if num not in numbers:\n",
    "        print(\"number %d is not exist\" %num)"
   ]
  },
  {
   "cell_type": "code",
   "execution_count": null,
   "id": "048f5af9-3134-49bb-9353-93e63318ae2a",
   "metadata": {},
   "outputs": [],
   "source": []
  }
 ],
 "metadata": {
  "kernelspec": {
   "display_name": "Python 3 (ipykernel)",
   "language": "python",
   "name": "python3"
  },
  "language_info": {
   "codemirror_mode": {
    "name": "ipython",
    "version": 3
   },
   "file_extension": ".py",
   "mimetype": "text/x-python",
   "name": "python",
   "nbconvert_exporter": "python",
   "pygments_lexer": "ipython3",
   "version": "3.9.7"
  }
 },
 "nbformat": 4,
 "nbformat_minor": 5
}
