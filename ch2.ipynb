{
 "cells": [
  {
   "cell_type": "code",
   "execution_count": 7,
   "id": "cfc8f211-6713-40a8-a47f-3c9bcb4a04e2",
   "metadata": {},
   "outputs": [],
   "source": [
    "a = 100"
   ]
  },
  {
   "cell_type": "code",
   "execution_count": null,
   "id": "133b01ae-d65a-425b-81e6-f8922da4b032",
   "metadata": {},
   "outputs": [],
   "source": [
    "b = 50"
   ]
  },
  {
   "cell_type": "code",
   "execution_count": 8,
   "id": "497180f8-3c08-4098-93b7-b354392e14e3",
   "metadata": {},
   "outputs": [
    {
     "data": {
      "text/plain": [
       "100"
      ]
     },
     "execution_count": 8,
     "metadata": {},
     "output_type": "execute_result"
    }
   ],
   "source": [
    "a"
   ]
  },
  {
   "cell_type": "code",
   "execution_count": 9,
   "id": "bc86fb7b-489d-4c7b-8b47-bd22f752926a",
   "metadata": {},
   "outputs": [
    {
     "name": "stdout",
     "output_type": "stream",
     "text": [
      "100\n"
     ]
    }
   ],
   "source": [
    "print(a)"
   ]
  },
  {
   "cell_type": "code",
   "execution_count": 12,
   "id": "0ede0127-f9b9-4508-86b9-6f9e261f69e3",
   "metadata": {},
   "outputs": [
    {
     "data": {
      "text/plain": [
       "50"
      ]
     },
     "execution_count": 12,
     "metadata": {},
     "output_type": "execute_result"
    }
   ],
   "source": [
    "b"
   ]
  },
  {
   "cell_type": "code",
   "execution_count": 14,
   "id": "8af67849-bcbc-4c6a-b001-4a6ac9025bc6",
   "metadata": {},
   "outputs": [
    {
     "data": {
      "text/plain": [
       "(100, 50)"
      ]
     },
     "execution_count": 15,
     "metadata": {},
     "output_type": "execute_result"
    }
   ],
   "source": [
    "a, b   #튜플 반환"
   ]
  },
  {
   "cell_type": "markdown",
   "id": "84bd457c-577a-4ee8-8665-832152cdee0b",
   "metadata": {},
   "source": [
    "두 변수의 값을 동시에 알고 싶을때 , (콤마)를 사용한다."
   ]
  },
  {
   "cell_type": "code",
   "execution_count": 17,
   "id": "ba245062-75c2-40db-a78d-7f5764b9ff8c",
   "metadata": {},
   "outputs": [
    {
     "ename": "SyntaxError",
     "evalue": "invalid syntax (Temp/ipykernel_3992/210263012.py, line 1)",
     "output_type": "error",
     "traceback": [
      "\u001b[1;36m  File \u001b[1;32m\"C:\\Users\\BIT\\AppData\\Local\\Temp/ipykernel_3992/210263012.py\"\u001b[1;36m, line \u001b[1;32m1\u001b[0m\n\u001b[1;33m    a b\u001b[0m\n\u001b[1;37m      ^\u001b[0m\n\u001b[1;31mSyntaxError\u001b[0m\u001b[1;31m:\u001b[0m invalid syntax\n"
     ]
    }
   ],
   "source": [
    "a b"
   ]
  },
  {
   "cell_type": "markdown",
   "id": "bacff8ff-a087-4316-882a-a6081e38d985",
   "metadata": {},
   "source": [
    "a b가 원인이고, syntaxError가 구문오류(결과)이다."
   ]
  },
  {
   "cell_type": "code",
   "execution_count": 19,
   "id": "800ddfe3-bc33-478f-be1a-4155be29fcc7",
   "metadata": {},
   "outputs": [
    {
     "data": {
      "text/plain": [
       "150"
      ]
     },
     "execution_count": 19,
     "metadata": {},
     "output_type": "execute_result"
    }
   ],
   "source": [
    "a + b"
   ]
  },
  {
   "cell_type": "code",
   "execution_count": 21,
   "id": "3f2a84b8-4a05-49e0-8148-4e88e1938c6d",
   "metadata": {},
   "outputs": [
    {
     "data": {
      "text/plain": [
       "50"
      ]
     },
     "execution_count": 21,
     "metadata": {},
     "output_type": "execute_result"
    }
   ],
   "source": [
    "a - b"
   ]
  },
  {
   "cell_type": "code",
   "execution_count": 23,
   "id": "5906df28-d953-48cb-9e27-6bbca93a011e",
   "metadata": {},
   "outputs": [
    {
     "data": {
      "text/plain": [
       "2.0"
      ]
     },
     "execution_count": 23,
     "metadata": {},
     "output_type": "execute_result"
    }
   ],
   "source": [
    "a / b"
   ]
  },
  {
   "cell_type": "code",
   "execution_count": 24,
   "id": "d2f35d24-54e0-4d15-8f84-c63a02c0c9a9",
   "metadata": {},
   "outputs": [
    {
     "data": {
      "text/plain": [
       "5000"
      ]
     },
     "execution_count": 24,
     "metadata": {},
     "output_type": "execute_result"
    }
   ],
   "source": [
    "a * b"
   ]
  },
  {
   "cell_type": "markdown",
   "id": "94b24174-28b6-4ebf-ae19-40d740bdbb21",
   "metadata": {},
   "source": [
    "* 값을 직접쓰는게 아니라 식별된 언어로 작성한다.\n",
    "* 오늘은 소스코드를 다루지 않음."
   ]
  },
  {
   "cell_type": "code",
   "execution_count": 26,
   "id": "2654bb22-135c-48e1-80f2-b7254876725a",
   "metadata": {},
   "outputs": [
    {
     "data": {
      "text/plain": [
       "5000"
      ]
     },
     "execution_count": 26,
     "metadata": {},
     "output_type": "execute_result"
    }
   ],
   "source": [
    "result = a *b\n",
    "result"
   ]
  },
  {
   "cell_type": "code",
   "execution_count": 27,
   "id": "dd4d9792-ff80-4d20-a477-3b68b573cf67",
   "metadata": {},
   "outputs": [
    {
     "data": {
      "text/plain": [
       "50000"
      ]
     },
     "execution_count": 27,
     "metadata": {},
     "output_type": "execute_result"
    }
   ],
   "source": [
    "result * 10           # 변수를 사용해야 변별하기에 쉽다."
   ]
  },
  {
   "cell_type": "code",
   "execution_count": 32,
   "id": "ff354492-8b1d-4f3e-9a1a-420d9f7f9d9e",
   "metadata": {},
   "outputs": [
    {
     "data": {
      "text/plain": [
       "100.0"
      ]
     },
     "execution_count": 32,
     "metadata": {},
     "output_type": "execute_result"
    }
   ],
   "source": [
    "math_score = 100\n",
    "eng_score = 100\n",
    "average = (math_score + eng_score) /2\n",
    "average                                     # Python은 이름을 짓는데있어서 java(정형화된 언어)보다 자유롭다."
   ]
  },
  {
   "cell_type": "code",
   "execution_count": 37,
   "id": "4a5175c5-345e-4afb-9413-870ce06b60b6",
   "metadata": {},
   "outputs": [
    {
     "name": "stdout",
     "output_type": "stream",
     "text": [
      "100 + 50 = 5000\n"
     ]
    }
   ],
   "source": [
    "# 결과 출력\n",
    "print(a, '+', b, '=', result)"
   ]
  },
  {
   "cell_type": "code",
   "execution_count": 38,
   "id": "92a8b53a-67ff-4d18-8bd4-90472a2f303c",
   "metadata": {},
   "outputs": [],
   "source": [
    "a = 100"
   ]
  },
  {
   "cell_type": "code",
   "execution_count": 39,
   "id": "5b83d4b0-36c3-47f7-82c1-5f2d890e14f7",
   "metadata": {},
   "outputs": [],
   "source": [
    "b = 50"
   ]
  },
  {
   "cell_type": "code",
   "execution_count": 40,
   "id": "372b9a48-de26-4027-8520-6963d005a1db",
   "metadata": {},
   "outputs": [],
   "source": [
    "result = a + b"
   ]
  },
  {
   "cell_type": "code",
   "execution_count": 41,
   "id": "fc17790e-5530-4396-9c51-8d7cb49f8b51",
   "metadata": {},
   "outputs": [
    {
     "name": "stdout",
     "output_type": "stream",
     "text": [
      "150\n"
     ]
    }
   ],
   "source": [
    "print(result)"
   ]
  },
  {
   "cell_type": "code",
   "execution_count": 42,
   "id": "d37f0313-3fc2-480e-9286-65462916b64b",
   "metadata": {},
   "outputs": [
    {
     "name": "stdout",
     "output_type": "stream",
     "text": [
      "100 + 50 = 150\n"
     ]
    }
   ],
   "source": [
    "print(a, '+', b, '=', result)"
   ]
  },
  {
   "cell_type": "code",
   "execution_count": 43,
   "id": "d043e8ca-4e81-4974-8a4a-15bf73aa089a",
   "metadata": {},
   "outputs": [],
   "source": [
    "result = a-b"
   ]
  },
  {
   "cell_type": "code",
   "execution_count": 44,
   "id": "10c5df44-7d11-4bb5-ad01-be7b6808802e",
   "metadata": {},
   "outputs": [
    {
     "name": "stdout",
     "output_type": "stream",
     "text": [
      "100 - 50 = 50\n"
     ]
    }
   ],
   "source": [
    "print(a, '-', b, '=', result)"
   ]
  },
  {
   "cell_type": "code",
   "execution_count": 45,
   "id": "d64a2a26-0d90-4105-add8-41e88bb06fb1",
   "metadata": {},
   "outputs": [],
   "source": [
    "result = a * b"
   ]
  },
  {
   "cell_type": "code",
   "execution_count": 46,
   "id": "d53080c5-3a23-4317-b985-584502d2409c",
   "metadata": {},
   "outputs": [
    {
     "name": "stdout",
     "output_type": "stream",
     "text": [
      "100 * b = 5000\n"
     ]
    }
   ],
   "source": [
    "print(a, '*', 'b', '=', result)"
   ]
  },
  {
   "cell_type": "code",
   "execution_count": 47,
   "id": "bc0457ed-ff83-4596-9d66-5943775200ad",
   "metadata": {},
   "outputs": [],
   "source": [
    "result = a / b"
   ]
  },
  {
   "cell_type": "code",
   "execution_count": 48,
   "id": "2ad453eb-ee92-427b-b5e3-9c518c1ce24b",
   "metadata": {},
   "outputs": [
    {
     "name": "stdout",
     "output_type": "stream",
     "text": [
      "100 / 50 = 2.0\n"
     ]
    }
   ],
   "source": [
    "print(a, '/', b, '=', result)"
   ]
  },
  {
   "cell_type": "code",
   "execution_count": 2,
   "id": "9a3b9d74-6f04-4446-84f8-810207777f4e",
   "metadata": {},
   "outputs": [],
   "source": [
    "exit()"
   ]
  },
  {
   "cell_type": "markdown",
   "id": "1bb97419-b141-4ef2-94b3-a84d4a3494d3",
   "metadata": {},
   "source": [
    "* 위에 했던 사칙연산들을 파이썬 소스에서 작성해볼 것"
   ]
  },
  {
   "cell_type": "markdown",
   "id": "3e459341-2126-45c4-a126-e01a9fc5b11e",
   "metadata": {},
   "source": [
    "# int() 함수를 사용해 정수로 변환 (p.48)"
   ]
  },
  {
   "cell_type": "code",
   "execution_count": null,
   "id": "4d78fcc3-249e-48c0-baad-5e62f97d019c",
   "metadata": {},
   "outputs": [],
   "source": [
    "a = int(input(\"첫 번째 숫자를 입력하세요:\"))\n",
    "b = int(input(\"두 번째 숫자를 입력하세요:\"))\n",
    "\n",
    "result = a + b\n",
    "print(a, \"+\", b, \"=\", result)\n",
    "result = a - b\n",
    "print(a, \"-\", b, \"=\", result)\n",
    "result = a * b\n",
    "print(a, \"*\", b, \"=\", result)\n",
    "result = a / b\n",
    "print(a, \"/\", b, \"=\", result)"
   ]
  },
  {
   "cell_type": "markdown",
   "id": "4b712f2b-1252-4230-8027-b5dd0deca912",
   "metadata": {},
   "source": [
    "# 연습문제 7번 (p.60)"
   ]
  },
  {
   "cell_type": "code",
   "execution_count": 6,
   "id": "8c1d0318-c751-4905-bf68-d4cec1f92cc0",
   "metadata": {},
   "outputs": [
    {
     "name": "stdout",
     "output_type": "stream",
     "text": [
      "10 + 20 + 30 = 60\n",
      "10 * 20 * 30 = 6000\n"
     ]
    }
   ],
   "source": [
    "a = 10\n",
    "b = 20\n",
    "c = 30\n",
    "\n",
    "result = a + b + c\n",
    "print(a, '+', b, '+', c, '=', result)\n",
    "result = a * b * c\n",
    "print(a, '*', b, '*', c, '=', result)"
   ]
  },
  {
   "cell_type": "code",
   "execution_count": null,
   "id": "3ed081fd-74b5-4f43-9168-1cd3afe17cd5",
   "metadata": {},
   "outputs": [],
   "source": []
  },
  {
   "cell_type": "code",
   "execution_count": null,
   "id": "2b5a1cd0-1b2e-48ec-b71d-d873ba48922f",
   "metadata": {},
   "outputs": [],
   "source": []
  },
  {
   "cell_type": "code",
   "execution_count": null,
   "id": "914ffd07-923e-4fff-a3d3-6cc6a54917b3",
   "metadata": {},
   "outputs": [],
   "source": []
  }
 ],
 "metadata": {
  "kernelspec": {
   "display_name": "Python 3 (ipykernel)",
   "language": "python",
   "name": "python3"
  },
  "language_info": {
   "codemirror_mode": {
    "name": "ipython",
    "version": 3
   },
   "file_extension": ".py",
   "mimetype": "text/x-python",
   "name": "python",
   "nbconvert_exporter": "python",
   "pygments_lexer": "ipython3",
   "version": "3.9.7"
  }
 },
 "nbformat": 4,
 "nbformat_minor": 5
}
