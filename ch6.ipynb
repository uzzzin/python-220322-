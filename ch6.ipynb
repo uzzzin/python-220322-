{
 "cells": [
  {
   "cell_type": "markdown",
   "id": "050aaf99-00dc-43ad-88d5-2e52991c2e85",
   "metadata": {},
   "source": [
    "## Chap6 반복문"
   ]
  },
  {
   "cell_type": "markdown",
   "id": "e40973c1-01e2-4d43-81d9-fb8f1c949dd5",
   "metadata": {},
   "source": [
    "**반복문**\n",
    "\n",
    "   1. for문\n",
    "       --> for 변수 in range(시작값, 끝값+1, 증가값) :\n",
    "               (반복부분)      \n",
    "   2. while문\n",
    "       --> while 조건 : (반복부분)\n",
    "       \n",
    "       \n",
    "   **무한루프 >> 조건식=TRUE**\n",
    "       \n",
    "       1. ctrl+c\n",
    "       2. break\n",
    "        "
   ]
  },
  {
   "cell_type": "markdown",
   "id": "b9a81e1d-1305-413e-9ddf-34c2279e5fdf",
   "metadata": {},
   "source": [
    "### 1. FOR 문"
   ]
  },
  {
   "cell_type": "code",
   "execution_count": 26,
   "id": "799b2d03-5d34-4ac5-9d8c-9742a0160368",
   "metadata": {},
   "outputs": [
    {
     "name": "stdout",
     "output_type": "stream",
     "text": [
      "yaong\n",
      "yaong\n",
      "yaong\n"
     ]
    }
   ],
   "source": [
    "##변수 i: 대입, 사용X\n",
    "\n",
    "for i in range(0,3,1):\n",
    "    print(\"yaong\")"
   ]
  },
  {
   "cell_type": "code",
   "execution_count": 4,
   "id": "2e2e0060-69ba-4940-802b-10620cd230cd",
   "metadata": {},
   "outputs": [
    {
     "name": "stdout",
     "output_type": "stream",
     "text": [
      "sum= 55\n"
     ]
    }
   ],
   "source": [
    "#범위 내 모든 수의 합\n",
    "\n",
    "i, hap = 0, 0\n",
    "\n",
    "for i in range(1,11,1):\n",
    "    hap=hap+i\n",
    "    \n",
    "print(\"sum= %d\" %hap)"
   ]
  },
  {
   "cell_type": "code",
   "execution_count": 7,
   "id": "3d1b14f7-0f85-4511-aab5-09f01e470129",
   "metadata": {},
   "outputs": [
    {
     "name": "stdout",
     "output_type": "stream",
     "text": [
      " odd sum=187500\n"
     ]
    }
   ],
   "source": [
    "#범위 내 홀수의 합\n",
    "\n",
    "i,hap=0,0\n",
    "\n",
    "for i in range(501,1001,2) :\n",
    "    hap=hap+i\n",
    "    \n",
    "print(\" odd sum=%d\" %hap)"
   ]
  },
  {
   "cell_type": "code",
   "execution_count": 9,
   "id": "38c9b5ae-7939-496a-aa06-a5db58e148a5",
   "metadata": {},
   "outputs": [
    {
     "name": "stdin",
     "output_type": "stream",
     "text": [
      "start: 4\n",
      "finish: 8\n",
      "add: 2\n"
     ]
    },
    {
     "name": "stdout",
     "output_type": "stream",
     "text": [
      "sum= 18\n"
     ]
    }
   ],
   "source": [
    "#범위 내 특정 배수의 합- 사용자 정의\n",
    "\n",
    "i, hap = 0, 0\n",
    "num1, num2, num3 = 0, 0, 0\n",
    "\n",
    "num1=int(input(\"start:\"))\n",
    "num2=int(input(\"finish:\"))\n",
    "num3=int(input(\"add:\"))\n",
    "\n",
    "for i in range(num1,num2+1,num3):\n",
    "    hap=hap+i\n",
    "    \n",
    "print(\"sum= %d\" %hap)"
   ]
  },
  {
   "cell_type": "code",
   "execution_count": 1,
   "id": "15801ddd-7d5c-4f6f-b04d-f58ee9ee2731",
   "metadata": {},
   "outputs": [
    {
     "name": "stdout",
     "output_type": "stream",
     "text": [
      "735\n"
     ]
    }
   ],
   "source": [
    "#p.156\n",
    "##self study 6-1\n",
    "\n",
    "i, sum =0, 0\n",
    "\n",
    "for i in range(0,101,7):\n",
    "    sum=sum+i\n",
    "    \n",
    "print(sum)"
   ]
  },
  {
   "cell_type": "code",
   "execution_count": 30,
   "id": "0feff741-eedb-429b-9e5c-7732d3eb60a6",
   "metadata": {},
   "outputs": [
    {
     "name": "stdin",
     "output_type": "stream",
     "text": [
      "dan?: 7\n"
     ]
    },
    {
     "name": "stdout",
     "output_type": "stream",
     "text": [
      "7 x 9 = 63\n",
      "7 x 8 = 56\n",
      "7 x 7 = 49\n",
      "7 x 6 = 42\n",
      "7 x 5 = 35\n",
      "7 x 4 = 28\n",
      "7 x 3 = 21\n",
      "7 x 2 = 14\n",
      "7 x 1 =  7\n"
     ]
    }
   ],
   "source": [
    "#p.157\n",
    "##self study6-2\n",
    "\n",
    "i, dan=0,0\n",
    "\n",
    "dan=int(input(\"dan?:\"))\n",
    "\n",
    "for i in range(9,0,-1):\n",
    "    print(\"%d x %d = %2d\" %(dan,i,dan*i))"
   ]
  },
  {
   "cell_type": "markdown",
   "id": "1fdc8864-f51b-43cc-b9ee-36186feaf6d1",
   "metadata": {},
   "source": [
    "**중첩 for 문**"
   ]
  },
  {
   "cell_type": "code",
   "execution_count": 33,
   "id": "0aac6e57-e6cb-4099-9bf0-cdc30b33c04b",
   "metadata": {},
   "outputs": [
    {
     "name": "stdout",
     "output_type": "stream",
     "text": [
      "coffe plz..i:0 k0\n",
      "coffe plz..i:0 k1\n",
      "coffe plz..i:1 k0\n",
      "coffe plz..i:1 k1\n",
      "coffe plz..i:2 k0\n",
      "coffe plz..i:2 k1\n"
     ]
    }
   ],
   "source": [
    "for i in range(0,3,1):\n",
    "    for k in range(0,2,1):\n",
    "        print(\"coffe plz..i:%d k%d\"%(i,k))"
   ]
  },
  {
   "cell_type": "code",
   "execution_count": 47,
   "id": "d4593865-89d7-4e1d-8bcf-db3294b451fb",
   "metadata": {},
   "outputs": [
    {
     "data": {
      "text/plain": [
       "\u001b[1;31mDocstring:\u001b[0m\n",
       "print(value, ..., sep=' ', end='\\n', file=sys.stdout, flush=False)\n",
       "\n",
       "Prints the values to a stream, or to sys.stdout by default.\n",
       "Optional keyword arguments:\n",
       "file:  a file-like object (stream); defaults to the current sys.stdout.\n",
       "sep:   string inserted between values, default a space.\n",
       "end:   string appended after the last value, default a newline.\n",
       "flush: whether to forcibly flush the stream.\n",
       "\u001b[1;31mType:\u001b[0m      builtin_function_or_method\n"
      ]
     },
     "metadata": {},
     "output_type": "display_data"
    }
   ],
   "source": [
    "print?"
   ]
  },
  {
   "cell_type": "code",
   "execution_count": 2,
   "id": "76ffaf0b-171e-4786-a311-944a46049d34",
   "metadata": {},
   "outputs": [
    {
     "name": "stdout",
     "output_type": "stream",
     "text": [
      "2단2 x 0 = 0\n",
      "2 x 1 = 2\n",
      "2 x 2 = 4\n",
      "2 x 3 = 6\n",
      "2 x 4 = 8\n",
      "2 x 5 = 10\n",
      "2 x 6 = 12\n",
      "2 x 7 = 14\n",
      "2 x 8 = 16\n",
      "2 x 9 = 18\n",
      "\n",
      "3단3 x 0 = 0\n",
      "3 x 1 = 3\n",
      "3 x 2 = 6\n",
      "3 x 3 = 9\n",
      "3 x 4 = 12\n",
      "3 x 5 = 15\n",
      "3 x 6 = 18\n",
      "3 x 7 = 21\n",
      "3 x 8 = 24\n",
      "3 x 9 = 27\n",
      "\n",
      "4단4 x 0 = 0\n",
      "4 x 1 = 4\n",
      "4 x 2 = 8\n",
      "4 x 3 = 12\n",
      "4 x 4 = 16\n",
      "4 x 5 = 20\n",
      "4 x 6 = 24\n",
      "4 x 7 = 28\n",
      "4 x 8 = 32\n",
      "4 x 9 = 36\n",
      "\n",
      "5단5 x 0 = 0\n",
      "5 x 1 = 5\n",
      "5 x 2 = 10\n",
      "5 x 3 = 15\n",
      "5 x 4 = 20\n",
      "5 x 5 = 25\n",
      "5 x 6 = 30\n",
      "5 x 7 = 35\n",
      "5 x 8 = 40\n",
      "5 x 9 = 45\n",
      "\n",
      "6단6 x 0 = 0\n",
      "6 x 1 = 6\n",
      "6 x 2 = 12\n",
      "6 x 3 = 18\n",
      "6 x 4 = 24\n",
      "6 x 5 = 30\n",
      "6 x 6 = 36\n",
      "6 x 7 = 42\n",
      "6 x 8 = 48\n",
      "6 x 9 = 54\n",
      "\n",
      "7단7 x 0 = 0\n",
      "7 x 1 = 7\n",
      "7 x 2 = 14\n",
      "7 x 3 = 21\n",
      "7 x 4 = 28\n",
      "7 x 5 = 35\n",
      "7 x 6 = 42\n",
      "7 x 7 = 49\n",
      "7 x 8 = 56\n",
      "7 x 9 = 63\n",
      "\n",
      "8단8 x 0 = 0\n",
      "8 x 1 = 8\n",
      "8 x 2 = 16\n",
      "8 x 3 = 24\n",
      "8 x 4 = 32\n",
      "8 x 5 = 40\n",
      "8 x 6 = 48\n",
      "8 x 7 = 56\n",
      "8 x 8 = 64\n",
      "8 x 9 = 72\n",
      "\n",
      "9단9 x 0 = 0\n",
      "9 x 1 = 9\n",
      "9 x 2 = 18\n",
      "9 x 3 = 27\n",
      "9 x 4 = 36\n",
      "9 x 5 = 45\n",
      "9 x 6 = 54\n",
      "9 x 7 = 63\n",
      "9 x 8 = 72\n",
      "9 x 9 = 81\n",
      "\n"
     ]
    }
   ],
   "source": [
    "#구구단 전체\n",
    "\n",
    "i,k=0,0\n",
    "\n",
    "for i in range(2,10,1):\n",
    "    print(\"%d단\" %i,end=\"\")\n",
    "    for k in range(0,10,1):\n",
    "        print(\"%d x %d = %d\" %(i,k,i*k))\n",
    "    print(\"\")"
   ]
  },
  {
   "cell_type": "code",
   "execution_count": 54,
   "id": "023e720b-fdcb-480b-a21c-00d5ef8a1fee",
   "metadata": {},
   "outputs": [
    {
     "name": "stdout",
     "output_type": "stream",
     "text": [
      "*\n",
      "**\n",
      "***\n",
      "****\n",
      "*****\n"
     ]
    }
   ],
   "source": [
    "##triangle\n",
    "\n",
    "i,k=0,0\n",
    "\n",
    "for i in range(1,6):\n",
    "    for j in range(1,i+1):\n",
    "        print(\"*\",end='')\n",
    "    print('')"
   ]
  },
  {
   "cell_type": "markdown",
   "id": "261a057b-89de-4676-bbf5-c432bb5b715f",
   "metadata": {},
   "source": [
    "**for sentence >> start~end**"
   ]
  },
  {
   "cell_type": "markdown",
   "id": "5a124c2d-4fb6-4933-97e4-9970d7749d55",
   "metadata": {},
   "source": [
    "### 2. WHILE 문"
   ]
  },
  {
   "cell_type": "markdown",
   "id": "8e32882e-f360-423f-9789-569e48f81639",
   "metadata": {},
   "source": [
    "\n",
    "(vs for)\n",
    "변수=시작값\n",
    "\n",
    "while 변수<끝값:\n",
    "    반복부분\n",
    "    변수=변수+증가값\n",
    "    \n",
    "    \n",
    "    >> **break point exist**"
   ]
  },
  {
   "cell_type": "code",
   "execution_count": 44,
   "id": "31b5a27e-e6c5-4ea3-9d97-4572839c635d",
   "metadata": {},
   "outputs": [
    {
     "name": "stdin",
     "output_type": "stream",
     "text": [
      "start: 5\n",
      "end: 8\n",
      "add: 2\n"
     ]
    },
    {
     "name": "stdout",
     "output_type": "stream",
     "text": [
      "sum=12\n"
     ]
    }
   ],
   "source": [
    "#p.156 code 06-05 > while change\n",
    "\n",
    "\n",
    "i,hap =0,0\n",
    "num1, num2, num3 =0,0,0\n",
    "\n",
    "num1=int(input(\"start:\"))\n",
    "num2=int(input(\"end:\"))\n",
    "num3=int(input(\"add:\"))\n",
    "\n",
    "while num1<num2+1:\n",
    "    hap+=num1\n",
    "    num1+=num3\n",
    "    \n",
    "print(\"sum=%d\"%hap)\n"
   ]
  },
  {
   "cell_type": "markdown",
   "id": "53b7d8c7-3278-4b0e-801d-66479ab95d7e",
   "metadata": {},
   "source": [
    "**while-무한 루프**\n",
    "\n",
    "    while True :\n",
    "            (...) --> 무한 반복(roop)\n",
    "        \n",
    "    **escape: ctrl + c\n",
    "    "
   ]
  },
  {
   "cell_type": "code",
   "execution_count": 46,
   "id": "f70052f8-f029-4698-8c0f-a0d9bb63e35b",
   "metadata": {},
   "outputs": [
    {
     "name": "stdin",
     "output_type": "stream",
     "text": [
      "first: 3\n",
      "second: 5\n"
     ]
    },
    {
     "name": "stdout",
     "output_type": "stream",
     "text": [
      "3 + 5 = 8\n"
     ]
    },
    {
     "name": "stdin",
     "output_type": "stream",
     "text": [
      "first: 2\n",
      "second: 4\n"
     ]
    },
    {
     "name": "stdout",
     "output_type": "stream",
     "text": [
      "2 + 4 = 6\n"
     ]
    },
    {
     "name": "stdin",
     "output_type": "stream",
     "text": [
      "first: 3\n",
      "second: 4\n"
     ]
    },
    {
     "name": "stdout",
     "output_type": "stream",
     "text": [
      "3 + 4 = 7\n"
     ]
    },
    {
     "name": "stdin",
     "output_type": "stream",
     "text": [
      "first: \n"
     ]
    },
    {
     "ename": "ValueError",
     "evalue": "invalid literal for int() with base 10: ''",
     "output_type": "error",
     "traceback": [
      "\u001b[1;31m---------------------------------------------------------------------------\u001b[0m",
      "\u001b[1;31mValueError\u001b[0m                                Traceback (most recent call last)",
      "\u001b[1;32m~\\AppData\\Local\\Temp/ipykernel_5644/656756904.py\u001b[0m in \u001b[0;36m<module>\u001b[1;34m\u001b[0m\n\u001b[0;32m      5\u001b[0m \u001b[1;33m\u001b[0m\u001b[0m\n\u001b[0;32m      6\u001b[0m \u001b[1;32mwhile\u001b[0m \u001b[1;32mTrue\u001b[0m\u001b[1;33m:\u001b[0m\u001b[1;33m\u001b[0m\u001b[1;33m\u001b[0m\u001b[0m\n\u001b[1;32m----> 7\u001b[1;33m     \u001b[0ma\u001b[0m\u001b[1;33m=\u001b[0m\u001b[0mint\u001b[0m\u001b[1;33m(\u001b[0m\u001b[0minput\u001b[0m\u001b[1;33m(\u001b[0m\u001b[1;34m\"first:\"\u001b[0m\u001b[1;33m)\u001b[0m\u001b[1;33m)\u001b[0m\u001b[1;33m\u001b[0m\u001b[1;33m\u001b[0m\u001b[0m\n\u001b[0m\u001b[0;32m      8\u001b[0m     \u001b[0mb\u001b[0m\u001b[1;33m=\u001b[0m\u001b[0mint\u001b[0m\u001b[1;33m(\u001b[0m\u001b[0minput\u001b[0m\u001b[1;33m(\u001b[0m\u001b[1;34m\"second:\"\u001b[0m\u001b[1;33m)\u001b[0m\u001b[1;33m)\u001b[0m\u001b[1;33m\u001b[0m\u001b[1;33m\u001b[0m\u001b[0m\n\u001b[0;32m      9\u001b[0m     \u001b[0mhap\u001b[0m\u001b[1;33m=\u001b[0m\u001b[0ma\u001b[0m\u001b[1;33m+\u001b[0m\u001b[0mb\u001b[0m\u001b[1;33m\u001b[0m\u001b[1;33m\u001b[0m\u001b[0m\n",
      "\u001b[1;31mValueError\u001b[0m: invalid literal for int() with base 10: ''"
     ]
    }
   ],
   "source": [
    "#code 06-10\n",
    "\n",
    "hap=0\n",
    "a,b=0,0\n",
    "\n",
    "while True:\n",
    "    a=int(input(\"first:\"))\n",
    "    b=int(input(\"second:\"))\n",
    "    hap=a+b\n",
    "    print(\"%d + %d = %d\"%(a,b,hap))"
   ]
  },
  {
   "cell_type": "code",
   "execution_count": 1,
   "id": "6fe7e6f5-d3a8-4213-b5df-1a5b8860b3fa",
   "metadata": {},
   "outputs": [
    {
     "name": "stdin",
     "output_type": "stream",
     "text": [
      "first: 2\n",
      "second: 5\n",
      "caculate?: +\n"
     ]
    },
    {
     "name": "stdout",
     "output_type": "stream",
     "text": [
      "7\n"
     ]
    },
    {
     "name": "stdin",
     "output_type": "stream",
     "text": [
      "first: \n"
     ]
    },
    {
     "ename": "ValueError",
     "evalue": "invalid literal for int() with base 10: ''",
     "output_type": "error",
     "traceback": [
      "\u001b[1;31m---------------------------------------------------------------------------\u001b[0m",
      "\u001b[1;31mValueError\u001b[0m                                Traceback (most recent call last)",
      "\u001b[1;32m~\\AppData\\Local\\Temp/ipykernel_2080/1108654526.py\u001b[0m in \u001b[0;36m<module>\u001b[1;34m\u001b[0m\n\u001b[0;32m      5\u001b[0m \u001b[1;33m\u001b[0m\u001b[0m\n\u001b[0;32m      6\u001b[0m \u001b[1;32mwhile\u001b[0m \u001b[1;32mTrue\u001b[0m\u001b[1;33m:\u001b[0m\u001b[1;33m\u001b[0m\u001b[1;33m\u001b[0m\u001b[0m\n\u001b[1;32m----> 7\u001b[1;33m     \u001b[0ma\u001b[0m\u001b[1;33m=\u001b[0m\u001b[0mint\u001b[0m\u001b[1;33m(\u001b[0m\u001b[0minput\u001b[0m\u001b[1;33m(\u001b[0m\u001b[1;34m\"first:\"\u001b[0m\u001b[1;33m)\u001b[0m\u001b[1;33m)\u001b[0m\u001b[1;33m\u001b[0m\u001b[1;33m\u001b[0m\u001b[0m\n\u001b[0m\u001b[0;32m      8\u001b[0m     \u001b[0mb\u001b[0m\u001b[1;33m=\u001b[0m\u001b[0mint\u001b[0m\u001b[1;33m(\u001b[0m\u001b[0minput\u001b[0m\u001b[1;33m(\u001b[0m\u001b[1;34m\"second:\"\u001b[0m\u001b[1;33m)\u001b[0m\u001b[1;33m)\u001b[0m\u001b[1;33m\u001b[0m\u001b[1;33m\u001b[0m\u001b[0m\n\u001b[0;32m      9\u001b[0m     \u001b[0mch\u001b[0m\u001b[1;33m=\u001b[0m\u001b[0minput\u001b[0m\u001b[1;33m(\u001b[0m\u001b[1;34m\"caculate?:\"\u001b[0m\u001b[1;33m)\u001b[0m\u001b[1;33m\u001b[0m\u001b[1;33m\u001b[0m\u001b[0m\n",
      "\u001b[1;31mValueError\u001b[0m: invalid literal for int() with base 10: ''"
     ]
    }
   ],
   "source": [
    "#### code 06-11\n",
    "\n",
    "ch=\"\"\n",
    "a,b=0,0\n",
    "\n",
    "while True:\n",
    "    a=int(input(\"first:\"))\n",
    "    b=int(input(\"second:\"))\n",
    "    ch=input(\"caculate?:\")\n",
    "    \n",
    "    if(ch==\"+\"):\n",
    "        print(\"%d\"%(a+b))\n",
    "    elif(ch==\"-\"):\n",
    "        print(\"%d\"%(a-b))\n",
    "    elif(ch==\"*\"):\n",
    "        print(\"%d\"%(a*b))\n",
    "    elif(ch==\"/\"):\n",
    "        print(\"%d\"%(a/b))\n",
    "    else:\n",
    "        print(\"wrong\")"
   ]
  },
  {
   "cell_type": "markdown",
   "id": "8f047d74-c724-4cb7-9b2a-4f1305e5d39f",
   "metadata": {},
   "source": [
    "### 3. BREAK"
   ]
  },
  {
   "cell_type": "code",
   "execution_count": 3,
   "id": "de04021d-0b1a-41a9-ab68-ec7627aba213",
   "metadata": {},
   "outputs": [
    {
     "name": "stdout",
     "output_type": "stream",
     "text": [
      "for 1 time:\n"
     ]
    }
   ],
   "source": [
    "for i in range(1,100):\n",
    "    print(\"for %d time:\"%i)\n",
    "    break"
   ]
  },
  {
   "cell_type": "code",
   "execution_count": 5,
   "id": "8a813d43-92cf-47e5-aa1f-2dea8052e721",
   "metadata": {},
   "outputs": [
    {
     "name": "stdin",
     "output_type": "stream",
     "text": [
      "first: 0\n"
     ]
    },
    {
     "name": "stdout",
     "output_type": "stream",
     "text": [
      "escape by inputed 0\n"
     ]
    }
   ],
   "source": [
    "#code 06-12\n",
    "\n",
    "hap=0\n",
    "a,b=0,0\n",
    "\n",
    "while True:\n",
    "    a=int(input(\"first:\"))\n",
    "    if a==0:\n",
    "        break\n",
    "    b=int(input(\"second:\"))\n",
    "    hap=a+b\n",
    "    print(\"%d +%d =%d\" %(a,b,hap))\n",
    "    \n",
    "print(\"escape by inputed 0\")"
   ]
  },
  {
   "cell_type": "code",
   "execution_count": 2,
   "id": "694824cb-574c-4cbb-bb00-9273af80e515",
   "metadata": {},
   "outputs": [
    {
     "name": "stdout",
     "output_type": "stream",
     "text": [
      "if you want escape: input '$'\n"
     ]
    },
    {
     "name": "stdin",
     "output_type": "stream",
     "text": [
      "first: 6\n",
      "second: 5\n"
     ]
    },
    {
     "name": "stdout",
     "output_type": "stream",
     "text": [
      "6tr +5 =11\n"
     ]
    },
    {
     "name": "stdin",
     "output_type": "stream",
     "text": [
      "first: $\n"
     ]
    },
    {
     "name": "stdout",
     "output_type": "stream",
     "text": [
      "escape by inputed $\n"
     ]
    }
   ],
   "source": [
    "#p.169\n",
    "##self study 6-6\n",
    "\n",
    "hap=0\n",
    "a,b=0,0\n",
    "\n",
    "print(\"if you want escape: input '$'\")\n",
    "while True:\n",
    "    a=input(\"first:\")\n",
    "    if a==\"$\":\n",
    "        break\n",
    "    else :\n",
    "        a=int(a)\n",
    "        b=int(input(\"second:\"))\n",
    "        hap=a+b\n",
    "        print(\"%str +%d =%d\" %(a,b,hap))\n",
    "    \n",
    "print(\"escape by inputed $\")"
   ]
  },
  {
   "cell_type": "markdown",
   "id": "38c85b97-1751-44b5-8f7f-9f5632c87381",
   "metadata": {},
   "source": [
    "### 4. continue\n",
    "\n",
    "    : 특정 조건 pass & continue.."
   ]
  },
  {
   "cell_type": "code",
   "execution_count": 5,
   "id": "f5ec2d96-4590-40e7-aa2a-b0d2ef63daf0",
   "metadata": {},
   "outputs": [
    {
     "name": "stdout",
     "output_type": "stream",
     "text": [
      "sum of range except 3:3367\n"
     ]
    }
   ],
   "source": [
    "##3의 배수 제외\n",
    "\n",
    "hap, i =0,0\n",
    "\n",
    "for i in range(1,101):\n",
    "    if i%3==0 :\n",
    "        continue          ## 3의 배수면 for문 처음으로 다시 돌아가\n",
    "    hap += i\n",
    "    \n",
    "print(\"sum of range except 3:%d\"%hap)"
   ]
  },
  {
   "cell_type": "code",
   "execution_count": 14,
   "id": "241ee1aa-2972-4c33-b604-b6fc553f4b1c",
   "metadata": {},
   "outputs": [
    {
     "name": "stdout",
     "output_type": "stream",
     "text": [
      "    *\n",
      "   ***\n",
      "  *****\n",
      " *******\n",
      "*********\n",
      " *******\n",
      "  *****\n",
      "   ***\n",
      "    *\n"
     ]
    }
   ],
   "source": [
    "##다이아몬드\n",
    "\n",
    "i,k=0,0\n",
    "\n",
    "i=0\n",
    "while i<9:\n",
    "    if i<5:\n",
    "        k=0\n",
    "        while k<4-i:\n",
    "            print(' ',end='')\n",
    "            k+=1\n",
    "        k=0\n",
    "        while k<i*2+1:\n",
    "            print('*',end='')\n",
    "            k+=1 \n",
    "    else:\n",
    "        k=0\n",
    "        while k<i-4:\n",
    "            print(' ',end='')\n",
    "            k+=1\n",
    "        k=0\n",
    "        while k<(9-i)*2-1:\n",
    "            print('*',end='')\n",
    "            k+=1 \n",
    "            \n",
    "    print()\n",
    "    i+=1\n",
    "    \n",
    "    \n",
    "    ### if * <- star or hear shape : use unicode \n",
    "    #### star=\\u2605\n",
    "    #### hert=\\u2665"
   ]
  },
  {
   "cell_type": "markdown",
   "id": "1e6bf098-2010-4c4d-b5cb-9b75a92e2a8b",
   "metadata": {},
   "source": [
    "\"\"\"\n",
    "\n",
    "memo...\n",
    "\n",
    "\n",
    "\"\"\""
   ]
  },
  {
   "cell_type": "markdown",
   "id": "db56901a-9544-4fe3-a62d-74785c1ddd88",
   "metadata": {},
   "source": [
    "**string 부분 처리**\n",
    "\n",
    "str = \"abc\"\n",
    "\n",
    "    str[0] = a\n",
    "    str[1] = b\n",
    "    str[2] = c"
   ]
  },
  {
   "cell_type": "markdown",
   "id": "ab4cd96a-3914-4905-b902-beeaa67b75d1",
   "metadata": {},
   "source": [
    "**range()**"
   ]
  },
  {
   "cell_type": "code",
   "execution_count": 5,
   "id": "2d45de48-42a1-4d7d-bc5c-7060cbc7b36d",
   "metadata": {},
   "outputs": [
    {
     "data": {
      "text/plain": [
       "range(0, 5)"
      ]
     },
     "execution_count": 5,
     "metadata": {},
     "output_type": "execute_result"
    }
   ],
   "source": [
    "range(0,5,1)"
   ]
  },
  {
   "cell_type": "code",
   "execution_count": 6,
   "id": "b8c24025-c59f-4906-93b2-17084b5a17e3",
   "metadata": {},
   "outputs": [
    {
     "data": {
      "text/plain": [
       "range"
      ]
     },
     "execution_count": 6,
     "metadata": {},
     "output_type": "execute_result"
    }
   ],
   "source": [
    "type (range(0,5,1))"
   ]
  },
  {
   "cell_type": "markdown",
   "id": "500ff3d8-4b02-448a-997e-e24a9ae5cffc",
   "metadata": {},
   "source": [
    "**list**"
   ]
  },
  {
   "cell_type": "code",
   "execution_count": 7,
   "id": "f0e83674-c1df-4c85-981c-6f5d2e2ffd93",
   "metadata": {},
   "outputs": [
    {
     "data": {
      "text/plain": [
       "list"
      ]
     },
     "execution_count": 7,
     "metadata": {},
     "output_type": "execute_result"
    }
   ],
   "source": [
    "type(['one',100,-0,314,range(1,31,2)])"
   ]
  },
  {
   "cell_type": "code",
   "execution_count": 8,
   "id": "e966fa53-a892-43a4-b15a-302a73b44ef6",
   "metadata": {},
   "outputs": [
    {
     "name": "stdout",
     "output_type": "stream",
     "text": [
      "1\n",
      "1\n",
      "1\n",
      "1\n",
      "1\n",
      "1\n"
     ]
    }
   ],
   "source": [
    "for i in [0,1,3,5,9,10]:\n",
    "    print(1)"
   ]
  },
  {
   "cell_type": "code",
   "execution_count": 9,
   "id": "35139e1b-72cc-4eb2-957e-19ed81aca24a",
   "metadata": {},
   "outputs": [
    {
     "name": "stdout",
     "output_type": "stream",
     "text": [
      "1\n",
      "1\n",
      "1\n",
      "1\n",
      "1\n"
     ]
    }
   ],
   "source": [
    "for i in ['one',100,-0,314,range(1,31,2)]:\n",
    "    print(1)"
   ]
  },
  {
   "cell_type": "markdown",
   "id": "22c8a833-e1a5-45e4-8818-45b4cb7ddaff",
   "metadata": {},
   "source": [
    "\n",
    "\n",
    "**언더바 : _**\n",
    "\n",
    "    특정 변수 선언 X\n",
    "    임의의 변수 삽입\n",
    "    \n",
    "        ex\n",
    "        for _in rante():\n",
    "        "
   ]
  },
  {
   "cell_type": "markdown",
   "id": "2e7a75f4-f614-40db-b1ed-ffa1151a44ff",
   "metadata": {},
   "source": [
    "**내림차순**"
   ]
  },
  {
   "cell_type": "code",
   "execution_count": 20,
   "id": "700b1225-6756-4830-a071-a856fe8bedbf",
   "metadata": {},
   "outputs": [
    {
     "name": "stdout",
     "output_type": "stream",
     "text": [
      "hi 5\n",
      "hi 4\n",
      "hi 3\n",
      "hi 2\n",
      "hi 1\n",
      "hi 0\n",
      "hi -1\n",
      "hi -2\n",
      "hi -3\n",
      "hi -4\n"
     ]
    }
   ],
   "source": [
    "for i in range(5,-5,-1):\n",
    "    print (\"hi\",i)"
   ]
  },
  {
   "cell_type": "markdown",
   "id": "91da94b0-3fc4-440e-8dde-baaf31e04d50",
   "metadata": {},
   "source": [
    "**줄바꿈**"
   ]
  },
  {
   "cell_type": "code",
   "execution_count": 22,
   "id": "10d4a19a-bd65-47da-b871-c43ce8509e2e",
   "metadata": {},
   "outputs": [
    {
     "name": "stdout",
     "output_type": "stream",
     "text": [
      "543210-1-2-3-4"
     ]
    }
   ],
   "source": [
    "for i in range(5,-5,-1):\n",
    "    print ( i,end=\"\")"
   ]
  },
  {
   "cell_type": "code",
   "execution_count": 25,
   "id": "6866d7f3-d03e-4722-8aa1-14188afda382",
   "metadata": {},
   "outputs": [
    {
     "data": {
      "text/plain": [
       "\u001b[1;31mDocstring:\u001b[0m\n",
       "print(value, ..., sep=' ', end='\\n', file=sys.stdout, flush=False)\n",
       "\n",
       "Prints the values to a stream, or to sys.stdout by default.\n",
       "Optional keyword arguments:\n",
       "file:  a file-like object (stream); defaults to the current sys.stdout.\n",
       "sep:   string inserted between values, default a space.\n",
       "end:   string appended after the last value, default a newline.\n",
       "flush: whether to forcibly flush the stream.\n",
       "\u001b[1;31mType:\u001b[0m      builtin_function_or_method\n"
      ]
     },
     "metadata": {},
     "output_type": "display_data"
    }
   ],
   "source": [
    "print?"
   ]
  },
  {
   "cell_type": "markdown",
   "id": "e3094be1-25e7-4316-99bd-881fca796920",
   "metadata": {},
   "source": [
    "**주석**\n",
    "\n",
    "    1. 한줄 주석: #\n",
    "    2. 블럭 주석: x  \n",
    "        > 대체 \"\"\" \"\"\" (docstring)"
   ]
  },
  {
   "cell_type": "markdown",
   "id": "50dad79d-cbcf-4658-b2cd-4c28f2775767",
   "metadata": {},
   "source": [
    "**연습문제**"
   ]
  },
  {
   "cell_type": "code",
   "execution_count": null,
   "id": "5e58d168-085c-44a4-893a-1b5e8549665b",
   "metadata": {},
   "outputs": [],
   "source": [
    "#6\n",
    "\n",
    "i,j,k = 0,0,0\n",
    "\n",
    "while i<4:\n",
    "    while j<3:\n",
    "        while k<2:\n",
    "            print(\"cookbook~\")\n",
    "        k+=1\n",
    "    j+=1\n",
    "i+=1\n"
   ]
  },
  {
   "cell_type": "code",
   "execution_count": 3,
   "id": "a541b3f1-ff2f-4e5b-97de-0199aed0b73f",
   "metadata": {},
   "outputs": [
    {
     "name": "stdout",
     "output_type": "stream",
     "text": [
      "23088\n"
     ]
    }
   ],
   "source": [
    "#8\n",
    "\n",
    "n=1234\n",
    "hap=0\n",
    "\n",
    "while n<4568:\n",
    "    if n%444==0:\n",
    "        hap+=n\n",
    "    n+=1\n",
    "    \n",
    "print(hap)"
   ]
  },
  {
   "cell_type": "code",
   "execution_count": 10,
   "id": "98cae19b-8f3f-4474-b417-7a1ec8cd7212",
   "metadata": {},
   "outputs": [
    {
     "data": {
      "text/plain": [
       "\u001b[1;31mInit signature:\u001b[0m \u001b[0mrange\u001b[0m\u001b[1;33m(\u001b[0m\u001b[0mself\u001b[0m\u001b[1;33m,\u001b[0m \u001b[1;33m/\u001b[0m\u001b[1;33m,\u001b[0m \u001b[1;33m*\u001b[0m\u001b[0margs\u001b[0m\u001b[1;33m,\u001b[0m \u001b[1;33m**\u001b[0m\u001b[0mkwargs\u001b[0m\u001b[1;33m)\u001b[0m\u001b[1;33m\u001b[0m\u001b[1;33m\u001b[0m\u001b[0m\n",
       "\u001b[1;31mDocstring:\u001b[0m     \n",
       "range(stop) -> range object\n",
       "range(start, stop[, step]) -> range object\n",
       "\n",
       "Return an object that produces a sequence of integers from start (inclusive)\n",
       "to stop (exclusive) by step.  range(i, j) produces i, i+1, i+2, ..., j-1.\n",
       "start defaults to 0, and stop is omitted!  range(4) produces 0, 1, 2, 3.\n",
       "These are exactly the valid indices for a list of 4 elements.\n",
       "When step is given, it specifies the increment (or decrement).\n",
       "\u001b[1;31mType:\u001b[0m           type\n",
       "\u001b[1;31mSubclasses:\u001b[0m     \n"
      ]
     },
     "metadata": {},
     "output_type": "display_data"
    }
   ],
   "source": [
    "range?"
   ]
  },
  {
   "cell_type": "code",
   "execution_count": 13,
   "id": "8d22a5f5-9fd6-485d-b62c-984e8f5aecf8",
   "metadata": {},
   "outputs": [
    {
     "name": "stdout",
     "output_type": "stream",
     "text": [
      "sum:40722\n"
     ]
    }
   ],
   "source": [
    "#9\n",
    "\n",
    "i, sum = 0,0\n",
    "\n",
    "for i in range(3333,10000):\n",
    "    if i%1234==0:\n",
    "        sum+=i\n",
    "        if sum>100000:\n",
    "            continue\n",
    "        \n",
    "    else:\n",
    "        continue\n",
    "        \n",
    "        \n",
    "print('sum:%d'%sum)"
   ]
  }
 ],
 "metadata": {
  "kernelspec": {
   "display_name": "Python 3 (ipykernel)",
   "language": "python",
   "name": "python3"
  },
  "language_info": {
   "codemirror_mode": {
    "name": "ipython",
    "version": 3
   },
   "file_extension": ".py",
   "mimetype": "text/x-python",
   "name": "python",
   "nbconvert_exporter": "python",
   "pygments_lexer": "ipython3",
   "version": "3.9.7"
  }
 },
 "nbformat": 4,
 "nbformat_minor": 5
}
