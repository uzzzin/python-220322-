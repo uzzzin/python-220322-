{
 "cells": [
  {
   "cell_type": "markdown",
   "id": "050aaf99-00dc-43ad-88d5-2e52991c2e85",
   "metadata": {},
   "source": [
    "## Chap6 반복문"
   ]
  },
  {
   "cell_type": "markdown",
   "id": "e40973c1-01e2-4d43-81d9-fb8f1c949dd5",
   "metadata": {},
   "source": [
    "**반복문**\n",
    "\n",
    "   1. for문\n",
    "       --> for 변수 in range(시작값, 끝값+1, 증가값) :\n",
    "               (반복부분)      \n",
    "   2. while문\n",
    "       --> while 조건 : (반복부분)\n",
    "       \n",
    "       \n",
    "   **무한루프 >> 조건식=TRUE**\n",
    "       \n",
    "       1. ctrl+c\n",
    "       2. break\n",
    "        "
   ]
  },
  {
   "cell_type": "code",
   "execution_count": 2,
   "id": "799b2d03-5d34-4ac5-9d8c-9742a0160368",
   "metadata": {},
   "outputs": [
    {
     "name": "stdout",
     "output_type": "stream",
     "text": [
      "mang\n",
      "mang\n",
      "mang\n"
     ]
    }
   ],
   "source": [
    "##변수 i: 대입, 사용X\n",
    "\n",
    "for i in range(0,3,1):\n",
    "    print(\"mang\")"
   ]
  },
  {
   "cell_type": "code",
   "execution_count": 4,
   "id": "2e2e0060-69ba-4940-802b-10620cd230cd",
   "metadata": {},
   "outputs": [
    {
     "name": "stdout",
     "output_type": "stream",
     "text": [
      "sum= 55\n"
     ]
    }
   ],
   "source": [
    "#범위 내 모든 수의 합\n",
    "\n",
    "i, hap = 0, 0\n",
    "\n",
    "for i in range(1,11,1):\n",
    "    hap=hap+i\n",
    "    \n",
    "print(\"sum= %d\" %hap)"
   ]
  },
  {
   "cell_type": "code",
   "execution_count": 7,
   "id": "3d1b14f7-0f85-4511-aab5-09f01e470129",
   "metadata": {},
   "outputs": [
    {
     "name": "stdout",
     "output_type": "stream",
     "text": [
      " odd sum=187500\n"
     ]
    }
   ],
   "source": [
    "#범위 내 홀수의 합\n",
    "\n",
    "i,hap=0,0\n",
    "\n",
    "for i in range(501,1001,2) :\n",
    "    hap=hap+i\n",
    "    \n",
    "print(\" odd sum=%d\" %hap)"
   ]
  },
  {
   "cell_type": "code",
   "execution_count": 9,
   "id": "38c9b5ae-7939-496a-aa06-a5db58e148a5",
   "metadata": {},
   "outputs": [
    {
     "name": "stdin",
     "output_type": "stream",
     "text": [
      "start: 4\n",
      "finish: 8\n",
      "add: 2\n"
     ]
    },
    {
     "name": "stdout",
     "output_type": "stream",
     "text": [
      "sum= 18\n"
     ]
    }
   ],
   "source": [
    "#범위 내 특정 배수의 합- 사용자 정의\n",
    "\n",
    "i, hap = 0, 0\n",
    "num1, num2, num3 = 0, 0, 0\n",
    "\n",
    "num1=int(input(\"start:\"))\n",
    "num2=int(input(\"finish:\"))\n",
    "num3=int(input(\"add:\"))\n",
    "\n",
    "for i in range(num1,num2+1,num3):\n",
    "    hap=hap+i\n",
    "    \n",
    "print(\"sum= %d\" %hap)"
   ]
  },
  {
   "cell_type": "markdown",
   "id": "5a124c2d-4fb6-4933-97e4-9970d7749d55",
   "metadata": {},
   "source": [
    "**continue 문**"
   ]
  },
  {
   "cell_type": "code",
   "execution_count": 11,
   "id": "f5ec2d96-4590-40e7-aa2a-b0d2ef63daf0",
   "metadata": {},
   "outputs": [
    {
     "name": "stdout",
     "output_type": "stream",
     "text": [
      "sum of range except 3:3367\n"
     ]
    }
   ],
   "source": [
    "\n",
    "##3의 배수 제외\n",
    "\n",
    "hap, i =0,0\n",
    "\n",
    "for i in range(1,101):\n",
    "    if i%3==0 :\n",
    "        continue          ## 3의 배수면 for문 처음으로 다시 돌아가\n",
    "    hap += i\n",
    "    \n",
    "print(\"sum of range except 3:%d\"%hap)"
   ]
  },
  {
   "cell_type": "code",
   "execution_count": 14,
   "id": "241ee1aa-2972-4c33-b604-b6fc553f4b1c",
   "metadata": {},
   "outputs": [
    {
     "name": "stdout",
     "output_type": "stream",
     "text": [
      "    *\n",
      "   ***\n",
      "  *****\n",
      " *******\n",
      "*********\n",
      " *******\n",
      "  *****\n",
      "   ***\n",
      "    *\n"
     ]
    }
   ],
   "source": [
    "\n",
    "##다이아몬드\n",
    "\n",
    "i,k=0,0\n",
    "\n",
    "i=0\n",
    "while i<9:\n",
    "    if i<5:\n",
    "        k=0\n",
    "        while k<4-i:\n",
    "            print(' ',end='')\n",
    "            k+=1\n",
    "        k=0\n",
    "        while k<i*2+1:\n",
    "            print('*',end='')\n",
    "            k+=1 \n",
    "    else:\n",
    "        k=0\n",
    "        while k<i-4:\n",
    "            print(' ',end='')\n",
    "            k+=1\n",
    "        k=0\n",
    "        while k<(9-i)*2-1:\n",
    "            print('*',end='')\n",
    "            k+=1 \n",
    "            \n",
    "    print()\n",
    "    i+=1\n",
    "    \n",
    "    \n",
    "    ### if * <- star or hear shape : use unicode \n",
    "    #### star=\\u2605\n",
    "    #### hert=\\u2665"
   ]
  },
  {
   "cell_type": "markdown",
   "id": "db56901a-9544-4fe3-a62d-74785c1ddd88",
   "metadata": {},
   "source": [
    "**string 부분 처리**\n",
    "\n",
    "str = \"abc\"\n",
    "\n",
    "    str[0] = a\n",
    "    str[1] = b\n",
    "    str[2] = c"
   ]
  }
 ],
 "metadata": {
  "kernelspec": {
   "display_name": "Python 3 (ipykernel)",
   "language": "python",
   "name": "python3"
  },
  "language_info": {
   "codemirror_mode": {
    "name": "ipython",
    "version": 3
   },
   "file_extension": ".py",
   "mimetype": "text/x-python",
   "name": "python",
   "nbconvert_exporter": "python",
   "pygments_lexer": "ipython3",
   "version": "3.9.7"
  }
 },
 "nbformat": 4,
 "nbformat_minor": 5
}
