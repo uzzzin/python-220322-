{
 "cells": [
  {
   "cell_type": "markdown",
   "id": "d10d767f-2630-4029-b481-9f856c160f56",
   "metadata": {},
   "source": [
    "## Chapter12. 객체지향\n",
    "\n",
    "    절차지향 : 이름 충돌> problem\n",
    "    \n",
    "    \n",
    "    **객체(object): 속성, 행위 > 기존 code 상속 > new code**\n",
    "    \n",
    "    signature...> instance 생성==object\n",
    "    **method defined..function**"
   ]
  },
  {
   "cell_type": "markdown",
   "id": "712919d1-c56a-41e4-8066-26fd6f5136db",
   "metadata": {},
   "source": [
    "**클래스 생성code**\n",
    "\n",
    "  **:class 클래스명**\n",
    "  \n",
    "      class Car"
   ]
  },
  {
   "cell_type": "code",
   "execution_count": 51,
   "id": "7867ff99-23df-40d5-a5e4-0075bf82015d",
   "metadata": {},
   "outputs": [],
   "source": [
    "class Car:          ## Car class define(:)\n",
    "    ##속성==field(변수)\n",
    "    color=\"\"        \n",
    "    speed=0\n",
    "    \n",
    "    ##기능==method(함수)\n",
    "    ## 첫 매개변수 == self > access field of method\n",
    "    def upSpeed(self,value): ##method1\n",
    "        self.speed+=value\n",
    "        \n",
    "    def downSpeed(self,value): ##method2\n",
    "        self.speed=+value\n",
    "        \n",
    "    def print(self):\n",
    "        print(\"Car class\")\n",
    "    \n",
    "    def printMessage():     ## self 생략가능 > field 접근 x\n",
    "        print(\"필드 접근 x\")"
   ]
  },
  {
   "cell_type": "code",
   "execution_count": 52,
   "id": "6b064eb1-7585-4ef6-9d6a-69d9e2e6f960",
   "metadata": {},
   "outputs": [
    {
     "data": {
      "text/plain": [
       "__main__.Car"
      ]
     },
     "execution_count": 52,
     "metadata": {},
     "output_type": "execute_result"
    }
   ],
   "source": [
    "Car"
   ]
  },
  {
   "cell_type": "code",
   "execution_count": 53,
   "id": "1fe43809-6d16-44ae-8b92-4cc1925b92b7",
   "metadata": {},
   "outputs": [
    {
     "data": {
      "text/plain": [
       "type"
      ]
     },
     "execution_count": 53,
     "metadata": {},
     "output_type": "execute_result"
    }
   ],
   "source": [
    "type(Car)"
   ]
  },
  {
   "cell_type": "markdown",
   "id": "1ebda785-4ef5-4453-92db-f521683b0c03",
   "metadata": {},
   "source": [
    "**인스턴스 생성code**\n",
    "\n",
    "  **instance=class()**\n",
    "  \n",
    "      car1=Car()\n",
    "      car2=Car()\n",
    "      car3=Car()"
   ]
  },
  {
   "cell_type": "code",
   "execution_count": 6,
   "id": "b0b6f227-d2ca-4d7d-bb38-4ba927ba4a98",
   "metadata": {},
   "outputs": [],
   "source": [
    "car1=Car()\n",
    "car2=Car()\n",
    "car3=Car()"
   ]
  },
  {
   "cell_type": "code",
   "execution_count": 7,
   "id": "a5c95dd9-5a56-471e-bdf9-b5ac59d03102",
   "metadata": {},
   "outputs": [
    {
     "data": {
      "text/plain": [
       "__main__.Car"
      ]
     },
     "execution_count": 7,
     "metadata": {},
     "output_type": "execute_result"
    }
   ],
   "source": [
    "type(car1)"
   ]
  },
  {
   "cell_type": "code",
   "execution_count": 10,
   "id": "a8fd5438-2706-4675-80fc-7ebce9120c9b",
   "metadata": {},
   "outputs": [
    {
     "data": {
      "text/plain": [
       "<__main__.Car at 0x189871c9280>"
      ]
     },
     "execution_count": 10,
     "metadata": {},
     "output_type": "execute_result"
    }
   ],
   "source": [
    "car1       ## 함수 객체 비교 source code > memory"
   ]
  },
  {
   "cell_type": "markdown",
   "id": "be335da1-4af9-4f1d-9f93-14acc0148dfd",
   "metadata": {},
   "source": [
    "**필드에 값 대입**\n",
    "    \n",
    "    (인스턴스.필드) > 각 인스턴스마다 별도의 필드 존재"
   ]
  },
  {
   "cell_type": "code",
   "execution_count": 54,
   "id": "2296a0d6-08f4-49e6-b7c6-68595e31e3dc",
   "metadata": {},
   "outputs": [],
   "source": [
    "car1.color=\"red\"\n",
    "car1.speed=0\n",
    "car1.color=\"blue\"\n",
    "car1.speed=0\n",
    "car1.color=\"yellow\"\n",
    "car1.speed=0"
   ]
  },
  {
   "cell_type": "markdown",
   "id": "9ee26753-c6d9-4659-b8e8-58e6ddfb2f3b",
   "metadata": {},
   "source": [
    "**매서드의 호출**"
   ]
  },
  {
   "cell_type": "code",
   "execution_count": 57,
   "id": "2b686d03-43f9-4b1b-9898-23a93efbe150",
   "metadata": {},
   "outputs": [
    {
     "name": "stdout",
     "output_type": "stream",
     "text": [
      "car1: yellow 30\n"
     ]
    }
   ],
   "source": [
    "#p.400\n",
    "#code 12-02\n",
    "\n",
    "car1.upSpeed(30)\n",
    "print(\"car1:\",car1.color,car1.speed)"
   ]
  },
  {
   "cell_type": "markdown",
   "id": "9065c7f8-00db-4532-9b9b-957f9c3d7f9a",
   "metadata": {},
   "source": [
    "**클래스 사용 순서\n",
    "\n",
    "    1. 클래스 선언\n",
    "        class 클래스명:\n",
    "            #필드 선언\n",
    "            #메서드 선언\n",
    "    2. 인스턴스 생성\n",
    "        인스턴스=클래스명()\n",
    "    3. 필드나 메서드 사용\n",
    "        인스턴스.필드명=값\n",
    "        인스턴스,메서드()\n",
    "        \n",
    "        "
   ]
  },
  {
   "cell_type": "markdown",
   "id": "73311402-8c8d-45ad-a2e2-37a495f39d11",
   "metadata": {},
   "source": [
    "**생성자**\n",
    "\n",
    "    : __int__()\n",
    "    :인스턴스 생성하면서 필드값 초기화 하는 함수\n",
    "        class 내장 함수(?)"
   ]
  },
  {
   "cell_type": "code",
   "execution_count": 14,
   "id": "6e1c3bc9-1e97-4703-b21f-11d919be37bd",
   "metadata": {},
   "outputs": [],
   "source": [
    "#403\n",
    "#code 12-03\n",
    "\n",
    "class Car:\n",
    "    color=\"\"\n",
    "    speed=0\n",
    "    \n",
    "    #생성자\n",
    "    def __init__(self):\n",
    "        self.color=\"red\"\n",
    "        self.speed=0\n",
    "    \n",
    "    #메서드\n",
    "    def upSpeed(self,value):\n",
    "        self.speed+=value\n",
    "        \n",
    "    def downSpeed(self,value):\n",
    "        self.speed-=value\n",
    "    def print(self):\n",
    "        print(\"Car class\")"
   ]
  },
  {
   "cell_type": "code",
   "execution_count": 16,
   "id": "2bb55acd-113e-43d7-ac5a-0cdb79b40f1a",
   "metadata": {},
   "outputs": [
    {
     "name": "stdout",
     "output_type": "stream",
     "text": [
      "red red\n"
     ]
    }
   ],
   "source": [
    "car1=Car()\n",
    "car2=Car()\n",
    "\n",
    "print(car1.color,car2.color)"
   ]
  },
  {
   "cell_type": "markdown",
   "id": "2e8b8260-ce62-4a3a-9272-53d85b64787f",
   "metadata": {},
   "source": [
    "**매개변수가 있는 생성자**"
   ]
  },
  {
   "cell_type": "code",
   "execution_count": 19,
   "id": "6907f6db-14f0-4713-ac0c-86ea76cd8899",
   "metadata": {},
   "outputs": [],
   "source": [
    "#p.404\n",
    "#code 12-04\n",
    "\n",
    "class Car:\n",
    "    color=\"\"\n",
    "    speed=0\n",
    "    \n",
    "    def __init__(self,v1,v2):\n",
    "        self.color=v1\n",
    "        self.speed=v2\n",
    "        \n",
    "    def upSpeed(self,value):\n",
    "        self.speed+=value\n",
    "        \n",
    "    def downSpeed(self,value):\n",
    "        self.speed-=value\n",
    "    def print(self):\n",
    "        print(self.color,self.speed)\n"
   ]
  },
  {
   "cell_type": "code",
   "execution_count": 20,
   "id": "1c162794-3009-47a1-94c2-8b342fbeff47",
   "metadata": {},
   "outputs": [],
   "source": [
    "car1=Car(\"yellow\",0)\n",
    "car2=Car(\"orange\",0)"
   ]
  },
  {
   "cell_type": "code",
   "execution_count": 21,
   "id": "85188aaf-4cff-431b-bb64-21a4973d6784",
   "metadata": {},
   "outputs": [
    {
     "name": "stdout",
     "output_type": "stream",
     "text": [
      "yellow 0\n",
      "orange 0\n"
     ]
    },
    {
     "data": {
      "text/plain": [
       "(None, None)"
      ]
     },
     "execution_count": 21,
     "metadata": {},
     "output_type": "execute_result"
    }
   ],
   "source": [
    "car1.print(),car2.print()"
   ]
  },
  {
   "cell_type": "markdown",
   "id": "294ce45f-b0c8-499f-ba6b-c7c3861912d7",
   "metadata": {},
   "source": [
    "**객체지향 언어**\n",
    "\n",
    "    1. 은닉성( field 노출x ) > instance & class variation\n",
    "    2. ..."
   ]
  },
  {
   "cell_type": "markdown",
   "id": "255e8f8e-477a-49e2-9afb-53d26a676c95",
   "metadata": {},
   "source": [
    "**인스턴스 변수**\n",
    ",,> 접근제한자 지원x(public)\n",
    "\n",
    "**클래스 변수**\n"
   ]
  },
  {
   "cell_type": "code",
   "execution_count": 58,
   "id": "742afcd0-85ac-45a3-af61-5fb59f4e5ba7",
   "metadata": {},
   "outputs": [],
   "source": [
    "#클래스 변수 선언\n",
    "\n",
    "class Car:\n",
    "    color=\"\"\n",
    "    speed=0\n",
    "    count=0 #클래스 변수(영역)\n",
    "    \n",
    "    def __init__(self):\n",
    "        self.speed=0\n",
    "        Car.count += 1  ## class 영역 define\n",
    "        \n",
    "    def upSpeed(self,value):\n",
    "        self.speed+=value\n",
    "        \n",
    "    def downSpeed(self,value):\n",
    "        self.speed-=value\n",
    "        \n",
    "    def print(self):\n",
    "        print(self.color,self.speed)\n"
   ]
  },
  {
   "cell_type": "code",
   "execution_count": 59,
   "id": "6b27c81d-33e6-4343-be15-c3986038cdb3",
   "metadata": {},
   "outputs": [],
   "source": [
    "car1=Car()\n",
    "car1.speed=30"
   ]
  },
  {
   "cell_type": "code",
   "execution_count": 60,
   "id": "3b5d7560-a340-479b-83ec-40f5999ab37e",
   "metadata": {},
   "outputs": [
    {
     "data": {
      "text/plain": [
       "1"
      ]
     },
     "execution_count": 60,
     "metadata": {},
     "output_type": "execute_result"
    }
   ],
   "source": [
    "Car.count"
   ]
  },
  {
   "cell_type": "code",
   "execution_count": 30,
   "id": "a7f39f52-7ad0-4534-a489-01fe1f1654a0",
   "metadata": {},
   "outputs": [
    {
     "data": {
      "text/plain": [
       "1"
      ]
     },
     "execution_count": 30,
     "metadata": {},
     "output_type": "execute_result"
    }
   ],
   "source": [
    "Car.count"
   ]
  },
  {
   "cell_type": "code",
   "execution_count": 32,
   "id": "ea46cea7-21ff-4b32-9119-c2bbdcf69570",
   "metadata": {},
   "outputs": [],
   "source": [
    "car2=Car()\n",
    "car2.speed=60"
   ]
  },
  {
   "cell_type": "code",
   "execution_count": 33,
   "id": "eca2a801-5497-4e8a-8540-1614c198510a",
   "metadata": {},
   "outputs": [
    {
     "data": {
      "text/plain": [
       "60"
      ]
     },
     "execution_count": 33,
     "metadata": {},
     "output_type": "execute_result"
    }
   ],
   "source": [
    "car2.speed"
   ]
  },
  {
   "cell_type": "code",
   "execution_count": 35,
   "id": "93d16753-4c7f-427e-b61c-d63f87d2f76a",
   "metadata": {},
   "outputs": [
    {
     "data": {
      "text/plain": [
       "2"
      ]
     },
     "execution_count": 35,
     "metadata": {},
     "output_type": "execute_result"
    }
   ],
   "source": [
    "car2.count   ## count: Car class 영역에 생성 > static 변수"
   ]
  },
  {
   "cell_type": "code",
   "execution_count": 36,
   "id": "3a2bbcc2-0b0f-45b1-93c8-47ae6d376e21",
   "metadata": {},
   "outputs": [
    {
     "data": {
      "text/plain": [
       "2"
      ]
     },
     "execution_count": 36,
     "metadata": {},
     "output_type": "execute_result"
    }
   ],
   "source": [
    "car2.count"
   ]
  },
  {
   "cell_type": "code",
   "execution_count": 38,
   "id": "e655e097-7c72-4b58-88af-f0fe3279fba8",
   "metadata": {},
   "outputs": [
    {
     "data": {
      "text/plain": [
       "2"
      ]
     },
     "execution_count": 38,
     "metadata": {},
     "output_type": "execute_result"
    }
   ],
   "source": [
    "car1.count  ## instance 관계없이 class 영역에 따라 변함 (count) > 모든 instance 공유"
   ]
  },
  {
   "cell_type": "code",
   "execution_count": 39,
   "id": "35392e15-7596-4b43-80ae-62c2080248e4",
   "metadata": {},
   "outputs": [],
   "source": [
    "car2.count=1000"
   ]
  },
  {
   "cell_type": "code",
   "execution_count": 40,
   "id": "37d988b8-c6f1-4744-804f-0893d2f093c7",
   "metadata": {},
   "outputs": [
    {
     "data": {
      "text/plain": [
       "2"
      ]
     },
     "execution_count": 40,
     "metadata": {},
     "output_type": "execute_result"
    }
   ],
   "source": [
    "car1.count"
   ]
  },
  {
   "cell_type": "code",
   "execution_count": 42,
   "id": "e390d8fd-c65e-466e-9fec-22cc4443c4c5",
   "metadata": {},
   "outputs": [
    {
     "data": {
      "text/plain": [
       "2"
      ]
     },
     "execution_count": 42,
     "metadata": {},
     "output_type": "execute_result"
    }
   ],
   "source": [
    "Car.count ##..>접근제한 (public)"
   ]
  },
  {
   "cell_type": "markdown",
   "id": "a3f81e2e-0f35-4eee-a232-7ddc3d9efde0",
   "metadata": {},
   "source": [
    "**상속**\n",
    "\n",
    "    : 기존 클래스 의 필드 메서드 물려받는 새로운 클래스 생성\n",
    "    \n",
    "    class 서브 클래스(슈퍼 클래스):"
   ]
  },
  {
   "cell_type": "code",
   "execution_count": 43,
   "id": "b98eb79d-e1a8-4207-aec5-7ac0801c12be",
   "metadata": {},
   "outputs": [],
   "source": [
    "class Car:\n",
    "    speed=0\n",
    "    def upSpeed(self,value):\n",
    "        self.speed+=value\n",
    "        \n",
    "        print(\"velocity(superclass):%d\"%self.speed)\n",
    "        \n",
    "class Sedan(Car):  #Car class 상속\n",
    "    def upSpeed(self,value):\n",
    "        self.speed+=value\n",
    "        \n",
    "        if self.speed>150:          # method overriding: method redefine in sub class\n",
    "            self.speed=150          ## 속도 제한\n",
    "            print(\"velocity(subclass):%d\"%self.speed)\n",
    "            \n",
    "class Truck(Car):\n",
    "    pass\n",
    "\n",
    "\n",
    "sedan1, truck1=None,None\n",
    "\n",
    "truck1=Truck()\n",
    "sedan1=Sedan()"
   ]
  },
  {
   "cell_type": "code",
   "execution_count": 46,
   "id": "443dc8ae-e92f-470f-a832-0e2be647a3b3",
   "metadata": {},
   "outputs": [
    {
     "name": "stdout",
     "output_type": "stream",
     "text": [
      "velocity(superclass):100\n"
     ]
    }
   ],
   "source": [
    "truck1.upSpeed(100)"
   ]
  },
  {
   "cell_type": "code",
   "execution_count": 47,
   "id": "c6d29c07-00f3-4e24-aa74-05c5fe3f685b",
   "metadata": {},
   "outputs": [],
   "source": [
    "sedan1.upSpeed(100)"
   ]
  },
  {
   "cell_type": "code",
   "execution_count": null,
   "id": "acaad10b-399b-4e32-a5bb-31efa75f64d2",
   "metadata": {},
   "outputs": [],
   "source": []
  }
 ],
 "metadata": {
  "kernelspec": {
   "display_name": "Python 3 (ipykernel)",
   "language": "python",
   "name": "python3"
  },
  "language_info": {
   "codemirror_mode": {
    "name": "ipython",
    "version": 3
   },
   "file_extension": ".py",
   "mimetype": "text/x-python",
   "name": "python",
   "nbconvert_exporter": "python",
   "pygments_lexer": "ipython3",
   "version": "3.9.7"
  }
 },
 "nbformat": 4,
 "nbformat_minor": 5
}
