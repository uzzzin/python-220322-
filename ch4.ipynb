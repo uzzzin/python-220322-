{
 "cells": [
  {
   "cell_type": "markdown",
   "id": "492ea6f2-2ee5-4adf-bba0-6d1baea7a7c1",
   "metadata": {},
   "source": [
    "## Chap 4 연산자"
   ]
  },
  {
   "cell_type": "markdown",
   "id": "a5cda7f2-3004-4afe-9103-df9abad3559d",
   "metadata": {},
   "source": [
    "### 1. 산술연산자\n",
    "\n",
    "    =\n",
    "    +\n",
    "    -\n",
    "    *\n",
    "    /\n",
    "    // 몫\n",
    "    % 나머지\n",
    "    ** 제곱\n",
    "    \n",
    "**우선순위**\n",
    "\n",
    "    1. ()\n",
    "    2. * & /\n",
    "    \n",
    "    \n",
    "**복합대입연산자**\n",
    "\n",
    "a = a+3\n",
    "    "
   ]
  },
  {
   "cell_type": "code",
   "execution_count": 2,
   "id": "e44e40c3-bb8b-4944-8d9c-66cbf7f88c02",
   "metadata": {},
   "outputs": [
    {
     "data": {
      "text/plain": [
       "16"
      ]
     },
     "execution_count": 2,
     "metadata": {},
     "output_type": "execute_result"
    }
   ],
   "source": [
    "a=13\n",
    "a+=3\n",
    "a"
   ]
  },
  {
   "cell_type": "code",
   "execution_count": 3,
   "id": "6d64e81e-e39a-464e-967e-68f88237f8b6",
   "metadata": {},
   "outputs": [
    {
     "data": {
      "text/plain": [
       "4096"
      ]
     },
     "execution_count": 3,
     "metadata": {},
     "output_type": "execute_result"
    }
   ],
   "source": [
    "a**=3\n",
    "a"
   ]
  },
  {
   "cell_type": "markdown",
   "id": "5579157c-8e66-4028-9788-c5fa40e65e95",
   "metadata": {},
   "source": [
    "### 2. 자료형 함수\n",
    "\n",
    "**내장 자료형 함수**\n",
    "    \n",
    "    - int\n",
    "    - float\n",
    "    - bin\n",
    "    - oct\n",
    "    - hex\n",
    "\n",
    "**문자형 자료형 함수**\n",
    "\n",
    "    -str()"
   ]
  },
  {
   "cell_type": "code",
   "execution_count": 57,
   "id": "ad24d99f-588e-4576-aa0b-efebe9c91769",
   "metadata": {},
   "outputs": [
    {
     "ename": "SyntaxError",
     "evalue": "invalid syntax (Temp/ipykernel_5412/405316029.py, line 3)",
     "output_type": "error",
     "traceback": [
      "\u001b[1;36m  File \u001b[1;32m\"C:\\Users\\BIT\\AppData\\Local\\Temp/ipykernel_5412/405316029.py\"\u001b[1;36m, line \u001b[1;32m3\u001b[0m\n\u001b[1;33m    print(\"안녕 \"str(a))\u001b[0m\n\u001b[1;37m               ^\u001b[0m\n\u001b[1;31mSyntaxError\u001b[0m\u001b[1;31m:\u001b[0m invalid syntax\n"
     ]
    }
   ],
   "source": [
    "a=1000\n",
    "\n",
    "print(\"안녕 \"str(a))\n"
   ]
  },
  {
   "cell_type": "code",
   "execution_count": 13,
   "id": "d56e6a35-c015-4a77-9920-49c9d5bdd7d5",
   "metadata": {},
   "outputs": [
    {
     "name": "stdin",
     "output_type": "stream",
     "text": [
      "교환할돈은얼마?: 6700\n"
     ]
    },
    {
     "name": "stdout",
     "output_type": "stream",
     "text": [
      "\n",
      "500원 짜리 ==> 13 개\n",
      "100원 짜리 ==> 2 개\n",
      "50원 짜리 ==> 0 개\n",
      "10원 짜리 ==> 0 개\n",
      "바꾸지 못한 잔돈 ==> 0 개\n"
     ]
    }
   ],
   "source": [
    "#p.96 pr1\n",
    "\n",
    "money,c500,c100,c50,c10=0,0,0,0,0\n",
    "\n",
    "money=int(input(\"교환할돈은얼마?:\"))\n",
    "\n",
    "c500=money//500\n",
    "money%=500\n",
    "\n",
    "c100=money//100\n",
    "money%=100\n",
    "\n",
    "c50=money//50\n",
    "money%=50\n",
    "\n",
    "c10=money//10\n",
    "money%=10\n",
    "\n",
    "print(\"\\n500원 짜리 ==> %d 개\" %c500)\n",
    "print(\"100원 짜리 ==> %d 개\" %c100)\n",
    "print(\"50원 짜리 ==> %d 개\" %c50)\n",
    "print(\"10원 짜리 ==> %d 개\" %c10)\n",
    "print(\"바꾸지 못한 잔돈 ==> %d 개\" %money)\n"
   ]
  },
  {
   "cell_type": "markdown",
   "id": "48358be6-cd30-46dd-a557-f61ac5f09b59",
   "metadata": {},
   "source": [
    "### 3. 관계 연산자\n",
    "\n",
    "**True/False**\n",
    "\n",
    "    * ==\n",
    "    * !=\n",
    "    * >\n",
    "    * <\n",
    "    * >=\n",
    "    * <=\n",
    "    "
   ]
  },
  {
   "cell_type": "code",
   "execution_count": 7,
   "id": "1abdd0e1-91b8-4c33-902e-281c0ef410b3",
   "metadata": {},
   "outputs": [
    {
     "name": "stdout",
     "output_type": "stream",
     "text": [
      "5보다 크다\n"
     ]
    }
   ],
   "source": [
    "if 10>5 :\n",
    "    print(\"5보다 크다\")"
   ]
  },
  {
   "cell_type": "markdown",
   "id": "cf857beb-4c76-42e5-a17d-a4aa94a5d454",
   "metadata": {},
   "source": [
    "### 4. 논리 연산자\n",
    "\n",
    "    - and\n",
    "    - or\n",
    "    - not"
   ]
  },
  {
   "cell_type": "code",
   "execution_count": 18,
   "id": "f407dabf-ccdb-421c-a408-ffef8bf81501",
   "metadata": {},
   "outputs": [
    {
     "data": {
      "text/plain": [
       "False"
      ]
     },
     "execution_count": 18,
     "metadata": {},
     "output_type": "execute_result"
    }
   ],
   "source": [
    "a=99\n",
    "\n",
    "a>100"
   ]
  },
  {
   "cell_type": "code",
   "execution_count": 19,
   "id": "0923d01b-6808-4ea0-9514-c950851fc837",
   "metadata": {},
   "outputs": [
    {
     "data": {
      "text/plain": [
       "False"
      ]
     },
     "execution_count": 19,
     "metadata": {},
     "output_type": "execute_result"
    }
   ],
   "source": [
    "(a>100) and (a<200)"
   ]
  },
  {
   "cell_type": "code",
   "execution_count": 20,
   "id": "4625c051-4663-4147-8257-05b0bac27311",
   "metadata": {},
   "outputs": [
    {
     "data": {
      "text/plain": [
       "True"
      ]
     },
     "execution_count": 20,
     "metadata": {},
     "output_type": "execute_result"
    }
   ],
   "source": [
    "(a>100) or (a<200)"
   ]
  },
  {
   "cell_type": "code",
   "execution_count": 21,
   "id": "da913716-3a10-4b59-8c94-8bdb512892eb",
   "metadata": {},
   "outputs": [
    {
     "data": {
      "text/plain": [
       "True"
      ]
     },
     "execution_count": 21,
     "metadata": {},
     "output_type": "execute_result"
    }
   ],
   "source": [
    "not(a==100)"
   ]
  },
  {
   "cell_type": "markdown",
   "id": "25470a92-fbe1-4888-94fc-66a5d7156028",
   "metadata": {},
   "source": [
    "### 5. 비트 연산자\n",
    "\n",
    "; 자릿 수 이동 연산\n",
    "\n",
    "    - &  : 비트 논리곱\n",
    "    - |  : 비트 논리합\n",
    "    - ^  : 비트 논리적 배타 합(xor)\n",
    "    - ~  : 비트 부정\n",
    "    - <<  : 비트 왼쪽 이동\n",
    "    - >>  :비트 오른쪽 이동\n",
    "    \n",
    "    \n",
    " **메모리 할당 시 필요 : masking 기법**"
   ]
  },
  {
   "cell_type": "markdown",
   "id": "f085088e-6ddd-4902-9343-02a699145f97",
   "metadata": {},
   "source": [
    "**2의 보수**\n",
    "-->가장 높은 자리 == 1 일때의 이진법의 음수 \n",
    "\n",
    "    1. 1의 보수\n",
    "    2. 1의 보수 +1\n",
    "    \n",
    "pr: 1001(-1) + 0001(1) \n",
    "'''\n",
    "ex\n",
    "\n",
    "a=5\n",
    "bin(a)=0000x0101\n",
    "bin(-a)=1111x1011 + 1=1111x1011\n",
    "\n",
    "'''"
   ]
  },
  {
   "cell_type": "code",
   "execution_count": 24,
   "id": "ba918c18-35cc-42f1-bd9a-fbdd284e6d10",
   "metadata": {},
   "outputs": [
    {
     "data": {
      "text/plain": [
       "2"
      ]
     },
     "execution_count": 24,
     "metadata": {},
     "output_type": "execute_result"
    }
   ],
   "source": [
    "10&7"
   ]
  },
  {
   "cell_type": "markdown",
   "id": "2c618aac-5a1c-42ab-8b0c-e6ac630f3c1c",
   "metadata": {},
   "source": [
    "'''\n",
    "bin(10)=0b1010 bin(7)=0b111\n",
    "\n",
    "  0b1010\n",
    "&  0b111\n",
    "---------\n",
    "    0010\n",
    "    \n",
    "int()"
   ]
  },
  {
   "cell_type": "code",
   "execution_count": 28,
   "id": "c16af5e3-6e0b-4b58-9788-1cdccdc6213d",
   "metadata": {},
   "outputs": [
    {
     "data": {
      "text/plain": [
       "'0b10'"
      ]
     },
     "execution_count": 28,
     "metadata": {},
     "output_type": "execute_result"
    }
   ],
   "source": [
    "bin(2)"
   ]
  },
  {
   "cell_type": "code",
   "execution_count": 32,
   "id": "9014217c-4bcc-431b-b5e6-268d8b4035c3",
   "metadata": {},
   "outputs": [
    {
     "data": {
      "text/plain": [
       "-3"
      ]
     },
     "execution_count": 32,
     "metadata": {},
     "output_type": "execute_result"
    }
   ],
   "source": [
    "# bit- xor 연산\n",
    "\n",
    "~ 2"
   ]
  },
  {
   "cell_type": "markdown",
   "id": "fa1923ab-edc5-4af8-8b40-b194bde86bb2",
   "metadata": {},
   "source": [
    "**시프트 연산자**\n",
    "\n",
    "<< : 2^n 효과\n",
    "<< : 2^(-n)"
   ]
  },
  {
   "cell_type": "code",
   "execution_count": 33,
   "id": "c8c2ff09-ec0b-44e6-bb5a-342cf09e5b79",
   "metadata": {},
   "outputs": [
    {
     "data": {
      "text/plain": [
       "'0b1010'"
      ]
     },
     "execution_count": 33,
     "metadata": {},
     "output_type": "execute_result"
    }
   ],
   "source": [
    "a=10; bin(a)"
   ]
  },
  {
   "cell_type": "code",
   "execution_count": 34,
   "id": "fdee50a9-2f13-4668-8bba-fb60aa6fbd1d",
   "metadata": {},
   "outputs": [
    {
     "data": {
      "text/plain": [
       "20"
      ]
     },
     "execution_count": 34,
     "metadata": {},
     "output_type": "execute_result"
    }
   ],
   "source": [
    "a<<1  # 1칸"
   ]
  },
  {
   "cell_type": "code",
   "execution_count": 36,
   "id": "f757a974-64ca-4cba-a36e-ce24698980b0",
   "metadata": {},
   "outputs": [
    {
     "data": {
      "text/plain": [
       "'0b10100'"
      ]
     },
     "execution_count": 36,
     "metadata": {},
     "output_type": "execute_result"
    }
   ],
   "source": [
    "bin(a<<1)"
   ]
  },
  {
   "cell_type": "code",
   "execution_count": 37,
   "id": "9bbf184d-e380-45d8-b69b-0d406e5c685f",
   "metadata": {},
   "outputs": [
    {
     "data": {
      "text/plain": [
       "80"
      ]
     },
     "execution_count": 37,
     "metadata": {},
     "output_type": "execute_result"
    }
   ],
   "source": [
    "a<<3"
   ]
  },
  {
   "cell_type": "code",
   "execution_count": 38,
   "id": "a2914a66-a111-463e-a6cd-3e592eff3fc5",
   "metadata": {},
   "outputs": [
    {
     "data": {
      "text/plain": [
       "'0b1010000'"
      ]
     },
     "execution_count": 38,
     "metadata": {},
     "output_type": "execute_result"
    }
   ],
   "source": [
    "bin(a<<3)"
   ]
  },
  {
   "cell_type": "markdown",
   "id": "567c488d-c198-493c-b01d-7c36283a8179",
   "metadata": {},
   "source": [
    "**연습문제**"
   ]
  },
  {
   "cell_type": "code",
   "execution_count": 46,
   "id": "fc6d1e22-b153-43ab-bc21-49ccc3118d4f",
   "metadata": {},
   "outputs": [
    {
     "ename": "SyntaxError",
     "evalue": "invalid syntax (Temp/ipykernel_5412/2720885796.py, line 7)",
     "output_type": "error",
     "traceback": [
      "\u001b[1;36m  File \u001b[1;32m\"C:\\Users\\BIT\\AppData\\Local\\Temp/ipykernel_5412/2720885796.py\"\u001b[1;36m, line \u001b[1;32m7\u001b[0m\n\u001b[1;33m    if ((year % 4 ==0) and (year %100 !=0)) or (year %400 ==0) : print(\"윤년\") else: print(\"윤년아님\")\u001b[0m\n\u001b[1;37m                                                                             ^\u001b[0m\n\u001b[1;31mSyntaxError\u001b[0m\u001b[1;31m:\u001b[0m invalid syntax\n"
     ]
    }
   ],
   "source": [
    "#p.119 윤년 계산하기\n",
    "\n",
    "year=0\n",
    "year=int(input('연도를 입력하세요:'))\n",
    "\n",
    "\n",
    "if ((year % 4 ==0) and (year %100 !=0)) or (year %400 ==0) : print(\"윤년\") else: print(\"윤년아님\")"
   ]
  },
  {
   "cell_type": "code",
   "execution_count": 52,
   "id": "2fcfdc85-8043-451d-9f55-f625b7ea6b0f",
   "metadata": {},
   "outputs": [
    {
     "name": "stdin",
     "output_type": "stream",
     "text": [
      "number of 500: 7\n",
      "number of 100: 13\n",
      "number of 50: 9\n"
     ]
    },
    {
     "name": "stdout",
     "output_type": "stream",
     "text": [
      "how much is money: 5250\n"
     ]
    }
   ],
   "source": [
    "#p.118\n",
    "##no.9\n",
    "\n",
    "c500 , c100, c50, c10, money = 0,0,0,0,0\n",
    "\n",
    "c500=int(input(\"number of 500:\"))\n",
    "c500*=500\n",
    "money+=c500\n",
    "\n",
    "c100=int(input(\"number of 100:\"))\n",
    "c100*=100\n",
    "money+=c100\n",
    "\n",
    "c50=int(input(\"number of 50:\"))\n",
    "c50*=50\n",
    "money+=c50\n",
    "\n",
    "print(\"how much is money: %d\" %money)"
   ]
  },
  {
   "cell_type": "code",
   "execution_count": 54,
   "id": "5deba127-bb8f-448d-9768-253a637ead8f",
   "metadata": {},
   "outputs": [
    {
     "name": "stdin",
     "output_type": "stream",
     "text": [
      "number of 500: 7\n",
      "number of 100: 13\n",
      "number of 50: 9\n"
     ]
    },
    {
     "name": "stdout",
     "output_type": "stream",
     "text": [
      "how much is money: 5250\n"
     ]
    }
   ],
   "source": [
    "#p.118\n",
    "##no.9\n",
    "\n",
    "c500 , c100, c50, c10, money = 0,0,0,0,0\n",
    "\n",
    "c500=int(input(\"number of 500:\"))\n",
    "c500*=500\n",
    "\n",
    "c100=int(input(\"number of 100:\"))\n",
    "c100*=100\n",
    "\n",
    "c50=int(input(\"number of 50:\"))\n",
    "c50*=50\n",
    "\n",
    "money+=c500\n",
    "money+=c100\n",
    "money+=c50\n",
    "\n",
    "print(\"how much is money: %d\" %money)"
   ]
  },
  {
   "cell_type": "code",
   "execution_count": 51,
   "id": "aad51407-56ab-45f9-ae20-644d3d7483e4",
   "metadata": {},
   "outputs": [
    {
     "name": "stdin",
     "output_type": "stream",
     "text": [
      "bin1: 1011\n",
      "bin2: 1110\n"
     ]
    },
    {
     "name": "stdout",
     "output_type": "stream",
     "text": [
      "11 14\n",
      "15\n"
     ]
    }
   ],
   "source": [
    "#p.118\n",
    "##no.10\n",
    "\n",
    "bin1, bin2 = 0,0\n",
    "\n",
    "bin1=input(\"bin1:\")\n",
    "bin1=int(bin1,2)\n",
    "\n",
    "bin2=input(\"bin2:\")\n",
    "bin2=int(bin2,2)\n",
    "\n",
    "result=bin1|bin2\n",
    "\n",
    "print(bin1, bin2)\n",
    "print(result)\n"
   ]
  },
  {
   "cell_type": "code",
   "execution_count": 58,
   "id": "e039bba6-f33d-4f0a-b766-12c750b213a7",
   "metadata": {},
   "outputs": [
    {
     "data": {
      "text/plain": [
       "26"
      ]
     },
     "execution_count": 58,
     "metadata": {},
     "output_type": "execute_result"
    }
   ],
   "source": [
    "int('1A',16)"
   ]
  }
 ],
 "metadata": {
  "kernelspec": {
   "display_name": "Python 3 (ipykernel)",
   "language": "python",
   "name": "python3"
  },
  "language_info": {
   "codemirror_mode": {
    "name": "ipython",
    "version": 3
   },
   "file_extension": ".py",
   "mimetype": "text/x-python",
   "name": "python",
   "nbconvert_exporter": "python",
   "pygments_lexer": "ipython3",
   "version": "3.9.7"
  }
 },
 "nbformat": 4,
 "nbformat_minor": 5
}
