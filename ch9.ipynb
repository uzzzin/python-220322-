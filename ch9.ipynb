{
 "cells": [
  {
   "cell_type": "markdown",
   "id": "57f5a3c7-1711-4f34-883e-48afd19aa40c",
   "metadata": {},
   "source": [
    "## Chap9. FUNCTION & MODULE"
   ]
  },
  {
   "cell_type": "markdown",
   "id": "efd135b0-53a6-448b-ba31-45f839fc5ca5",
   "metadata": {},
   "source": [
    "### 2.Function\n",
    "    \n",
    "       : Reuse code\n",
    "       "
   ]
  },
  {
   "cell_type": "markdown",
   "id": "ffa9ac07-3d83-455b-ba0a-704fb95abcdc",
   "metadata": {},
   "source": [
    "**function**\n",
    " \n",
    "     - 정의 :def\n",
    "         def function():\n",
    "     "
   ]
  },
  {
   "cell_type": "code",
   "execution_count": 4,
   "id": "d4bb3025-a5f9-4b28-9b81-e1d1bf052080",
   "metadata": {},
   "outputs": [
    {
     "name": "stdin",
     "output_type": "stream",
     "text": [
      "choice coffe?(1,2,3) 2\n"
     ]
    },
    {
     "name": "stdout",
     "output_type": "stream",
     "text": [
      "\n",
      "#1.hot water\n",
      "#2.papercup\n",
      "#3.sugar coffee\n",
      "#4.pour water\n",
      "#5.sir coffee\n",
      "\n",
      "here you are\n"
     ]
    }
   ],
   "source": [
    "#p.260\n",
    "# code 09-02\n",
    "\n",
    "###전역 변수 선언###\n",
    "coffee=0\n",
    "\n",
    "###함수 선언###\n",
    "def coffee_machine(button):\n",
    "    print()\n",
    "    print(\"#1.hot water\");\n",
    "    print(\"#2.papercup\");\n",
    "    \n",
    "    if button==1:\n",
    "        print(\"#3.original coffee\")\n",
    "    elif button==2:\n",
    "        print(\"#3.sugar coffee\")\n",
    "    elif button==3:\n",
    "        print(\"#3.black coffee\")\n",
    "    else:\n",
    "        print(\"#3.random\")\n",
    "    print(\"#4.pour water\");\n",
    "    print(\"#5.sir coffee\");\n",
    "    print()\n",
    "    \n",
    "    \n",
    "###메인 코드###\n",
    "coffee=int(input(\"choice coffe?(1,2,3)\"))\n",
    "coffee_machine(coffee)\n",
    "print(\"here you are\");"
   ]
  },
  {
   "cell_type": "code",
   "execution_count": 6,
   "id": "6f9d2e08-608a-45f2-814a-6e8b88c4b61d",
   "metadata": {},
   "outputs": [
    {
     "name": "stdin",
     "output_type": "stream",
     "text": [
      "what you favorite?(1, 2, 3) 2\n"
     ]
    },
    {
     "name": "stdout",
     "output_type": "stream",
     "text": [
      "\n",
      "#1.hot water\n",
      "#2.papercup\n",
      "#3.sugar coffee\n",
      "#4.pour water\n",
      "#5.sir coffee\n",
      "\n",
      "here you are\n"
     ]
    }
   ],
   "source": [
    "#p.261\n",
    "#code 09-03\n",
    "\n",
    "##전역 변수 선언\n",
    "##함수 선언\n",
    "\n",
    "##메인 코드\n",
    "    \n",
    "coffee=int(input(\"what you favorite?(1, 2, 3)\"))\n",
    "coffee_machine(coffee)\n",
    "print(\"here you are\")"
   ]
  },
  {
   "cell_type": "markdown",
   "id": "a5ca5112-f18d-4230-819a-125c519c6225",
   "metadata": {},
   "source": [
    "**매개변수 & return**"
   ]
  },
  {
   "cell_type": "code",
   "execution_count": 9,
   "id": "de725826-8e03-4c8b-8d75-e30aaf2d8ae2",
   "metadata": {},
   "outputs": [],
   "source": [
    "##test\n",
    "\n",
    "def plus(v1,v2):\n",
    "    print(v1+v2)"
   ]
  },
  {
   "cell_type": "code",
   "execution_count": 10,
   "id": "e0438b1a-df24-4c22-b3ae-475949518331",
   "metadata": {},
   "outputs": [
    {
     "name": "stdout",
     "output_type": "stream",
     "text": [
      "5\n"
     ]
    }
   ],
   "source": [
    "plus(2,3)"
   ]
  },
  {
   "cell_type": "code",
   "execution_count": 12,
   "id": "5150f7ae-dca2-4856-943b-27ae3a0562bb",
   "metadata": {},
   "outputs": [],
   "source": [
    "def plus2(v1,v2):\n",
    "    \"\"\"\n",
    "    plus2 > v1,v2 매개변수\n",
    "    \"\"\"\n",
    "    return v1+v2"
   ]
  },
  {
   "cell_type": "code",
   "execution_count": 11,
   "id": "c07e2c83-0330-45a5-93a9-0e4a705685a6",
   "metadata": {},
   "outputs": [
    {
     "name": "stdout",
     "output_type": "stream",
     "text": [
      "5\n"
     ]
    }
   ],
   "source": [
    "plus(2,3)"
   ]
  },
  {
   "cell_type": "code",
   "execution_count": 13,
   "id": "81ea18e6-bd43-4dd9-9cc8-757b850b1550",
   "metadata": {},
   "outputs": [
    {
     "data": {
      "text/plain": [
       "\u001b[1;31mSignature:\u001b[0m \u001b[0mplus2\u001b[0m\u001b[1;33m(\u001b[0m\u001b[0mv1\u001b[0m\u001b[1;33m,\u001b[0m \u001b[0mv2\u001b[0m\u001b[1;33m)\u001b[0m\u001b[1;33m\u001b[0m\u001b[1;33m\u001b[0m\u001b[0m\n",
       "\u001b[1;31mDocstring:\u001b[0m plus2 > v1,v2 매개변수\n",
       "\u001b[1;31mFile:\u001b[0m      c:\\users\\bit\\appdata\\local\\temp\\ipykernel_8792\\20371396.py\n",
       "\u001b[1;31mType:\u001b[0m      function\n"
      ]
     },
     "metadata": {},
     "output_type": "display_data"
    }
   ],
   "source": [
    "plus2?"
   ]
  },
  {
   "cell_type": "code",
   "execution_count": 16,
   "id": "58eef2cb-ef06-4e27-aa0e-ae56b36ad9fc",
   "metadata": {
    "tags": []
   },
   "outputs": [
    {
     "data": {
      "text/plain": [
       "\u001b[1;31mSignature:\u001b[0m \u001b[0mplus2\u001b[0m\u001b[1;33m(\u001b[0m\u001b[0mv1\u001b[0m\u001b[1;33m,\u001b[0m \u001b[0mv2\u001b[0m\u001b[1;33m)\u001b[0m\u001b[1;33m\u001b[0m\u001b[1;33m\u001b[0m\u001b[0m\n",
       "\u001b[1;31mSource:\u001b[0m   \n",
       "\u001b[1;32mdef\u001b[0m \u001b[0mplus2\u001b[0m\u001b[1;33m(\u001b[0m\u001b[0mv1\u001b[0m\u001b[1;33m,\u001b[0m\u001b[0mv2\u001b[0m\u001b[1;33m)\u001b[0m\u001b[1;33m:\u001b[0m\u001b[1;33m\n",
       "\u001b[0m    \u001b[1;34m\"\"\"\n",
       "    plus2 > v1,v2 매개변수\n",
       "    \"\"\"\u001b[0m\u001b[1;33m\n",
       "\u001b[0m    \u001b[1;32mreturn\u001b[0m \u001b[0mv1\u001b[0m\u001b[1;33m+\u001b[0m\u001b[0mv2\u001b[0m\u001b[1;33m\u001b[0m\u001b[1;33m\u001b[0m\u001b[0m\n",
       "\u001b[1;31mFile:\u001b[0m      c:\\users\\bit\\appdata\\local\\temp\\ipykernel_8792\\20371396.py\n",
       "\u001b[1;31mType:\u001b[0m      function\n"
      ]
     },
     "metadata": {},
     "output_type": "display_data"
    }
   ],
   "source": [
    "plus2??"
   ]
  },
  {
   "cell_type": "code",
   "execution_count": 21,
   "id": "3b5246b8-b370-4b5e-887a-2f1bf8e9453b",
   "metadata": {},
   "outputs": [
    {
     "name": "stdin",
     "output_type": "stream",
     "text": [
      "what caculate?: *\n",
      "first num: 3\n",
      "second num: 5\n"
     ]
    },
    {
     "ename": "TypeError",
     "evalue": "%d format: a number is required, not NoneType",
     "output_type": "error",
     "traceback": [
      "\u001b[1;31m---------------------------------------------------------------------------\u001b[0m",
      "\u001b[1;31mTypeError\u001b[0m                                 Traceback (most recent call last)",
      "\u001b[1;32m~\\AppData\\Local\\Temp/ipykernel_8792/991675465.py\u001b[0m in \u001b[0;36m<module>\u001b[1;34m\u001b[0m\n\u001b[0;32m     21\u001b[0m \u001b[0mres\u001b[0m\u001b[1;33m=\u001b[0m\u001b[0mcalc\u001b[0m\u001b[1;33m(\u001b[0m\u001b[0mvar1\u001b[0m\u001b[1;33m,\u001b[0m\u001b[0mvar2\u001b[0m\u001b[1;33m,\u001b[0m\u001b[0moper\u001b[0m\u001b[1;33m)\u001b[0m\u001b[1;33m\u001b[0m\u001b[1;33m\u001b[0m\u001b[0m\n\u001b[0;32m     22\u001b[0m \u001b[1;33m\u001b[0m\u001b[0m\n\u001b[1;32m---> 23\u001b[1;33m \u001b[0mprint\u001b[0m\u001b[1;33m(\u001b[0m\u001b[1;34m\"%d\"\u001b[0m\u001b[1;33m%\u001b[0m\u001b[0mres\u001b[0m\u001b[1;33m)\u001b[0m\u001b[1;33m\u001b[0m\u001b[1;33m\u001b[0m\u001b[0m\n\u001b[0m\u001b[0;32m     24\u001b[0m \u001b[1;33m\u001b[0m\u001b[0m\n",
      "\u001b[1;31mTypeError\u001b[0m: %d format: a number is required, not NoneType"
     ]
    }
   ],
   "source": [
    "def calc(v1,v2,op):\n",
    "    result=0\n",
    "    if op=='+':\n",
    "        result=v1+v2\n",
    "    elif op=='-':\n",
    "        result=v1-v2\n",
    "    elif op=='*':\n",
    "        result=v1*v2\n",
    "    elif op=='/':\n",
    "        result=v1/v2\n",
    "        \n",
    "res=0\n",
    "var1,var2,oper=0,0,\"\"\n",
    "\n",
    "##main\n",
    "\n",
    "oper=input(\"what caculate?:\")\n",
    "var1=int(input(\"first num:\"))\n",
    "var2=int(input(\"second num:\"))\n",
    "\n",
    "res=calc(var1,var2,oper)\n",
    "\n",
    "print(\"%d\"%res)\n",
    "    "
   ]
  },
  {
   "cell_type": "code",
   "execution_count": 22,
   "id": "1fb5ad98-c9f7-4074-b249-5c05c6aa2bd4",
   "metadata": {},
   "outputs": [
    {
     "data": {
      "text/plain": [
       "<function __main__.calc(v1, v2, op)>"
      ]
     },
     "execution_count": 22,
     "metadata": {},
     "output_type": "execute_result"
    }
   ],
   "source": [
    "calc      ## object of fuction class "
   ]
  },
  {
   "cell_type": "code",
   "execution_count": 24,
   "id": "50866082-6623-45d5-ac37-d4055be6bb81",
   "metadata": {},
   "outputs": [
    {
     "data": {
      "text/plain": [
       "(2001541597216, 2001541597216)"
      ]
     },
     "execution_count": 24,
     "metadata": {},
     "output_type": "execute_result"
    }
   ],
   "source": [
    "calc2=calc\n",
    "\n",
    "id(calc), id(calc2)  ## python: variation and function == object"
   ]
  },
  {
   "cell_type": "code",
   "execution_count": 26,
   "id": "85e4091c-1c6d-4a7c-ac26-e7def1dc46d4",
   "metadata": {},
   "outputs": [],
   "source": [
    "def mycalc():\n",
    "    return calc"
   ]
  },
  {
   "cell_type": "code",
   "execution_count": 32,
   "id": "5ada3b3d-1f06-4fad-bd0c-4f1e97d081fa",
   "metadata": {},
   "outputs": [
    {
     "data": {
      "text/plain": [
       "<function __main__.calc(v1, v2, op)>"
      ]
     },
     "execution_count": 32,
     "metadata": {},
     "output_type": "execute_result"
    }
   ],
   "source": [
    "m = mycalc()\n",
    "m"
   ]
  },
  {
   "cell_type": "code",
   "execution_count": 37,
   "id": "b83222b2-4233-4a5b-a7a0-c89c01315651",
   "metadata": {},
   "outputs": [],
   "source": [
    "m(10,5,'+')"
   ]
  },
  {
   "cell_type": "markdown",
   "id": "7e937224-f173-4a8d-8bb6-321a359f18a7",
   "metadata": {},
   "source": [
    "### 3. 지역변수, 전역번수\n",
    "\n",
    "    -지역변수\n",
    "        : 한정된 지역\n",
    "    -전역변수\n",
    "        : 프로그램 전체"
   ]
  },
  {
   "cell_type": "code",
   "execution_count": 40,
   "id": "429cd7c2-aa4e-47fc-ab8c-129c4ee2cd8d",
   "metadata": {},
   "outputs": [],
   "source": [
    "#p.268\n",
    "#code09-06\n",
    "\n",
    "a=20\n",
    "\n",
    "def f1():\n",
    "    a=10         #지역변수\n",
    "    print(a)\n",
    "    print(locals())  ##{'a':10}"
   ]
  },
  {
   "cell_type": "code",
   "execution_count": 46,
   "id": "a99b6197-c373-4268-a609-f9e4734034bb",
   "metadata": {},
   "outputs": [
    {
     "name": "stdout",
     "output_type": "stream",
     "text": [
      "10\n",
      "None\n"
     ]
    }
   ],
   "source": [
    "print(f1())"
   ]
  },
  {
   "cell_type": "code",
   "execution_count": 49,
   "id": "5b145f6c-5cfb-49f9-a10b-80527b16b7af",
   "metadata": {},
   "outputs": [
    {
     "data": {
      "text/plain": [
       "{'__name__': '__main__',\n",
       " '__doc__': 'Automatically created module for IPython interactive environment',\n",
       " '__package__': None,\n",
       " '__loader__': None,\n",
       " '__spec__': None,\n",
       " '__builtin__': <module 'builtins' (built-in)>,\n",
       " '__builtins__': <module 'builtins' (built-in)>,\n",
       " '_ih': ['',\n",
       "  '#p.258\\n## code 09-01\\n\\n###전역 변수 선언###\\ncoffee=0\\n\\n###함수 선언###\\ndef coffee_machine(button):\\n    print()\\n    print(\"#1.hot water\");\\n    print(\"#2.papercup\");\\n    \\n    if button==1:\\n        print(\"#3.original coffee\")\\n    elif button==2:\\n        print(\"#3.sugar coffee\")\\n    elif button==3:\\n        print(\"#3.black coffee\")\\n    else:\\n        print(\"#3.random\")\\n    print(\"#4.pour water\")\\n    print(\"#5.sir coffee\")\\n    print()\\n    \\n    \\n###메인 코드###\\ncoffee=int(input(\"choice coffe?(1,2,3)\"))\\ncoffee_machine(coffee)\\nprint(\"here you are\");',\n",
       "  '#p.258\\n## code 09-01\\n\\n###전역 변수 선언###\\ncoffee=0\\n\\n###함수 선언###\\ndef coffee_machine(button):\\n    print()\\n    print(\"#1.hot water\");\\n    print(\"#2.papercup\");\\n    \\n    if button==1:\\n        print(\"#3.original coffee\")\\n    elif button==2:\\n        print(\"#3.sugar coffee\")\\n    elif button==3:\\n        print(\"#3.black coffee\")\\n    else:\\n        print(\"#3.random\")\\n    print(\"#4.pour water\");\\n    print(\"#5.sir coffee\");\\n    print()\\n    \\n    \\n###메인 코드###\\ncoffee=int(input(\"choice coffe?(1,2,3)\"))\\ncoffee_machine(coffee)\\nprint(\"here you are\");',\n",
       "  '#p.260\\n## code 09-02\\n\\n###전역 변수 선언###\\ncoffee=0\\n\\n###함수 선언###\\ndef coffee_machine(button):\\n    print()\\n    print(\"#1.hot water\");\\n    print(\"#2.papercup\");\\n    \\n    if button==1:\\n        print(\"#3.original coffee\")\\n    elif button==2:\\n        print(\"#3.sugar coffee\")\\n    elif button==3:\\n        print(\"#3.black coffee\")\\n    else:\\n        print(\"#3.random\")\\n    print(\"#4.pour water\");\\n    print(\"#5.sir coffee\");\\n    print()\\n    \\n    \\n###메인 코드###\\ncoffee=int(input(\"choice coffe?(1,2,3)\"))\\ncoffee_machine(coffee)\\nprint(\"here you are\");',\n",
       "  '#p.260\\n# code 09-02\\n\\n###전역 변수 선언###\\ncoffee=0\\n\\n###함수 선언###\\ndef coffee_machine(button):\\n    print()\\n    print(\"#1.hot water\");\\n    print(\"#2.papercup\");\\n    \\n    if button==1:\\n        print(\"#3.original coffee\")\\n    elif button==2:\\n        print(\"#3.sugar coffee\")\\n    elif button==3:\\n        print(\"#3.black coffee\")\\n    else:\\n        print(\"#3.random\")\\n    print(\"#4.pour water\");\\n    print(\"#5.sir coffee\");\\n    print()\\n    \\n    \\n###메인 코드###\\ncoffee=int(input(\"choice coffe?(1,2,3)\"))\\ncoffee_machine(coffee)\\nprint(\"here you are\");',\n",
       "  '#p.261\\n#code 09-03\\n\\n##전역 변수 선언\\n##함수 선언\\n\\n##메인 코드\\n    \\ncoffee=int(input(\"what you favorite?(1, 2, 3)\"))\\ncoffee_machine(coffee)\\nprint(\"here you are\")',\n",
       "  '#p.261\\n#code 09-03\\n\\n##전역 변수 선언\\n##함수 선언\\n\\n##메인 코드\\n    \\ncoffee=int(input(\"what you favorite?(1, 2, 3)\"))\\ncoffee_machine(coffee)\\nprint(\"here you are\")',\n",
       "  '##test\\n\\ndef plus(v1,v2):\\n    print(v1+v2)',\n",
       "  '##test\\n\\ndef plus(v1,v2):\\n    print(v1+v2)',\n",
       "  '##test\\n\\ndef plus(v1,v2):\\n    print(v1+v2)',\n",
       "  'plus(2,3)',\n",
       "  'plus(2,3)',\n",
       "  'def plus2(v1,v2):\\n    \"\"\"\\n    plus2 > v1,v2 매개변수\\n    \"\"\"\\n    return v1+v2',\n",
       "  \"get_ipython().run_line_magic('pinfo', 'plus2')\",\n",
       "  \"get_ipython().run_line_magic('pinfo2', 'plus2')\",\n",
       "  \"get_ipython().run_line_magic('pinfo2', 'plus2')\",\n",
       "  \"get_ipython().run_line_magic('pinfo2', 'plus2')\",\n",
       "  'def calc(v1,v2,op):\\n    result=0\\n    if op==\\'+\\':\\n        result=v1+v2\\n    elif op==\\'-\\':\\n        result=v1-v2\\n    elif op==\\'*\\':\\n        result=v1*v2\\n    elif op==\\'/\\':\\n        result=v1/v2\\n        \\nres=0\\nvar1,var2,oper=0,0,\"\"\\n\\n##main\\n\\noper=input(\"what caculate?:\")\\nvar1=int(input(\"first num:\"))\\nvar2=int(input(\"second num:\"))\\ncalc(var1,var2,oper)\\n\\nprint(\"result\")\\n    ',\n",
       "  'def calc(v1,v2,op):\\n    result=0\\n    if op==\\'+\\':\\n        result=v1+v2\\n    elif op==\\'-\\':\\n        result=v1-v2\\n    elif op==\\'*\\':\\n        result=v1*v2\\n    elif op==\\'/\\':\\n        result=v1/v2\\n        \\nres=0\\nvar1,var2,oper=0,0,\"\"\\n\\n##main\\n\\noper=input(\"what caculate?:\")\\nvar1=int(input(\"first num:\"))\\nvar2=int(input(\"second num:\"))\\n\\nres=calc(var1,var2,oper)\\n\\nprint(\"res\")\\n    ',\n",
       "  'def calc(v1,v2,op):\\n    result=0\\n    if op==\\'+\\':\\n        result=v1+v2\\n    elif op==\\'-\\':\\n        result=v1-v2\\n    elif op==\\'*\\':\\n        result=v1*v2\\n    elif op==\\'/\\':\\n        result=v1/v2\\n        \\nres=0\\nvar1,var2,oper=0,0,\"\"\\n\\n##main\\n\\noper=input(\"what caculate?:\")\\nvar1=int(input(\"first num:\"))\\nvar2=int(input(\"second num:\"))\\n\\nres=calc(var1,var2,oper)\\n\\nprint(res)\\n    ',\n",
       "  'def calc(v1,v2,op):\\n    result=0\\n    if op==\\'+\\':\\n        result=v1+v2\\n    elif op==\\'-\\':\\n        result=v1-v2\\n    elif op==\\'*\\':\\n        result=v1*v2\\n    elif op==\\'/\\':\\n        result=v1/v2\\n        \\nres=0\\nvar1,var2,oper=0,0,\"\"\\n\\n##main\\n\\noper=input(\"what caculate?:\")\\nvar1=int(input(\"first num:\"))\\nvar2=int(input(\"second num:\"))\\n\\nres=calc(var1,var2,oper)\\n\\nprint(\"%d\"%res)\\n    ',\n",
       "  'def calc(v1,v2,op):\\n    result=0\\n    if op==\\'+\\':\\n        result=v1+v2\\n    elif op==\\'-\\':\\n        result=v1-v2\\n    elif op==\\'*\\':\\n        result=v1*v2\\n    elif op==\\'/\\':\\n        result=v1/v2\\n        \\nres=0\\nvar1,var2,oper=0,0,\"\"\\n\\n##main\\n\\noper=input(\"what caculate?:\")\\nvar1=int(input(\"first num:\"))\\nvar2=int(input(\"second num:\"))\\n\\nres=calc(var1,var2,oper)\\n\\nprint(\"%d\"%res)\\n    ',\n",
       "  'calc',\n",
       "  'calc2=calc\\n\\nid(calc), id(calc2)',\n",
       "  'calc2=calc\\n\\nid(calc), id(calc2)  ## python: variation and function == object',\n",
       "  'def mycalc(calc)\\n\\nm=mycalc\\nm',\n",
       "  'def mycalc():\\n    return calc',\n",
       "  'm=mycalc()\\nm',\n",
       "  'm(10,5,\"+\")',\n",
       "  'm=mycalc()\\nm',\n",
       "  'm(10,5,\"+\")',\n",
       "  'm(10,5,\"+\")',\n",
       "  'm = mycalc()\\nm',\n",
       "  'm(10,5,\"+\")',\n",
       "  'print(m(10,5,\"+\"))',\n",
       "  'print(m(10,5,+))',\n",
       "  'm(10,5,+)',\n",
       "  \"m(10,5,'+')\",\n",
       "  '### 3. 지역변수, 전역번수',\n",
       "  '#p.268\\n#code09-06\\n\\na=20\\n\\ndef f1():\\n    a=10         #지역변수\\n    print(a)',\n",
       "  '#p.268\\n#code09-06\\n\\na=20\\n\\ndef f1():\\n    a=10         #지역변수\\n    print(a)',\n",
       "  'a',\n",
       "  'a , f1(a)',\n",
       "  'a , f1()',\n",
       "  'a , f1()',\n",
       "  'f1()',\n",
       "  'print(f1())',\n",
       "  'globals()',\n",
       "  'python source.py',\n",
       "  'globals()   ## python source.py 모든 식별자 나타냄'],\n",
       " '_oh': {22: <function __main__.calc(v1, v2, op)>,\n",
       "  23: (2001541597216, 2001541597216),\n",
       "  24: (2001541597216, 2001541597216),\n",
       "  27: <function __main__.calc(v1, v2, op)>,\n",
       "  29: <function __main__.calc(v1, v2, op)>,\n",
       "  32: <function __main__.calc(v1, v2, op)>,\n",
       "  41: 20,\n",
       "  43: (20, None),\n",
       "  44: (20, None),\n",
       "  47: {...}},\n",
       " '_dh': ['C:\\\\Users\\\\BIT\\\\Works'],\n",
       " 'In': ['',\n",
       "  '#p.258\\n## code 09-01\\n\\n###전역 변수 선언###\\ncoffee=0\\n\\n###함수 선언###\\ndef coffee_machine(button):\\n    print()\\n    print(\"#1.hot water\");\\n    print(\"#2.papercup\");\\n    \\n    if button==1:\\n        print(\"#3.original coffee\")\\n    elif button==2:\\n        print(\"#3.sugar coffee\")\\n    elif button==3:\\n        print(\"#3.black coffee\")\\n    else:\\n        print(\"#3.random\")\\n    print(\"#4.pour water\")\\n    print(\"#5.sir coffee\")\\n    print()\\n    \\n    \\n###메인 코드###\\ncoffee=int(input(\"choice coffe?(1,2,3)\"))\\ncoffee_machine(coffee)\\nprint(\"here you are\");',\n",
       "  '#p.258\\n## code 09-01\\n\\n###전역 변수 선언###\\ncoffee=0\\n\\n###함수 선언###\\ndef coffee_machine(button):\\n    print()\\n    print(\"#1.hot water\");\\n    print(\"#2.papercup\");\\n    \\n    if button==1:\\n        print(\"#3.original coffee\")\\n    elif button==2:\\n        print(\"#3.sugar coffee\")\\n    elif button==3:\\n        print(\"#3.black coffee\")\\n    else:\\n        print(\"#3.random\")\\n    print(\"#4.pour water\");\\n    print(\"#5.sir coffee\");\\n    print()\\n    \\n    \\n###메인 코드###\\ncoffee=int(input(\"choice coffe?(1,2,3)\"))\\ncoffee_machine(coffee)\\nprint(\"here you are\");',\n",
       "  '#p.260\\n## code 09-02\\n\\n###전역 변수 선언###\\ncoffee=0\\n\\n###함수 선언###\\ndef coffee_machine(button):\\n    print()\\n    print(\"#1.hot water\");\\n    print(\"#2.papercup\");\\n    \\n    if button==1:\\n        print(\"#3.original coffee\")\\n    elif button==2:\\n        print(\"#3.sugar coffee\")\\n    elif button==3:\\n        print(\"#3.black coffee\")\\n    else:\\n        print(\"#3.random\")\\n    print(\"#4.pour water\");\\n    print(\"#5.sir coffee\");\\n    print()\\n    \\n    \\n###메인 코드###\\ncoffee=int(input(\"choice coffe?(1,2,3)\"))\\ncoffee_machine(coffee)\\nprint(\"here you are\");',\n",
       "  '#p.260\\n# code 09-02\\n\\n###전역 변수 선언###\\ncoffee=0\\n\\n###함수 선언###\\ndef coffee_machine(button):\\n    print()\\n    print(\"#1.hot water\");\\n    print(\"#2.papercup\");\\n    \\n    if button==1:\\n        print(\"#3.original coffee\")\\n    elif button==2:\\n        print(\"#3.sugar coffee\")\\n    elif button==3:\\n        print(\"#3.black coffee\")\\n    else:\\n        print(\"#3.random\")\\n    print(\"#4.pour water\");\\n    print(\"#5.sir coffee\");\\n    print()\\n    \\n    \\n###메인 코드###\\ncoffee=int(input(\"choice coffe?(1,2,3)\"))\\ncoffee_machine(coffee)\\nprint(\"here you are\");',\n",
       "  '#p.261\\n#code 09-03\\n\\n##전역 변수 선언\\n##함수 선언\\n\\n##메인 코드\\n    \\ncoffee=int(input(\"what you favorite?(1, 2, 3)\"))\\ncoffee_machine(coffee)\\nprint(\"here you are\")',\n",
       "  '#p.261\\n#code 09-03\\n\\n##전역 변수 선언\\n##함수 선언\\n\\n##메인 코드\\n    \\ncoffee=int(input(\"what you favorite?(1, 2, 3)\"))\\ncoffee_machine(coffee)\\nprint(\"here you are\")',\n",
       "  '##test\\n\\ndef plus(v1,v2):\\n    print(v1+v2)',\n",
       "  '##test\\n\\ndef plus(v1,v2):\\n    print(v1+v2)',\n",
       "  '##test\\n\\ndef plus(v1,v2):\\n    print(v1+v2)',\n",
       "  'plus(2,3)',\n",
       "  'plus(2,3)',\n",
       "  'def plus2(v1,v2):\\n    \"\"\"\\n    plus2 > v1,v2 매개변수\\n    \"\"\"\\n    return v1+v2',\n",
       "  \"get_ipython().run_line_magic('pinfo', 'plus2')\",\n",
       "  \"get_ipython().run_line_magic('pinfo2', 'plus2')\",\n",
       "  \"get_ipython().run_line_magic('pinfo2', 'plus2')\",\n",
       "  \"get_ipython().run_line_magic('pinfo2', 'plus2')\",\n",
       "  'def calc(v1,v2,op):\\n    result=0\\n    if op==\\'+\\':\\n        result=v1+v2\\n    elif op==\\'-\\':\\n        result=v1-v2\\n    elif op==\\'*\\':\\n        result=v1*v2\\n    elif op==\\'/\\':\\n        result=v1/v2\\n        \\nres=0\\nvar1,var2,oper=0,0,\"\"\\n\\n##main\\n\\noper=input(\"what caculate?:\")\\nvar1=int(input(\"first num:\"))\\nvar2=int(input(\"second num:\"))\\ncalc(var1,var2,oper)\\n\\nprint(\"result\")\\n    ',\n",
       "  'def calc(v1,v2,op):\\n    result=0\\n    if op==\\'+\\':\\n        result=v1+v2\\n    elif op==\\'-\\':\\n        result=v1-v2\\n    elif op==\\'*\\':\\n        result=v1*v2\\n    elif op==\\'/\\':\\n        result=v1/v2\\n        \\nres=0\\nvar1,var2,oper=0,0,\"\"\\n\\n##main\\n\\noper=input(\"what caculate?:\")\\nvar1=int(input(\"first num:\"))\\nvar2=int(input(\"second num:\"))\\n\\nres=calc(var1,var2,oper)\\n\\nprint(\"res\")\\n    ',\n",
       "  'def calc(v1,v2,op):\\n    result=0\\n    if op==\\'+\\':\\n        result=v1+v2\\n    elif op==\\'-\\':\\n        result=v1-v2\\n    elif op==\\'*\\':\\n        result=v1*v2\\n    elif op==\\'/\\':\\n        result=v1/v2\\n        \\nres=0\\nvar1,var2,oper=0,0,\"\"\\n\\n##main\\n\\noper=input(\"what caculate?:\")\\nvar1=int(input(\"first num:\"))\\nvar2=int(input(\"second num:\"))\\n\\nres=calc(var1,var2,oper)\\n\\nprint(res)\\n    ',\n",
       "  'def calc(v1,v2,op):\\n    result=0\\n    if op==\\'+\\':\\n        result=v1+v2\\n    elif op==\\'-\\':\\n        result=v1-v2\\n    elif op==\\'*\\':\\n        result=v1*v2\\n    elif op==\\'/\\':\\n        result=v1/v2\\n        \\nres=0\\nvar1,var2,oper=0,0,\"\"\\n\\n##main\\n\\noper=input(\"what caculate?:\")\\nvar1=int(input(\"first num:\"))\\nvar2=int(input(\"second num:\"))\\n\\nres=calc(var1,var2,oper)\\n\\nprint(\"%d\"%res)\\n    ',\n",
       "  'def calc(v1,v2,op):\\n    result=0\\n    if op==\\'+\\':\\n        result=v1+v2\\n    elif op==\\'-\\':\\n        result=v1-v2\\n    elif op==\\'*\\':\\n        result=v1*v2\\n    elif op==\\'/\\':\\n        result=v1/v2\\n        \\nres=0\\nvar1,var2,oper=0,0,\"\"\\n\\n##main\\n\\noper=input(\"what caculate?:\")\\nvar1=int(input(\"first num:\"))\\nvar2=int(input(\"second num:\"))\\n\\nres=calc(var1,var2,oper)\\n\\nprint(\"%d\"%res)\\n    ',\n",
       "  'calc',\n",
       "  'calc2=calc\\n\\nid(calc), id(calc2)',\n",
       "  'calc2=calc\\n\\nid(calc), id(calc2)  ## python: variation and function == object',\n",
       "  'def mycalc(calc)\\n\\nm=mycalc\\nm',\n",
       "  'def mycalc():\\n    return calc',\n",
       "  'm=mycalc()\\nm',\n",
       "  'm(10,5,\"+\")',\n",
       "  'm=mycalc()\\nm',\n",
       "  'm(10,5,\"+\")',\n",
       "  'm(10,5,\"+\")',\n",
       "  'm = mycalc()\\nm',\n",
       "  'm(10,5,\"+\")',\n",
       "  'print(m(10,5,\"+\"))',\n",
       "  'print(m(10,5,+))',\n",
       "  'm(10,5,+)',\n",
       "  \"m(10,5,'+')\",\n",
       "  '### 3. 지역변수, 전역번수',\n",
       "  '#p.268\\n#code09-06\\n\\na=20\\n\\ndef f1():\\n    a=10         #지역변수\\n    print(a)',\n",
       "  '#p.268\\n#code09-06\\n\\na=20\\n\\ndef f1():\\n    a=10         #지역변수\\n    print(a)',\n",
       "  'a',\n",
       "  'a , f1(a)',\n",
       "  'a , f1()',\n",
       "  'a , f1()',\n",
       "  'f1()',\n",
       "  'print(f1())',\n",
       "  'globals()',\n",
       "  'python source.py',\n",
       "  'globals()   ## python source.py 모든 식별자 나타냄'],\n",
       " 'Out': {22: <function __main__.calc(v1, v2, op)>,\n",
       "  23: (2001541597216, 2001541597216),\n",
       "  24: (2001541597216, 2001541597216),\n",
       "  27: <function __main__.calc(v1, v2, op)>,\n",
       "  29: <function __main__.calc(v1, v2, op)>,\n",
       "  32: <function __main__.calc(v1, v2, op)>,\n",
       "  41: 20,\n",
       "  43: (20, None),\n",
       "  44: (20, None),\n",
       "  47: {...}},\n",
       " 'get_ipython': <bound method InteractiveShell.get_ipython of <ipykernel.zmqshell.ZMQInteractiveShell object at 0x000001D20510E4F0>>,\n",
       " 'exit': <IPython.core.autocall.ZMQExitAutocall at 0x1d205171670>,\n",
       " 'quit': <IPython.core.autocall.ZMQExitAutocall at 0x1d205171670>,\n",
       " '_': {...},\n",
       " '__': (20, None),\n",
       " '___': (20, None),\n",
       " '_i': 'python source.py',\n",
       " '_ii': 'globals()',\n",
       " '_iii': 'print(f1())',\n",
       " '_i1': '#p.258\\n## code 09-01\\n\\n###전역 변수 선언###\\ncoffee=0\\n\\n###함수 선언###\\ndef coffee_machine(button):\\n    print()\\n    print(\"#1.hot water\");\\n    print(\"#2.papercup\");\\n    \\n    if button==1:\\n        print(\"#3.original coffee\")\\n    elif button==2:\\n        print(\"#3.sugar coffee\")\\n    elif button==3:\\n        print(\"#3.black coffee\")\\n    else:\\n        print(\"#3.random\")\\n    print(\"#4.pour water\")\\n    print(\"#5.sir coffee\")\\n    print()\\n    \\n    \\n###메인 코드###\\ncoffee=int(input(\"choice coffe?(1,2,3)\"))\\ncoffee_machine(coffee)\\nprint(\"here you are\");',\n",
       " 'coffee': 2,\n",
       " 'coffee_machine': <function __main__.coffee_machine(button)>,\n",
       " '_i2': '#p.258\\n## code 09-01\\n\\n###전역 변수 선언###\\ncoffee=0\\n\\n###함수 선언###\\ndef coffee_machine(button):\\n    print()\\n    print(\"#1.hot water\");\\n    print(\"#2.papercup\");\\n    \\n    if button==1:\\n        print(\"#3.original coffee\")\\n    elif button==2:\\n        print(\"#3.sugar coffee\")\\n    elif button==3:\\n        print(\"#3.black coffee\")\\n    else:\\n        print(\"#3.random\")\\n    print(\"#4.pour water\");\\n    print(\"#5.sir coffee\");\\n    print()\\n    \\n    \\n###메인 코드###\\ncoffee=int(input(\"choice coffe?(1,2,3)\"))\\ncoffee_machine(coffee)\\nprint(\"here you are\");',\n",
       " '_i3': '#p.260\\n## code 09-02\\n\\n###전역 변수 선언###\\ncoffee=0\\n\\n###함수 선언###\\ndef coffee_machine(button):\\n    print()\\n    print(\"#1.hot water\");\\n    print(\"#2.papercup\");\\n    \\n    if button==1:\\n        print(\"#3.original coffee\")\\n    elif button==2:\\n        print(\"#3.sugar coffee\")\\n    elif button==3:\\n        print(\"#3.black coffee\")\\n    else:\\n        print(\"#3.random\")\\n    print(\"#4.pour water\");\\n    print(\"#5.sir coffee\");\\n    print()\\n    \\n    \\n###메인 코드###\\ncoffee=int(input(\"choice coffe?(1,2,3)\"))\\ncoffee_machine(coffee)\\nprint(\"here you are\");',\n",
       " '_i4': '#p.260\\n# code 09-02\\n\\n###전역 변수 선언###\\ncoffee=0\\n\\n###함수 선언###\\ndef coffee_machine(button):\\n    print()\\n    print(\"#1.hot water\");\\n    print(\"#2.papercup\");\\n    \\n    if button==1:\\n        print(\"#3.original coffee\")\\n    elif button==2:\\n        print(\"#3.sugar coffee\")\\n    elif button==3:\\n        print(\"#3.black coffee\")\\n    else:\\n        print(\"#3.random\")\\n    print(\"#4.pour water\");\\n    print(\"#5.sir coffee\");\\n    print()\\n    \\n    \\n###메인 코드###\\ncoffee=int(input(\"choice coffe?(1,2,3)\"))\\ncoffee_machine(coffee)\\nprint(\"here you are\");',\n",
       " '_i5': '#p.261\\n#code 09-03\\n\\n##전역 변수 선언\\n##함수 선언\\n\\n##메인 코드\\n    \\ncoffee=int(input(\"what you favorite?(1, 2, 3)\"))\\ncoffee_machine(coffee)\\nprint(\"here you are\")',\n",
       " '_i6': '#p.261\\n#code 09-03\\n\\n##전역 변수 선언\\n##함수 선언\\n\\n##메인 코드\\n    \\ncoffee=int(input(\"what you favorite?(1, 2, 3)\"))\\ncoffee_machine(coffee)\\nprint(\"here you are\")',\n",
       " '_i7': '##test\\n\\ndef plus(v1,v2):\\n    print(v1+v2)',\n",
       " 'plus': <function __main__.plus(v1, v2)>,\n",
       " '_i8': '##test\\n\\ndef plus(v1,v2):\\n    print(v1+v2)',\n",
       " '_i9': '##test\\n\\ndef plus(v1,v2):\\n    print(v1+v2)',\n",
       " '_i10': 'plus(2,3)',\n",
       " '_i11': 'plus(2,3)',\n",
       " '_i12': 'def plus2(v1,v2):\\n    \"\"\"\\n    plus2 > v1,v2 매개변수\\n    \"\"\"\\n    return v1+v2',\n",
       " 'plus2': <function __main__.plus2(v1, v2)>,\n",
       " '_i13': 'plus2?',\n",
       " '_i14': 'plus2??',\n",
       " '_i15': 'plus2??',\n",
       " '_i16': 'plus2??',\n",
       " '_i17': 'def calc(v1,v2,op):\\n    result=0\\n    if op==\\'+\\':\\n        result=v1+v2\\n    elif op==\\'-\\':\\n        result=v1-v2\\n    elif op==\\'*\\':\\n        result=v1*v2\\n    elif op==\\'/\\':\\n        result=v1/v2\\n        \\nres=0\\nvar1,var2,oper=0,0,\"\"\\n\\n##main\\n\\noper=input(\"what caculate?:\")\\nvar1=int(input(\"first num:\"))\\nvar2=int(input(\"second num:\"))\\ncalc(var1,var2,oper)\\n\\nprint(\"result\")\\n    ',\n",
       " 'calc': <function __main__.calc(v1, v2, op)>,\n",
       " 'res': None,\n",
       " 'var1': 3,\n",
       " 'var2': 5,\n",
       " 'oper': '*',\n",
       " '_i18': 'def calc(v1,v2,op):\\n    result=0\\n    if op==\\'+\\':\\n        result=v1+v2\\n    elif op==\\'-\\':\\n        result=v1-v2\\n    elif op==\\'*\\':\\n        result=v1*v2\\n    elif op==\\'/\\':\\n        result=v1/v2\\n        \\nres=0\\nvar1,var2,oper=0,0,\"\"\\n\\n##main\\n\\noper=input(\"what caculate?:\")\\nvar1=int(input(\"first num:\"))\\nvar2=int(input(\"second num:\"))\\n\\nres=calc(var1,var2,oper)\\n\\nprint(\"res\")\\n    ',\n",
       " '_i19': 'def calc(v1,v2,op):\\n    result=0\\n    if op==\\'+\\':\\n        result=v1+v2\\n    elif op==\\'-\\':\\n        result=v1-v2\\n    elif op==\\'*\\':\\n        result=v1*v2\\n    elif op==\\'/\\':\\n        result=v1/v2\\n        \\nres=0\\nvar1,var2,oper=0,0,\"\"\\n\\n##main\\n\\noper=input(\"what caculate?:\")\\nvar1=int(input(\"first num:\"))\\nvar2=int(input(\"second num:\"))\\n\\nres=calc(var1,var2,oper)\\n\\nprint(res)\\n    ',\n",
       " '_i20': 'def calc(v1,v2,op):\\n    result=0\\n    if op==\\'+\\':\\n        result=v1+v2\\n    elif op==\\'-\\':\\n        result=v1-v2\\n    elif op==\\'*\\':\\n        result=v1*v2\\n    elif op==\\'/\\':\\n        result=v1/v2\\n        \\nres=0\\nvar1,var2,oper=0,0,\"\"\\n\\n##main\\n\\noper=input(\"what caculate?:\")\\nvar1=int(input(\"first num:\"))\\nvar2=int(input(\"second num:\"))\\n\\nres=calc(var1,var2,oper)\\n\\nprint(\"%d\"%res)\\n    ',\n",
       " '_i21': 'def calc(v1,v2,op):\\n    result=0\\n    if op==\\'+\\':\\n        result=v1+v2\\n    elif op==\\'-\\':\\n        result=v1-v2\\n    elif op==\\'*\\':\\n        result=v1*v2\\n    elif op==\\'/\\':\\n        result=v1/v2\\n        \\nres=0\\nvar1,var2,oper=0,0,\"\"\\n\\n##main\\n\\noper=input(\"what caculate?:\")\\nvar1=int(input(\"first num:\"))\\nvar2=int(input(\"second num:\"))\\n\\nres=calc(var1,var2,oper)\\n\\nprint(\"%d\"%res)\\n    ',\n",
       " '_i22': 'calc',\n",
       " '_22': <function __main__.calc(v1, v2, op)>,\n",
       " '_i23': 'calc2=calc\\n\\nid(calc), id(calc2)',\n",
       " 'calc2': <function __main__.calc(v1, v2, op)>,\n",
       " '_23': (2001541597216, 2001541597216),\n",
       " '_i24': 'calc2=calc\\n\\nid(calc), id(calc2)  ## python: variation and function == object',\n",
       " '_24': (2001541597216, 2001541597216),\n",
       " '_i25': 'def mycalc(calc)\\n\\nm=mycalc\\nm',\n",
       " '_i26': 'def mycalc():\\n    return calc',\n",
       " 'mycalc': <function __main__.mycalc()>,\n",
       " '_i27': 'm=mycalc()\\nm',\n",
       " 'm': <function __main__.calc(v1, v2, op)>,\n",
       " '_27': <function __main__.calc(v1, v2, op)>,\n",
       " '_i28': 'm(10,5,\"+\")',\n",
       " '_i29': 'm=mycalc()\\nm',\n",
       " '_29': <function __main__.calc(v1, v2, op)>,\n",
       " '_i30': 'm(10,5,\"+\")',\n",
       " '_i31': 'm(10,5,\"+\")',\n",
       " '_i32': 'm = mycalc()\\nm',\n",
       " '_32': <function __main__.calc(v1, v2, op)>,\n",
       " '_i33': 'm(10,5,\"+\")',\n",
       " '_i34': 'print(m(10,5,\"+\"))',\n",
       " '_i35': 'print(m(10,5,+))',\n",
       " '_i36': 'm(10,5,+)',\n",
       " '_i37': \"m(10,5,'+')\",\n",
       " '_i38': '### 3. 지역변수, 전역번수',\n",
       " '_i39': '#p.268\\n#code09-06\\n\\na=20\\n\\ndef f1():\\n    a=10         #지역변수\\n    print(a)',\n",
       " 'a': 20,\n",
       " 'f1': <function __main__.f1()>,\n",
       " '_i40': '#p.268\\n#code09-06\\n\\na=20\\n\\ndef f1():\\n    a=10         #지역변수\\n    print(a)',\n",
       " '_i41': 'a',\n",
       " '_41': 20,\n",
       " '_i42': 'a , f1(a)',\n",
       " '_i43': 'a , f1()',\n",
       " '_43': (20, None),\n",
       " '_i44': 'a , f1()',\n",
       " '_44': (20, None),\n",
       " '_i45': 'f1()',\n",
       " '_i46': 'print(f1())',\n",
       " '_i47': 'globals()',\n",
       " '_47': {...},\n",
       " '_i48': 'python source.py',\n",
       " '_i49': 'globals()   ## python source.py 모든 식별자 나타냄'}"
      ]
     },
     "execution_count": 49,
     "metadata": {},
     "output_type": "execute_result"
    }
   ],
   "source": [
    "globals()   ## python source.py 모든 식별자 나타냄"
   ]
  },
  {
   "cell_type": "code",
   "execution_count": 52,
   "id": "f5aed579-f3c2-4353-ad8f-f5d9624f9431",
   "metadata": {},
   "outputs": [
    {
     "name": "stdout",
     "output_type": "stream",
     "text": [
      "a of f1: 10\n",
      "a of f2: 20\n"
     ]
    }
   ],
   "source": [
    "#p.268\n",
    "#code 09-06\n",
    "\n",
    "##함수 선언\n",
    "def f1():\n",
    "    a=10                    ##지역변수\n",
    "    print(\"a of f1: %d\" %a)\n",
    "    \n",
    "def f2():                   \n",
    "    print(\"a of f2: %d\" %a)\n",
    "\n",
    "    \n",
    "##main\n",
    "a=20  ##전역변수\n",
    "\n",
    "f1()\n",
    "f2()"
   ]
  },
  {
   "cell_type": "markdown",
   "id": "781d971b-8473-4b78-ade3-c97f4cf1391e",
   "metadata": {},
   "source": [
    "**global**"
   ]
  },
  {
   "cell_type": "code",
   "execution_count": 55,
   "id": "c5f331bf-11d6-45bb-bc3e-5177b1d95aaa",
   "metadata": {},
   "outputs": [
    {
     "data": {
      "text/plain": [
       "20"
      ]
     },
     "execution_count": 55,
     "metadata": {},
     "output_type": "execute_result"
    }
   ],
   "source": [
    "a"
   ]
  },
  {
   "cell_type": "code",
   "execution_count": 56,
   "id": "7c272e19-af3a-4586-a9d8-5bf341688987",
   "metadata": {},
   "outputs": [],
   "source": [
    "def f3():\n",
    "    global a  #로컬에서 a라는 전역변수 그대로 사용\n",
    "    a=30\n",
    "    print(a)"
   ]
  },
  {
   "cell_type": "code",
   "execution_count": 60,
   "id": "cc0d10d1-1b4b-4497-8b78-0301c734045a",
   "metadata": {},
   "outputs": [
    {
     "name": "stdout",
     "output_type": "stream",
     "text": [
      "30\n"
     ]
    }
   ],
   "source": [
    "f3()"
   ]
  },
  {
   "cell_type": "code",
   "execution_count": 62,
   "id": "cacceb74-aeae-465f-b3e2-efad1039aa3c",
   "metadata": {},
   "outputs": [
    {
     "data": {
      "text/plain": [
       "30"
      ]
     },
     "execution_count": 62,
     "metadata": {},
     "output_type": "execute_result"
    }
   ],
   "source": [
    "a  ## 전역변수 change ...global a"
   ]
  },
  {
   "cell_type": "markdown",
   "id": "377b8257-4841-43af-af25-4d4eda5d1728",
   "metadata": {},
   "source": [
    "**return**"
   ]
  },
  {
   "cell_type": "code",
   "execution_count": 64,
   "id": "d3c59853-4bac-422e-b627-f19a176ecd56",
   "metadata": {},
   "outputs": [
    {
     "name": "stdout",
     "output_type": "stream",
     "text": [
      "return value of func1(): 100\n",
      "no return function\n"
     ]
    }
   ],
   "source": [
    "#p.271\n",
    "#code 09-08\n",
    "\n",
    "##함수 선언\n",
    "def func1():  ##지역 변수\n",
    "    result=100\n",
    "    return result\n",
    "\n",
    "def func2():\n",
    "    print(\"no return function\")\n",
    "    \n",
    "##전역 변수\n",
    "hap=0\n",
    "\n",
    "##메인 코드\n",
    "hap=func1()\n",
    "print(\"return value of func1(): %d\"%hap)\n",
    "func2()"
   ]
  },
  {
   "cell_type": "code",
   "execution_count": 67,
   "id": "1dcc0cb7-cd0a-493e-ad7a-cbee15342e97",
   "metadata": {},
   "outputs": [
    {
     "name": "stdout",
     "output_type": "stream",
     "text": [
      "return of multi: 300,-100\n"
     ]
    }
   ],
   "source": [
    "#p.272\n",
    "#code 09-09\n",
    "\n",
    "def multi(v1,v2):\n",
    "    retlist=[]\n",
    "    res1=v1+v2\n",
    "    res2=v1-v2\n",
    "    retlist.append(res1)\n",
    "    retlist.append(res2)\n",
    "    return retlist\n",
    "\"\"\"\n",
    "tuple>\n",
    "def multi(v1,v2)\n",
    "    res1\n",
    "    res2\n",
    "    return res1, res2,\n",
    "\"\"\"\n",
    "\n",
    "mylist=[]\n",
    "hap,sub=0,0\n",
    "\n",
    "mylist=multi(100,200)\n",
    "hap=mylist[0]\n",
    "sub=mylist[1]\n",
    "print(\"return of multi: %d,%d\"%(hap,sub))"
   ]
  },
  {
   "cell_type": "markdown",
   "id": "ab837f0e-674d-40ab-86e5-20113ea8dae0",
   "metadata": {},
   "source": [
    "**pass**\n",
    "\n",
    "    : no return > pass\n",
    "    : 주로 함수 이름만 선언 먼저 할때 사용"
   ]
  },
  {
   "cell_type": "markdown",
   "id": "47c29fcd-4766-41c2-b93f-eb9b9f191645",
   "metadata": {},
   "source": [
    "**함수 매개변수 전달**"
   ]
  },
  {
   "cell_type": "code",
   "execution_count": 68,
   "id": "ff66c15f-0646-434b-a83e-b3ac667cb2ac",
   "metadata": {},
   "outputs": [],
   "source": [
    "def f1(v1,v2):\n",
    "    return v1+v2"
   ]
  },
  {
   "cell_type": "code",
   "execution_count": 69,
   "id": "6b218193-95bc-4476-a3a5-406fc340d15b",
   "metadata": {},
   "outputs": [],
   "source": [
    "def f2(v1,v2,v3):\n",
    "    return v1+v2+v3"
   ]
  },
  {
   "cell_type": "code",
   "execution_count": 70,
   "id": "b15fc59b-ad0b-4237-b098-843e85856b3e",
   "metadata": {},
   "outputs": [],
   "source": [
    "#p.274\n",
    "#code 09-10\n",
    "\n",
    "def x(v1,v2,v3=0):  ## 매개변수 값 전달 x > 기본값\n",
    "    return v1+v2+v3"
   ]
  },
  {
   "cell_type": "code",
   "execution_count": 76,
   "id": "be7618d8-6749-40fb-9f65-1b3c3c72ade7",
   "metadata": {},
   "outputs": [
    {
     "data": {
      "text/plain": [
       "6"
      ]
     },
     "execution_count": 76,
     "metadata": {},
     "output_type": "execute_result"
    }
   ],
   "source": [
    "x(1,2,3)"
   ]
  },
  {
   "cell_type": "code",
   "execution_count": 77,
   "id": "d995ec64-b995-4ff9-a68a-95e07768b09e",
   "metadata": {},
   "outputs": [
    {
     "data": {
      "text/plain": [
       "3"
      ]
     },
     "execution_count": 77,
     "metadata": {},
     "output_type": "execute_result"
    }
   ],
   "source": [
    "x(1,2)"
   ]
  },
  {
   "cell_type": "markdown",
   "id": "584d6bee-8a7f-42cb-a585-02a5dc55fa56",
   "metadata": {},
   "source": [
    "**매개변수 개수 지정X > 전달**"
   ]
  },
  {
   "cell_type": "code",
   "execution_count": 79,
   "id": "c47bd0b3-688c-44f4-95ed-6600fa65508e",
   "metadata": {},
   "outputs": [],
   "source": [
    "def f4(*v):\n",
    "    result=0\n",
    "    for n in v:\n",
    "        result+=n\n",
    "    return result"
   ]
  },
  {
   "cell_type": "code",
   "execution_count": 80,
   "id": "2943ef95-7e4f-4479-be5b-539edc6aca3c",
   "metadata": {},
   "outputs": [
    {
     "data": {
      "text/plain": [
       "<function __main__.f4(*v)>"
      ]
     },
     "execution_count": 80,
     "metadata": {},
     "output_type": "execute_result"
    }
   ],
   "source": [
    "f4"
   ]
  },
  {
   "cell_type": "code",
   "execution_count": 81,
   "id": "1fb5c92b-ca6a-437d-be71-36824ad13867",
   "metadata": {},
   "outputs": [
    {
     "data": {
      "text/plain": [
       "6"
      ]
     },
     "execution_count": 81,
     "metadata": {},
     "output_type": "execute_result"
    }
   ],
   "source": [
    "f4(1,2,3)"
   ]
  },
  {
   "cell_type": "code",
   "execution_count": 82,
   "id": "81a19fb8-1d0e-4010-a0b0-333177bac1c7",
   "metadata": {},
   "outputs": [
    {
     "data": {
      "text/plain": [
       "1"
      ]
     },
     "execution_count": 82,
     "metadata": {},
     "output_type": "execute_result"
    }
   ],
   "source": [
    "f4(1)"
   ]
  },
  {
   "cell_type": "code",
   "execution_count": 83,
   "id": "c8555f02-ef16-4d9b-b74e-f177824081d8",
   "metadata": {},
   "outputs": [
    {
     "name": "stdout",
     "output_type": "stream",
     "text": [
      "30\n",
      "60\n"
     ]
    }
   ],
   "source": [
    "#p.275\n",
    "#code 09-12\n",
    "\n",
    "def para_func(*para):\n",
    "    result=0\n",
    "    for num in para:\n",
    "        result=result +num\n",
    "        \n",
    "    return result\n",
    "hap=0\n",
    "\n",
    "hap=para_func(10,20)\n",
    "print(\"%d\"%hap)\n",
    "hap=para_func(10,20,30)\n",
    "print(\"%d\"%hap)"
   ]
  },
  {
   "cell_type": "code",
   "execution_count": 84,
   "id": "c85debbf-b9ed-436b-ac12-3661325f9645",
   "metadata": {},
   "outputs": [
    {
     "ename": "SyntaxError",
     "evalue": "EOL while scanning string literal (Temp/ipykernel_8792/4276109867.py, line 4)",
     "output_type": "error",
     "traceback": [
      "\u001b[1;36m  File \u001b[1;32m\"C:\\Users\\BIT\\AppData\\Local\\Temp/ipykernel_8792/4276109867.py\"\u001b[1;36m, line \u001b[1;32m4\u001b[0m\n\u001b[1;33m    def dic_func(**para)\"=\u001b[0m\n\u001b[1;37m                          ^\u001b[0m\n\u001b[1;31mSyntaxError\u001b[0m\u001b[1;31m:\u001b[0m EOL while scanning string literal\n"
     ]
    }
   ],
   "source": [
    "#p.276\n",
    "##code 09-12\n",
    "\n",
    "def dic_func(**para)\"=\n",
    "    for k in para.keys():\n",
    "        print"
   ]
  },
  {
   "cell_type": "markdown",
   "id": "a7408295-459b-4cc5-bd08-44055dc92a4b",
   "metadata": {},
   "source": [
    "**가변형 인자&딕셔너리 인자**\n",
    "\n",
    "    : * > ** (switching x)\n",
    "    "
   ]
  },
  {
   "cell_type": "code",
   "execution_count": 85,
   "id": "f5d7aaf5-3e6c-429d-b10e-b61a0e30e8ef",
   "metadata": {},
   "outputs": [
    {
     "ename": "SyntaxError",
     "evalue": "invalid syntax (Temp/ipykernel_8792/1615002988.py, line 1)",
     "output_type": "error",
     "traceback": [
      "\u001b[1;36m  File \u001b[1;32m\"C:\\Users\\BIT\\AppData\\Local\\Temp/ipykernel_8792/1615002988.py\"\u001b[1;36m, line \u001b[1;32m1\u001b[0m\n\u001b[1;33m    def myf(*arg,*kwargs):\u001b[0m\n\u001b[1;37m                 ^\u001b[0m\n\u001b[1;31mSyntaxError\u001b[0m\u001b[1;31m:\u001b[0m invalid syntax\n"
     ]
    }
   ],
   "source": [
    "def myf(*arg,*kwargs):\n",
    "    print('args:',args)\n",
    "    print('kwargs:',kwargs)\n",
    "    \n",
    "\"\"\"    \n",
    "myfunction()\n",
    "myfunction(1)\n",
    "myfunction(a=3)\n",
    "myfunction(1,2,3,a=3)\n",
    "\"\"\""
   ]
  },
  {
   "cell_type": "markdown",
   "id": "37ba5be4-cc13-434d-81b7-780af05399bd",
   "metadata": {},
   "source": [
    "### 4. 모듈\n",
    "\n",
    "   **함수의 집합**\n",
    "   \n",
    "   - import MODULE\n",
    "   - import MODULE as alisa\n",
    "   - from MODULE import function\n",
    "   \n",
    "   \n",
    "   \n",
    "  라이브러리 : 소스코드 집합\n",
    "  "
   ]
  },
  {
   "cell_type": "markdown",
   "id": "beaf74f6-1be8-47db-a496-481f214911c2",
   "metadata": {},
   "source": [
    "**import MODULE**"
   ]
  },
  {
   "cell_type": "code",
   "execution_count": 1,
   "id": "8aa36222-c31f-4f2a-a765-af0e7f62b35d",
   "metadata": {},
   "outputs": [
    {
     "name": "stdout",
     "output_type": "stream",
     "text": [
      "module1.py\n",
      "module2.py\n",
      "module3.py\n"
     ]
    }
   ],
   "source": [
    "import Module1\n",
    "\n",
    "Module1.func1()\n",
    "Module1.func2()\n",
    "Module1.func3()\n"
   ]
  },
  {
   "cell_type": "code",
   "execution_count": 2,
   "id": "e4e3911d-f557-4826-8874-be50b6506910",
   "metadata": {},
   "outputs": [
    {
     "data": {
      "text/plain": [
       "module"
      ]
     },
     "execution_count": 2,
     "metadata": {},
     "output_type": "execute_result"
    }
   ],
   "source": [
    "type(Module1)"
   ]
  },
  {
   "cell_type": "code",
   "execution_count": 3,
   "id": "7d7ea92f-ba0f-4055-946c-05d0872e6b58",
   "metadata": {},
   "outputs": [
    {
     "data": {
      "text/plain": [
       "<module 'Module1' from 'C:\\\\Users\\\\BIT\\\\Works\\\\Module1.py'>"
      ]
     },
     "execution_count": 3,
     "metadata": {},
     "output_type": "execute_result"
    }
   ],
   "source": [
    "Module1"
   ]
  },
  {
   "cell_type": "code",
   "execution_count": 4,
   "id": "73d2a472-8b7b-4943-9e9c-c88d18535a64",
   "metadata": {},
   "outputs": [
    {
     "data": {
      "text/plain": [
       "3.14"
      ]
     },
     "execution_count": 4,
     "metadata": {},
     "output_type": "execute_result"
    }
   ],
   "source": [
    "Module1.PI"
   ]
  },
  {
   "cell_type": "code",
   "execution_count": 9,
   "id": "eb2bc188-8142-4dc5-b3bf-09d87f286af7",
   "metadata": {},
   "outputs": [
    {
     "name": "stdout",
     "output_type": "stream",
     "text": [
      "module1.py\n"
     ]
    }
   ],
   "source": [
    "Module1.func1()  ## 함수호출"
   ]
  },
  {
   "cell_type": "code",
   "execution_count": 8,
   "id": "d37712d6-84c3-4dc1-9e24-caf3f1b8cd40",
   "metadata": {},
   "outputs": [
    {
     "data": {
      "text/plain": [
       "<function Module1.func1()>"
      ]
     },
     "execution_count": 8,
     "metadata": {},
     "output_type": "execute_result"
    }
   ],
   "source": [
    "Module1.func1  ## 값 호출"
   ]
  },
  {
   "cell_type": "markdown",
   "id": "b5d5a54a-1a63-4439-aed4-9cd48a84a2f0",
   "metadata": {},
   "source": [
    "**import Module as m1**"
   ]
  },
  {
   "cell_type": "code",
   "execution_count": 10,
   "id": "e605b005-a4da-4ab5-8e84-bfb4fa3ce16d",
   "metadata": {},
   "outputs": [],
   "source": [
    "import Module1 as m1"
   ]
  },
  {
   "cell_type": "code",
   "execution_count": 11,
   "id": "15d8b410-f54d-44b5-9955-3a4d8b8b15bb",
   "metadata": {},
   "outputs": [
    {
     "name": "stdout",
     "output_type": "stream",
     "text": [
      "module2.py\n"
     ]
    }
   ],
   "source": [
    "m1.func2()"
   ]
  },
  {
   "cell_type": "markdown",
   "id": "3f2e7d8f-127f-49c6-87f4-d3cb98b1ca65",
   "metadata": {},
   "source": [
    "**MODULE.py func2()**\n",
    "\n",
    "    : module 안 특정 객체 호출시 사용"
   ]
  },
  {
   "cell_type": "code",
   "execution_count": 12,
   "id": "0274655a-bacc-4701-8b84-45d333cd3da0",
   "metadata": {},
   "outputs": [],
   "source": [
    "from Module1 import func1, func2"
   ]
  },
  {
   "cell_type": "code",
   "execution_count": 15,
   "id": "0188cd85-b187-42a7-9762-59e0e0f5e6e3",
   "metadata": {},
   "outputs": [
    {
     "name": "stdout",
     "output_type": "stream",
     "text": [
      "module1.py\n"
     ]
    }
   ],
   "source": [
    "func1()"
   ]
  },
  {
   "cell_type": "code",
   "execution_count": 16,
   "id": "4a696d9b-9825-45c7-85dd-2d2b4edf9264",
   "metadata": {},
   "outputs": [
    {
     "name": "stdout",
     "output_type": "stream",
     "text": [
      "module2.py\n"
     ]
    }
   ],
   "source": [
    "func2()"
   ]
  },
  {
   "cell_type": "code",
   "execution_count": 19,
   "id": "583b8912-f0c1-4385-b6bd-739c96b9407d",
   "metadata": {},
   "outputs": [
    {
     "name": "stdout",
     "output_type": "stream",
     "text": [
      " C 드라이브의 볼륨에는 이름이 없습니다.\n",
      " 볼륨 일련 번호: F0A2-E223\n",
      "\n",
      " C:\\Users\\BIT\\Works 디렉터리\n",
      "\n",
      "2022-03-24  오후 03:10               133 Module1.py\n",
      "2022-03-24  오후 03:20                71 Module2.py\n",
      "               2개 파일                 204 바이트\n",
      "               0개 디렉터리  93,306,753,024 바이트 남음\n"
     ]
    }
   ],
   "source": [
    "##Module2 test\n",
    "\n",
    "%ls *.py      "
   ]
  },
  {
   "cell_type": "code",
   "execution_count": 20,
   "id": "ff60214e-7db9-4903-8998-d05ada3f977b",
   "metadata": {},
   "outputs": [
    {
     "name": "stdout",
     "output_type": "stream",
     "text": [
      "Module2-->func1()\n"
     ]
    }
   ],
   "source": [
    "!python Module2.py"
   ]
  },
  {
   "cell_type": "code",
   "execution_count": 24,
   "id": "50d0730f-3143-4108-a1a5-ef083ad22915",
   "metadata": {},
   "outputs": [],
   "source": [
    "# other user\n",
    "## python : spurce==module\n",
    "\n",
    "import Module2"
   ]
  },
  {
   "cell_type": "markdown",
   "id": "d2cb2f2c-995f-49b4-b385-f913e02cb09a",
   "metadata": {},
   "source": [
    "**__main__적용**\n",
    "\n",
    "    -C/Java compiler language: start point!\n",
    "    -Python : none\n",
    "        startpoint 대체\n",
    "        module 테스트 코드"
   ]
  },
  {
   "cell_type": "code",
   "execution_count": 26,
   "id": "51b27468-3551-4cb5-ae0e-302eab7e8550",
   "metadata": {},
   "outputs": [
    {
     "name": "stdout",
     "output_type": "stream",
     "text": [
      "Module2-->func1()\n"
     ]
    }
   ],
   "source": [
    "!python Module3.py"
   ]
  },
  {
   "cell_type": "code",
   "execution_count": 27,
   "id": "b3a417ef-1baf-4294-9249-499e28345bf1",
   "metadata": {},
   "outputs": [],
   "source": [
    "import Module3"
   ]
  },
  {
   "cell_type": "code",
   "execution_count": null,
   "id": "ccb65b8f-14c0-4754-90e5-71900080b49b",
   "metadata": {},
   "outputs": [],
   "source": []
  },
  {
   "cell_type": "code",
   "execution_count": null,
   "id": "841bf27c-d1e3-491d-b5ae-b0a3d631f87d",
   "metadata": {},
   "outputs": [],
   "source": []
  },
  {
   "cell_type": "code",
   "execution_count": null,
   "id": "a0a54ae6-77cb-42fc-b796-5393c22c046c",
   "metadata": {},
   "outputs": [],
   "source": []
  },
  {
   "cell_type": "code",
   "execution_count": 28,
   "id": "e3427718-4eb5-4355-a5c3-aeb79193c985",
   "metadata": {},
   "outputs": [],
   "source": [
    "import Module3"
   ]
  },
  {
   "cell_type": "code",
   "execution_count": 29,
   "id": "adabcff3-1faa-412f-b34d-030a49e223ce",
   "metadata": {},
   "outputs": [
    {
     "name": "stdout",
     "output_type": "stream",
     "text": [
      "('_abc', '_ast', '_bisect', '_blake2', '_codecs', '_codecs_cn', '_codecs_hk', '_codecs_iso2022', '_codecs_jp', '_codecs_kr', '_codecs_tw', '_collections', '_contextvars', '_csv', '_datetime', '_functools', '_heapq', '_imp', '_io', '_json', '_locale', '_lsprof', '_md5', '_multibytecodec', '_opcode', '_operator', '_peg_parser', '_pickle', '_random', '_sha1', '_sha256', '_sha3', '_sha512', '_signal', '_sre', '_stat', '_statistics', '_string', '_struct', '_symtable', '_thread', '_tracemalloc', '_warnings', '_weakref', '_winapi', '_xxsubinterpreters', 'array', 'atexit', 'audioop', 'binascii', 'builtins', 'cmath', 'errno', 'faulthandler', 'gc', 'itertools', 'marshal', 'math', 'mmap', 'msvcrt', 'nt', 'parser', 'sys', 'time', 'winreg', 'xxsubtype', 'zlib')\n"
     ]
    }
   ],
   "source": [
    "import sys\n",
    "print(sys.builtin_module_names)"
   ]
  },
  {
   "cell_type": "code",
   "execution_count": 32,
   "id": "713d2b27-8c49-40c4-b952-10d4a17d553a",
   "metadata": {},
   "outputs": [
    {
     "data": {
      "text/plain": [
       "['__builtins__',\n",
       " '__cached__',\n",
       " '__doc__',\n",
       " '__file__',\n",
       " '__loader__',\n",
       " '__name__',\n",
       " '__package__',\n",
       " '__spec__',\n",
       " 'func1']"
      ]
     },
     "execution_count": 32,
     "metadata": {},
     "output_type": "execute_result"
    }
   ],
   "source": [
    "dir(Module3)  #Module 3 의 속성 ##__name__ 모든 object 내장"
   ]
  },
  {
   "cell_type": "code",
   "execution_count": 33,
   "id": "e92e5554-ebe1-475f-8702-35f413f820c6",
   "metadata": {},
   "outputs": [
    {
     "data": {
      "text/plain": [
       "'Module3'"
      ]
     },
     "execution_count": 33,
     "metadata": {},
     "output_type": "execute_result"
    }
   ],
   "source": [
    "Module3.__name__"
   ]
  },
  {
   "cell_type": "code",
   "execution_count": 34,
   "id": "5ea72ab9-fa6f-4790-a5b3-c269f015a435",
   "metadata": {},
   "outputs": [],
   "source": [
    "##>> __name__==__main__ Module 선언"
   ]
  },
  {
   "cell_type": "code",
   "execution_count": 35,
   "id": "2ec7ca5b-70af-4998-a3ee-c42b8ebc9fcb",
   "metadata": {},
   "outputs": [],
   "source": [
    "#p.277\n",
    "##1. getNumber > LottoModule.py 정의\n",
    "##2. LottoModule 불러와 코드 완성"
   ]
  },
  {
   "cell_type": "code",
   "execution_count": 57,
   "id": "435464c0-27c9-4a13-8e7f-fa9ee4989069",
   "metadata": {},
   "outputs": [
    {
     "ename": "SyntaxError",
     "evalue": "invalid syntax (Temp/ipykernel_6552/886771483.py, line 9)",
     "output_type": "error",
     "traceback": [
      "\u001b[1;36m  File \u001b[1;32m\"C:\\Users\\BIT\\AppData\\Local\\Temp/ipykernel_6552/886771483.py\"\u001b[1;36m, line \u001b[1;32m9\u001b[0m\n\u001b[1;33m    num lm.getNumber()\u001b[0m\n\u001b[1;37m        ^\u001b[0m\n\u001b[1;31mSyntaxError\u001b[0m\u001b[1;31m:\u001b[0m invalid syntax\n"
     ]
    }
   ],
   "source": [
    "import LottoModule as lm\n",
    "\n",
    "lotto=[]\n",
    "num=0\n",
    "\n",
    "print(\"start:\")\n",
    "\n",
    "while True: \n",
    "    num lm.getNumber()\n",
    "    \n",
    "    if lotto.count(num)==0:\n",
    "        lotto.append(num)\n",
    "        \n",
    "    if len(lotto)>=6:\n",
    "        break\n",
    "        \n",
    "print(\"추첨된 로또 번호:\",end='')\n",
    "lotto.sort()\n",
    "for i in range(0,6):\n",
    "    print(\"%d\" %lotto[i],end='')"
   ]
  },
  {
   "cell_type": "markdown",
   "id": "8ba8bf7d-7ec0-4a8a-8f29-baeb06abe8e4",
   "metadata": {},
   "source": [
    "### 패키지\n",
    "\n",
    "    package file > module"
   ]
  },
  {
   "cell_type": "code",
   "execution_count": 39,
   "id": "585ca617-1762-4823-870b-bb27e4138728",
   "metadata": {},
   "outputs": [],
   "source": [
    "import mypackage.Module3"
   ]
  },
  {
   "cell_type": "code",
   "execution_count": 40,
   "id": "25dde9fc-4564-4f43-946f-f700bd48c545",
   "metadata": {},
   "outputs": [
    {
     "name": "stdout",
     "output_type": "stream",
     "text": [
      "Module2-->func1()\n"
     ]
    }
   ],
   "source": [
    "mypackage.Module3.func1()"
   ]
  },
  {
   "cell_type": "code",
   "execution_count": null,
   "id": "7bd61bc1-5c17-4fe2-8274-ac79c3953fcd",
   "metadata": {},
   "outputs": [],
   "source": [
    "from mypackage import Module3"
   ]
  },
  {
   "cell_type": "code",
   "execution_count": null,
   "id": "c1074c17-d761-41c7-a5fb-55c28bd8e0d2",
   "metadata": {},
   "outputs": [],
   "source": []
  },
  {
   "cell_type": "markdown",
   "id": "0188073b-5d2e-4e80-9c31-e27f38ffab73",
   "metadata": {},
   "source": [
    "### Lambda function\n",
    "\n",
    "    : 내부 함수\n",
    "    \n",
    "    'Lambda' keyword > 이름 없는 함수 생성"
   ]
  },
  {
   "cell_type": "code",
   "execution_count": 41,
   "id": "ddaa2d18-b3b6-4ee6-9b9b-19345e85cb9c",
   "metadata": {},
   "outputs": [],
   "source": [
    "hap2 = lambda x,y : x+y        ## x,y: 매개변수\n"
   ]
  },
  {
   "cell_type": "code",
   "execution_count": 42,
   "id": "e0c60613-cede-416b-af77-61599ff00406",
   "metadata": {},
   "outputs": [
    {
     "data": {
      "text/plain": [
       "function"
      ]
     },
     "execution_count": 42,
     "metadata": {},
     "output_type": "execute_result"
    }
   ],
   "source": [
    "type(hap2)"
   ]
  },
  {
   "cell_type": "code",
   "execution_count": 43,
   "id": "ae78b483-c0f2-4db5-bba4-ffe322a6d145",
   "metadata": {},
   "outputs": [
    {
     "data": {
      "text/plain": [
       "<function __main__.<lambda>(x, y)>"
      ]
     },
     "execution_count": 43,
     "metadata": {},
     "output_type": "execute_result"
    }
   ],
   "source": [
    "hap2"
   ]
  },
  {
   "cell_type": "code",
   "execution_count": 44,
   "id": "dd5a5614-c710-45f9-84e7-69b512160d9b",
   "metadata": {},
   "outputs": [
    {
     "data": {
      "text/plain": [
       "300"
      ]
     },
     "execution_count": 44,
     "metadata": {},
     "output_type": "execute_result"
    }
   ],
   "source": [
    "hap2(100,200)"
   ]
  },
  {
   "cell_type": "code",
   "execution_count": 48,
   "id": "0baec7cf-ce7a-4149-a5a8-6361ac5ae3cb",
   "metadata": {},
   "outputs": [],
   "source": [
    "hap2 = lambda x=10,y=20 : x+y"
   ]
  },
  {
   "cell_type": "code",
   "execution_count": 50,
   "id": "3f64c196-bd85-4fff-9657-e1939d86b658",
   "metadata": {},
   "outputs": [
    {
     "data": {
      "text/plain": [
       "30"
      ]
     },
     "execution_count": 50,
     "metadata": {},
     "output_type": "execute_result"
    }
   ],
   "source": [
    "hap2()"
   ]
  },
  {
   "cell_type": "code",
   "execution_count": 52,
   "id": "3e721dd9-1c1a-442a-bc2c-8fc219557e70",
   "metadata": {},
   "outputs": [
    {
     "name": "stdout",
     "output_type": "stream",
     "text": [
      "[11, 12, 13, 14, 15]\n"
     ]
    }
   ],
   "source": [
    "#p.286 code \n",
    "\n",
    "li=[1,2,3,4,5]\n",
    "\n",
    "result=list(map(lambda x: x+10,li))\n",
    "print(result)"
   ]
  },
  {
   "cell_type": "markdown",
   "id": "4d918563-9915-4f61-9e4b-50ce3e89e8a7",
   "metadata": {},
   "source": [
    "### 재귀 함수\n",
    "\n",
    "    : 함수 내에서 자기자신 호출"
   ]
  },
  {
   "cell_type": "code",
   "execution_count": 53,
   "id": "8d34653f-c8d1-43e2-bd67-0f8d47ac3420",
   "metadata": {},
   "outputs": [],
   "source": [
    "#def selfCall():\n",
    "#    print('ha',end='')\n",
    "#    selfCall()\n",
    "#selfCall()\n"
   ]
  },
  {
   "cell_type": "code",
   "execution_count": 55,
   "id": "bec8b36d-bc44-4419-ba97-02f773e1379a",
   "metadata": {},
   "outputs": [
    {
     "name": "stdout",
     "output_type": "stream",
     "text": [
      "24\n",
      "3628800\n"
     ]
    }
   ],
   "source": [
    "def factorial(num):\n",
    "    if num<=1:\n",
    "        return num\n",
    "    else:\n",
    "        return num *factorial(num-1)\n",
    "print(factorial(4))\n",
    "print(factorial(10))"
   ]
  },
  {
   "cell_type": "markdown",
   "id": "8f61065a-27ac-4d7c-b2a8-35d932749aca",
   "metadata": {},
   "source": [
    "### 제너레이터, yield 문"
   ]
  },
  {
   "cell_type": "markdown",
   "id": "eb265aa2-b60a-4c63-b579-d182186f3c42",
   "metadata": {},
   "source": [
    "**yield : 함수 종결 x > 값 return**"
   ]
  },
  {
   "cell_type": "code",
   "execution_count": null,
   "id": "b68f8803-021a-4081-aa4f-97dffe2ed651",
   "metadata": {},
   "outputs": [],
   "source": []
  }
 ],
 "metadata": {
  "kernelspec": {
   "display_name": "Python 3 (ipykernel)",
   "language": "python",
   "name": "python3"
  },
  "language_info": {
   "codemirror_mode": {
    "name": "ipython",
    "version": 3
   },
   "file_extension": ".py",
   "mimetype": "text/x-python",
   "name": "python",
   "nbconvert_exporter": "python",
   "pygments_lexer": "ipython3",
   "version": "3.9.7"
  }
 },
 "nbformat": 4,
 "nbformat_minor": 5
}
