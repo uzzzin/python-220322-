{
 "cells": [
  {
   "cell_type": "markdown",
   "id": "bd20ae3b-e225-48ba-91fc-c7ee681d0ef3",
   "metadata": {},
   "source": [
    "#1"
   ]
  },
  {
   "cell_type": "code",
   "execution_count": 2,
   "id": "70942067-eb2b-45e9-af34-12cfd7ae8d50",
   "metadata": {},
   "outputs": [
    {
     "name": "stdout",
     "output_type": "stream",
     "text": [
      "m1.py~f1\n",
      "m1.py~f2\n",
      "m1.py~f3\n"
     ]
    }
   ],
   "source": [
    "import m1\n",
    "\n",
    "m1.func1()\n",
    "m1.func2()\n",
    "m1.func3()"
   ]
  },
  {
   "cell_type": "code",
   "execution_count": 3,
   "id": "066884d0-bd3a-43c9-8b91-beb0cdbe44ae",
   "metadata": {},
   "outputs": [
    {
     "name": "stdout",
     "output_type": "stream",
     "text": [
      "m1.py~f1\n",
      "m1.py~f2\n",
      "m1.py~f3\n"
     ]
    }
   ],
   "source": [
    "from m1 import func1,func2,func3\n",
    "\n",
    "func1()\n",
    "func2()\n",
    "func3()"
   ]
  },
  {
   "cell_type": "code",
   "execution_count": 4,
   "id": "c1cc8bc8-21a0-4e2e-8d43-4d4ff4292a41",
   "metadata": {},
   "outputs": [
    {
     "name": "stdout",
     "output_type": "stream",
     "text": [
      "m1.py~f1\n",
      "m1.py~f2\n",
      "m1.py~f3\n"
     ]
    }
   ],
   "source": [
    "from m1 import *\n",
    "\n",
    "func1()\n",
    "func2()\n",
    "func3()"
   ]
  },
  {
   "cell_type": "markdown",
   "id": "0b641c63-e26d-4ab5-af32-32e998dc8f39",
   "metadata": {},
   "source": [
    "## 2\n",
    "\n",
    "    모듈 종류\n",
    "        \n",
    "        1. 표준모듈\n",
    "            :파이썬 제공\n",
    "        2. 사용자정의모듈\n",
    "            :사용자 생성\n",
    "        3. 서드파티모듈\n",
    "            :외부 제공"
   ]
  },
  {
   "cell_type": "code",
   "execution_count": 11,
   "id": "4cd13ab4-eac1-4e29-a009-d709a051a89e",
   "metadata": {},
   "outputs": [
    {
     "name": "stdout",
     "output_type": "stream",
     "text": [
      "('_abc', '_ast', '_bisect', '_blake2', '_codecs', '_codecs_cn', '_codecs_hk', '_codecs_iso2022', '_codecs_jp', '_codecs_kr', '_codecs_tw', '_collections', '_contextvars', '_csv', '_datetime', '_functools', '_heapq', '_imp', '_io', '_json', '_locale', '_lsprof', '_md5', '_multibytecodec', '_opcode', '_operator', '_peg_parser', '_pickle', '_random', '_sha1', '_sha256', '_sha3', '_sha512', '_signal', '_sre', '_stat', '_statistics', '_string', '_struct', '_symtable', '_thread', '_tracemalloc', '_warnings', '_weakref', '_winapi', '_xxsubinterpreters', 'array', 'atexit', 'audioop', 'binascii', 'builtins', 'cmath', 'errno', 'faulthandler', 'gc', 'itertools', 'marshal', 'math', 'mmap', 'msvcrt', 'nt', 'parser', 'sys', 'time', 'winreg', 'xxsubtype', 'zlib')\n"
     ]
    }
   ],
   "source": [
    "## 표준모듈 : 파이썬 제공\n",
    "\n",
    "import sys\n",
    "print(sys.builtin_module_names)"
   ]
  },
  {
   "cell_type": "code",
   "execution_count": 15,
   "id": "a090a32d-6125-4025-8593-b697260a58c2",
   "metadata": {},
   "outputs": [
    {
     "data": {
      "text/plain": [
       "'IT_C'"
      ]
     },
     "execution_count": 15,
     "metadata": {},
     "output_type": "execute_result"
    }
   ],
   "source": [
    "ss='IT_CookBook'\n",
    "\n",
    "ss[:4]"
   ]
  },
  {
   "cell_type": "code",
   "execution_count": 17,
   "id": "fe4e685b-ec23-4e9c-a926-7d73cec92871",
   "metadata": {},
   "outputs": [
    {
     "name": "stdout",
     "output_type": "stream",
     "text": [
      "ho\n"
     ]
    }
   ],
   "source": [
    "ss='Python'\n",
    "print(ss[-3:-1])"
   ]
  },
  {
   "cell_type": "code",
   "execution_count": 19,
   "id": "ae3d4b1a-9e54-4bc9-9843-86050c27451c",
   "metadata": {},
   "outputs": [
    {
     "data": {
      "text/plain": [
       "'hanbitnetwork'"
      ]
     },
     "execution_count": 19,
     "metadata": {},
     "output_type": "execute_result"
    }
   ],
   "source": [
    "str1='hanbit'\n",
    "str2='network'\n",
    "\n",
    "str1+str2"
   ]
  },
  {
   "cell_type": "code",
   "execution_count": 22,
   "id": "2546996d-30cc-4f12-914d-98f8df7f2013",
   "metadata": {},
   "outputs": [
    {
     "name": "stdout",
     "output_type": "stream",
     "text": [
      "original: it_cookbook_python\n",
      "change: n#h#y#_#o#b#o#c#t#\n"
     ]
    }
   ],
   "source": [
    "#4\n",
    "\n",
    "instr='it_cookbook_python'\n",
    "outstr=''\n",
    "\n",
    "for i in range(0,len(instr)):\n",
    "    if i%2==0:\n",
    "        outstr+=instr[len(instr)-(i+1)]\n",
    "    else:\n",
    "        outstr+='#'\n",
    "        \n",
    "print('original:',instr)\n",
    "print('change:',outstr)"
   ]
  },
  {
   "cell_type": "code",
   "execution_count": null,
   "id": "c388d6c6-bea8-43c3-9d39-3b0ba23bdef0",
   "metadata": {},
   "outputs": [],
   "source": [
    "ss=\"python\"\n",
    "\n"
   ]
  }
 ],
 "metadata": {
  "kernelspec": {
   "display_name": "Python 3 (ipykernel)",
   "language": "python",
   "name": "python3"
  },
  "language_info": {
   "codemirror_mode": {
    "name": "ipython",
    "version": 3
   },
   "file_extension": ".py",
   "mimetype": "text/x-python",
   "name": "python",
   "nbconvert_exporter": "python",
   "pygments_lexer": "ipython3",
   "version": "3.9.7"
  }
 },
 "nbformat": 4,
 "nbformat_minor": 5
}
